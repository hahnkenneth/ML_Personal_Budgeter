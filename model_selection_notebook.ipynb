{
 "cells": [
  {
   "cell_type": "code",
   "execution_count": 8,
   "metadata": {},
   "outputs": [],
   "source": [
    "import sqlite3\n",
    "import pandas as pd\n",
    "import numpy as np\n",
    "import plotly.express as px\n",
    "import matplotlib.pyplot as plt\n",
    "import seaborn as sns\n",
    "import re\n",
    "\n",
    "import tensorflow as tf\n",
    "from transformers import (\n",
    "    DistilBertTokenizer, \n",
    "    TFDistilBertModel,\n",
    "    BertTokenizer, TFBertModel,\n",
    "    AutoTokenizer, AutoModelForSequenceClassification,\n",
    "    AutoModel, TFAutoModel\n",
    ")\n",
    "\n",
    "from sklearn.preprocessing import (\n",
    "    LabelEncoder,\n",
    "    StandardScaler,\n",
    "    OneHotEncoder,\n",
    "    RobustScaler,\n",
    "    LabelBinarizer\n",
    ")\n",
    "from sklearn.metrics import (\n",
    "    accuracy_score, \n",
    "    confusion_matrix, \n",
    "    ConfusionMatrixDisplay, \n",
    "    classification_report\n",
    ")\n",
    "from sklearn.model_selection import train_test_split\n",
    "from sklearn.ensemble import (\n",
    "    RandomForestClassifier, \n",
    "    VotingClassifier, \n",
    "    StackingClassifier\n",
    ")\n",
    "from sklearn.linear_model import LogisticRegression, LogisticRegressionCV\n",
    "from sklearn.neighbors import KNeighborsClassifier\n",
    "from sklearn.svm import SVC"
   ]
  },
  {
   "cell_type": "markdown",
   "metadata": {},
   "source": [
    "# Database Loading and Extraction  \n",
    "\n",
    "We have an excel sheet named \"transactions_for_labelling.xlsx\" and we are going to insert this into our transactions table. Now all of our transactions are labelled and we can used these to create our machine learning model."
   ]
  },
  {
   "cell_type": "code",
   "execution_count": 9,
   "metadata": {},
   "outputs": [
    {
     "name": "stdout",
     "output_type": "stream",
     "text": [
      "An error occurred: duplicate column name: labels\n"
     ]
    }
   ],
   "source": [
    "db_path = 'transactions.db'\n",
    "conn = sqlite3.connect(db_path)\n",
    "\n",
    "# add the new column for the labels of our transactions\n",
    "add_column_query = '''\n",
    "ALTER TABLE transactions \n",
    "ADD COLUMN labels TEXT DEFAULT NULL;\n",
    "'''\n",
    "\n",
    "try:\n",
    "    conn.execute(add_column_query)\n",
    "    conn.commit()\n",
    "except  sqlite3.OperationalError as e:\n",
    "    print(f'An error occurred: {e}') # don't execute if the column already exists"
   ]
  },
  {
   "cell_type": "code",
   "execution_count": 10,
   "metadata": {},
   "outputs": [
    {
     "name": "stderr",
     "output_type": "stream",
     "text": [
      "/Users/kennethhahn/github/ML Personal Budgeter/venv/lib/python3.7/site-packages/openpyxl/worksheet/_reader.py:329: UserWarning:\n",
      "\n",
      "Data Validation extension is not supported and will be removed\n",
      "\n"
     ]
    }
   ],
   "source": [
    "labeled_df = pd.read_excel('transactions_for_labelling.xlsx')\n",
    "labeled_df.head()\n",
    "\n",
    "cursor = conn.cursor()\n",
    "\n",
    "# update the labels based on the transaction_id from excel file\n",
    "update_query = '''\n",
    "UPDATE transactions\n",
    "SET labels = ?\n",
    "WHERE transaction_id = ?\n",
    "'''\n",
    "updated_data = labeled_df[['label','transaction_id']].values.tolist()\n",
    "cursor.executemany(update_query, updated_data)\n",
    "conn.commit()"
   ]
  },
  {
   "cell_type": "code",
   "execution_count": 18,
   "metadata": {},
   "outputs": [
    {
     "data": {
      "text/html": [
       "<div>\n",
       "<style scoped>\n",
       "    .dataframe tbody tr th:only-of-type {\n",
       "        vertical-align: middle;\n",
       "    }\n",
       "\n",
       "    .dataframe tbody tr th {\n",
       "        vertical-align: top;\n",
       "    }\n",
       "\n",
       "    .dataframe thead th {\n",
       "        text-align: right;\n",
       "    }\n",
       "</style>\n",
       "<table border=\"1\" class=\"dataframe\">\n",
       "  <thead>\n",
       "    <tr style=\"text-align: right;\">\n",
       "      <th></th>\n",
       "      <th>transaction_id</th>\n",
       "      <th>date</th>\n",
       "      <th>description</th>\n",
       "      <th>extended_details</th>\n",
       "      <th>amount</th>\n",
       "      <th>source</th>\n",
       "      <th>merchant</th>\n",
       "      <th>address</th>\n",
       "      <th>city</th>\n",
       "      <th>state</th>\n",
       "      <th>zip_code</th>\n",
       "      <th>category</th>\n",
       "      <th>labels</th>\n",
       "      <th>predicted_labels</th>\n",
       "    </tr>\n",
       "  </thead>\n",
       "  <tbody>\n",
       "    <tr>\n",
       "      <th>0</th>\n",
       "      <td>39080184f8974ac2106f80c9b470f26ca8e55132a29296...</td>\n",
       "      <td>2024-10-02</td>\n",
       "      <td>In-N-Out Burger</td>\n",
       "      <td>IN-N-OUT ANAHEIM</td>\n",
       "      <td>-13.85</td>\n",
       "      <td>boa_credit</td>\n",
       "      <td>None</td>\n",
       "      <td>None</td>\n",
       "      <td>None</td>\n",
       "      <td>None</td>\n",
       "      <td>None</td>\n",
       "      <td>Restaurants/Dining</td>\n",
       "      <td>dining</td>\n",
       "      <td>dining</td>\n",
       "    </tr>\n",
       "    <tr>\n",
       "      <th>1</th>\n",
       "      <td>e71d36f8019636ff51d106a47227b9e445555da5248232...</td>\n",
       "      <td>2024-10-01</td>\n",
       "      <td>Payment to US Department Of Education</td>\n",
       "      <td>DEPT EDUCATION   DES:STUDENT LN ID:6QCS48J968...</td>\n",
       "      <td>-885.73</td>\n",
       "      <td>boa_debit</td>\n",
       "      <td>None</td>\n",
       "      <td>None</td>\n",
       "      <td>None</td>\n",
       "      <td>None</td>\n",
       "      <td>None</td>\n",
       "      <td>Loans</td>\n",
       "      <td>debt</td>\n",
       "      <td>debt</td>\n",
       "    </tr>\n",
       "    <tr>\n",
       "      <th>2</th>\n",
       "      <td>19a88e101c0c0d72415064853fa56ffd25fd6f7abaeeb6...</td>\n",
       "      <td>2024-09-30</td>\n",
       "      <td>Transfer to Venmo</td>\n",
       "      <td>VENMO            DES:PAYMENT    ID:xxxxxxxxx8...</td>\n",
       "      <td>-15.00</td>\n",
       "      <td>boa_debit</td>\n",
       "      <td>None</td>\n",
       "      <td>None</td>\n",
       "      <td>None</td>\n",
       "      <td>None</td>\n",
       "      <td>None</td>\n",
       "      <td>Transfers</td>\n",
       "      <td>ignore</td>\n",
       "      <td>ignore</td>\n",
       "    </tr>\n",
       "    <tr>\n",
       "      <th>3</th>\n",
       "      <td>abead733580c30a9d32eccbb4d48740565ccef5aa0700c...</td>\n",
       "      <td>2024-09-30</td>\n",
       "      <td>Transfer from Venmo</td>\n",
       "      <td>VENMO            DES:CASHOUT    ID:xxxxxxxxx6...</td>\n",
       "      <td>205.00</td>\n",
       "      <td>boa_debit</td>\n",
       "      <td>None</td>\n",
       "      <td>None</td>\n",
       "      <td>None</td>\n",
       "      <td>None</td>\n",
       "      <td>None</td>\n",
       "      <td>Transfers</td>\n",
       "      <td>ignore</td>\n",
       "      <td>ignore</td>\n",
       "    </tr>\n",
       "    <tr>\n",
       "      <th>4</th>\n",
       "      <td>1950fd706e78b498ee29a07c8d56a95be891aa6807e75f...</td>\n",
       "      <td>2024-09-30</td>\n",
       "      <td>Vons</td>\n",
       "      <td>VONS #2041               GARDEN GROVE CA</td>\n",
       "      <td>-21.30</td>\n",
       "      <td>boa_credit</td>\n",
       "      <td>None</td>\n",
       "      <td>None</td>\n",
       "      <td>None</td>\n",
       "      <td>None</td>\n",
       "      <td>None</td>\n",
       "      <td>Groceries</td>\n",
       "      <td>groceries</td>\n",
       "      <td>dining</td>\n",
       "    </tr>\n",
       "  </tbody>\n",
       "</table>\n",
       "</div>"
      ],
      "text/plain": [
       "                                      transaction_id        date  \\\n",
       "0  39080184f8974ac2106f80c9b470f26ca8e55132a29296...  2024-10-02   \n",
       "1  e71d36f8019636ff51d106a47227b9e445555da5248232...  2024-10-01   \n",
       "2  19a88e101c0c0d72415064853fa56ffd25fd6f7abaeeb6...  2024-09-30   \n",
       "3  abead733580c30a9d32eccbb4d48740565ccef5aa0700c...  2024-09-30   \n",
       "4  1950fd706e78b498ee29a07c8d56a95be891aa6807e75f...  2024-09-30   \n",
       "\n",
       "                              description  \\\n",
       "0                         In-N-Out Burger   \n",
       "1   Payment to US Department Of Education   \n",
       "2                       Transfer to Venmo   \n",
       "3                     Transfer from Venmo   \n",
       "4                                    Vons   \n",
       "\n",
       "                                    extended_details   amount      source  \\\n",
       "0                                   IN-N-OUT ANAHEIM   -13.85  boa_credit   \n",
       "1   DEPT EDUCATION   DES:STUDENT LN ID:6QCS48J968...  -885.73   boa_debit   \n",
       "2   VENMO            DES:PAYMENT    ID:xxxxxxxxx8...   -15.00   boa_debit   \n",
       "3   VENMO            DES:CASHOUT    ID:xxxxxxxxx6...   205.00   boa_debit   \n",
       "4           VONS #2041               GARDEN GROVE CA   -21.30  boa_credit   \n",
       "\n",
       "  merchant address  city state zip_code            category     labels  \\\n",
       "0     None    None  None  None     None  Restaurants/Dining     dining   \n",
       "1     None    None  None  None     None               Loans       debt   \n",
       "2     None    None  None  None     None           Transfers     ignore   \n",
       "3     None    None  None  None     None           Transfers     ignore   \n",
       "4     None    None  None  None     None           Groceries  groceries   \n",
       "\n",
       "  predicted_labels  \n",
       "0           dining  \n",
       "1             debt  \n",
       "2           ignore  \n",
       "3           ignore  \n",
       "4           dining  "
      ]
     },
     "execution_count": 18,
     "metadata": {},
     "output_type": "execute_result"
    }
   ],
   "source": [
    "# extract all transactions into DataFrame\n",
    "extract_query = 'SELECT * FROM transactions'\n",
    "txns_df = pd.read_sql_query(extract_query, conn)\n",
    "\n",
    "txns_df.head()"
   ]
  },
  {
   "cell_type": "markdown",
   "metadata": {},
   "source": [
    "# Feature Engineering  \n",
    "\n",
    "Let's review the features, clean them, and organize them for the model."
   ]
  },
  {
   "cell_type": "markdown",
   "metadata": {},
   "source": [
    "## Review Labels  \n",
    "\n",
    "look at distribution of labels"
   ]
  },
  {
   "cell_type": "code",
   "execution_count": 19,
   "metadata": {},
   "outputs": [
    {
     "name": "stdout",
     "output_type": "stream",
     "text": [
      "There are 19 distinct categories.\n"
     ]
    },
    {
     "data": {
      "application/vnd.plotly.v1+json": {
       "config": {
        "plotlyServerURL": "https://plot.ly"
       },
       "data": [
        {
         "alignmentgroup": "True",
         "hovertemplate": "Category=%{x}<br>Frequency=%{y}<extra></extra>",
         "legendgroup": "dining",
         "marker": {
          "color": "#636efa",
          "pattern": {
           "shape": ""
          }
         },
         "name": "dining",
         "offsetgroup": "dining",
         "orientation": "v",
         "showlegend": true,
         "textposition": "auto",
         "type": "bar",
         "x": [
          "dining"
         ],
         "xaxis": "x",
         "y": [
          810
         ],
         "yaxis": "y"
        },
        {
         "alignmentgroup": "True",
         "hovertemplate": "Category=%{x}<br>Frequency=%{y}<extra></extra>",
         "legendgroup": "transportation",
         "marker": {
          "color": "#EF553B",
          "pattern": {
           "shape": ""
          }
         },
         "name": "transportation",
         "offsetgroup": "transportation",
         "orientation": "v",
         "showlegend": true,
         "textposition": "auto",
         "type": "bar",
         "x": [
          "transportation"
         ],
         "xaxis": "x",
         "y": [
          270
         ],
         "yaxis": "y"
        },
        {
         "alignmentgroup": "True",
         "hovertemplate": "Category=%{x}<br>Frequency=%{y}<extra></extra>",
         "legendgroup": "ignore",
         "marker": {
          "color": "#00cc96",
          "pattern": {
           "shape": ""
          }
         },
         "name": "ignore",
         "offsetgroup": "ignore",
         "orientation": "v",
         "showlegend": true,
         "textposition": "auto",
         "type": "bar",
         "x": [
          "ignore"
         ],
         "xaxis": "x",
         "y": [
          143
         ],
         "yaxis": "y"
        },
        {
         "alignmentgroup": "True",
         "hovertemplate": "Category=%{x}<br>Frequency=%{y}<extra></extra>",
         "legendgroup": "entertainment",
         "marker": {
          "color": "#ab63fa",
          "pattern": {
           "shape": ""
          }
         },
         "name": "entertainment",
         "offsetgroup": "entertainment",
         "orientation": "v",
         "showlegend": true,
         "textposition": "auto",
         "type": "bar",
         "x": [
          "entertainment"
         ],
         "xaxis": "x",
         "y": [
          114
         ],
         "yaxis": "y"
        },
        {
         "alignmentgroup": "True",
         "hovertemplate": "Category=%{x}<br>Frequency=%{y}<extra></extra>",
         "legendgroup": "groceries",
         "marker": {
          "color": "#FFA15A",
          "pattern": {
           "shape": ""
          }
         },
         "name": "groceries",
         "offsetgroup": "groceries",
         "orientation": "v",
         "showlegend": true,
         "textposition": "auto",
         "type": "bar",
         "x": [
          "groceries"
         ],
         "xaxis": "x",
         "y": [
          88
         ],
         "yaxis": "y"
        },
        {
         "alignmentgroup": "True",
         "hovertemplate": "Category=%{x}<br>Frequency=%{y}<extra></extra>",
         "legendgroup": "personal_care",
         "marker": {
          "color": "#19d3f3",
          "pattern": {
           "shape": ""
          }
         },
         "name": "personal_care",
         "offsetgroup": "personal_care",
         "orientation": "v",
         "showlegend": true,
         "textposition": "auto",
         "type": "bar",
         "x": [
          "personal_care"
         ],
         "xaxis": "x",
         "y": [
          82
         ],
         "yaxis": "y"
        },
        {
         "alignmentgroup": "True",
         "hovertemplate": "Category=%{x}<br>Frequency=%{y}<extra></extra>",
         "legendgroup": "shopping",
         "marker": {
          "color": "#FF6692",
          "pattern": {
           "shape": ""
          }
         },
         "name": "shopping",
         "offsetgroup": "shopping",
         "orientation": "v",
         "showlegend": true,
         "textposition": "auto",
         "type": "bar",
         "x": [
          "shopping"
         ],
         "xaxis": "x",
         "y": [
          80
         ],
         "yaxis": "y"
        },
        {
         "alignmentgroup": "True",
         "hovertemplate": "Category=%{x}<br>Frequency=%{y}<extra></extra>",
         "legendgroup": "travel",
         "marker": {
          "color": "#B6E880",
          "pattern": {
           "shape": ""
          }
         },
         "name": "travel",
         "offsetgroup": "travel",
         "orientation": "v",
         "showlegend": true,
         "textposition": "auto",
         "type": "bar",
         "x": [
          "travel"
         ],
         "xaxis": "x",
         "y": [
          67
         ],
         "yaxis": "y"
        },
        {
         "alignmentgroup": "True",
         "hovertemplate": "Category=%{x}<br>Frequency=%{y}<extra></extra>",
         "legendgroup": "subscriptions",
         "marker": {
          "color": "#FF97FF",
          "pattern": {
           "shape": ""
          }
         },
         "name": "subscriptions",
         "offsetgroup": "subscriptions",
         "orientation": "v",
         "showlegend": true,
         "textposition": "auto",
         "type": "bar",
         "x": [
          "subscriptions"
         ],
         "xaxis": "x",
         "y": [
          54
         ],
         "yaxis": "y"
        },
        {
         "alignmentgroup": "True",
         "hovertemplate": "Category=%{x}<br>Frequency=%{y}<extra></extra>",
         "legendgroup": "utilities",
         "marker": {
          "color": "#FECB52",
          "pattern": {
           "shape": ""
          }
         },
         "name": "utilities",
         "offsetgroup": "utilities",
         "orientation": "v",
         "showlegend": true,
         "textposition": "auto",
         "type": "bar",
         "x": [
          "utilities"
         ],
         "xaxis": "x",
         "y": [
          47
         ],
         "yaxis": "y"
        },
        {
         "alignmentgroup": "True",
         "hovertemplate": "Category=%{x}<br>Frequency=%{y}<extra></extra>",
         "legendgroup": "income",
         "marker": {
          "color": "#636efa",
          "pattern": {
           "shape": ""
          }
         },
         "name": "income",
         "offsetgroup": "income",
         "orientation": "v",
         "showlegend": true,
         "textposition": "auto",
         "type": "bar",
         "x": [
          "income"
         ],
         "xaxis": "x",
         "y": [
          27
         ],
         "yaxis": "y"
        },
        {
         "alignmentgroup": "True",
         "hovertemplate": "Category=%{x}<br>Frequency=%{y}<extra></extra>",
         "legendgroup": "investments",
         "marker": {
          "color": "#EF553B",
          "pattern": {
           "shape": ""
          }
         },
         "name": "investments",
         "offsetgroup": "investments",
         "orientation": "v",
         "showlegend": true,
         "textposition": "auto",
         "type": "bar",
         "x": [
          "investments"
         ],
         "xaxis": "x",
         "y": [
          22
         ],
         "yaxis": "y"
        },
        {
         "alignmentgroup": "True",
         "hovertemplate": "Category=%{x}<br>Frequency=%{y}<extra></extra>",
         "legendgroup": "debt",
         "marker": {
          "color": "#00cc96",
          "pattern": {
           "shape": ""
          }
         },
         "name": "debt",
         "offsetgroup": "debt",
         "orientation": "v",
         "showlegend": true,
         "textposition": "auto",
         "type": "bar",
         "x": [
          "debt"
         ],
         "xaxis": "x",
         "y": [
          21
         ],
         "yaxis": "y"
        },
        {
         "alignmentgroup": "True",
         "hovertemplate": "Category=%{x}<br>Frequency=%{y}<extra></extra>",
         "legendgroup": "insurance",
         "marker": {
          "color": "#ab63fa",
          "pattern": {
           "shape": ""
          }
         },
         "name": "insurance",
         "offsetgroup": "insurance",
         "orientation": "v",
         "showlegend": true,
         "textposition": "auto",
         "type": "bar",
         "x": [
          "insurance"
         ],
         "xaxis": "x",
         "y": [
          12
         ],
         "yaxis": "y"
        },
        {
         "alignmentgroup": "True",
         "hovertemplate": "Category=%{x}<br>Frequency=%{y}<extra></extra>",
         "legendgroup": "fees",
         "marker": {
          "color": "#FFA15A",
          "pattern": {
           "shape": ""
          }
         },
         "name": "fees",
         "offsetgroup": "fees",
         "orientation": "v",
         "showlegend": true,
         "textposition": "auto",
         "type": "bar",
         "x": [
          "fees"
         ],
         "xaxis": "x",
         "y": [
          8
         ],
         "yaxis": "y"
        },
        {
         "alignmentgroup": "True",
         "hovertemplate": "Category=%{x}<br>Frequency=%{y}<extra></extra>",
         "legendgroup": "housing",
         "marker": {
          "color": "#19d3f3",
          "pattern": {
           "shape": ""
          }
         },
         "name": "housing",
         "offsetgroup": "housing",
         "orientation": "v",
         "showlegend": true,
         "textposition": "auto",
         "type": "bar",
         "x": [
          "housing"
         ],
         "xaxis": "x",
         "y": [
          8
         ],
         "yaxis": "y"
        },
        {
         "alignmentgroup": "True",
         "hovertemplate": "Category=%{x}<br>Frequency=%{y}<extra></extra>",
         "legendgroup": "education",
         "marker": {
          "color": "#FF6692",
          "pattern": {
           "shape": ""
          }
         },
         "name": "education",
         "offsetgroup": "education",
         "orientation": "v",
         "showlegend": true,
         "textposition": "auto",
         "type": "bar",
         "x": [
          "education"
         ],
         "xaxis": "x",
         "y": [
          4
         ],
         "yaxis": "y"
        },
        {
         "alignmentgroup": "True",
         "hovertemplate": "Category=%{x}<br>Frequency=%{y}<extra></extra>",
         "legendgroup": "misc",
         "marker": {
          "color": "#B6E880",
          "pattern": {
           "shape": ""
          }
         },
         "name": "misc",
         "offsetgroup": "misc",
         "orientation": "v",
         "showlegend": true,
         "textposition": "auto",
         "type": "bar",
         "x": [
          "misc"
         ],
         "xaxis": "x",
         "y": [
          4
         ],
         "yaxis": "y"
        },
        {
         "alignmentgroup": "True",
         "hovertemplate": "Category=%{x}<br>Frequency=%{y}<extra></extra>",
         "legendgroup": "healthcare",
         "marker": {
          "color": "#FF97FF",
          "pattern": {
           "shape": ""
          }
         },
         "name": "healthcare",
         "offsetgroup": "healthcare",
         "orientation": "v",
         "showlegend": true,
         "textposition": "auto",
         "type": "bar",
         "x": [
          "healthcare"
         ],
         "xaxis": "x",
         "y": [
          2
         ],
         "yaxis": "y"
        }
       ],
       "layout": {
        "barmode": "relative",
        "legend": {
         "title": {
          "text": "Category"
         },
         "tracegroupgap": 0
        },
        "template": {
         "data": {
          "bar": [
           {
            "error_x": {
             "color": "#2a3f5f"
            },
            "error_y": {
             "color": "#2a3f5f"
            },
            "marker": {
             "line": {
              "color": "#E5ECF6",
              "width": 0.5
             },
             "pattern": {
              "fillmode": "overlay",
              "size": 10,
              "solidity": 0.2
             }
            },
            "type": "bar"
           }
          ],
          "barpolar": [
           {
            "marker": {
             "line": {
              "color": "#E5ECF6",
              "width": 0.5
             },
             "pattern": {
              "fillmode": "overlay",
              "size": 10,
              "solidity": 0.2
             }
            },
            "type": "barpolar"
           }
          ],
          "carpet": [
           {
            "aaxis": {
             "endlinecolor": "#2a3f5f",
             "gridcolor": "white",
             "linecolor": "white",
             "minorgridcolor": "white",
             "startlinecolor": "#2a3f5f"
            },
            "baxis": {
             "endlinecolor": "#2a3f5f",
             "gridcolor": "white",
             "linecolor": "white",
             "minorgridcolor": "white",
             "startlinecolor": "#2a3f5f"
            },
            "type": "carpet"
           }
          ],
          "choropleth": [
           {
            "colorbar": {
             "outlinewidth": 0,
             "ticks": ""
            },
            "type": "choropleth"
           }
          ],
          "contour": [
           {
            "colorbar": {
             "outlinewidth": 0,
             "ticks": ""
            },
            "colorscale": [
             [
              0,
              "#0d0887"
             ],
             [
              0.1111111111111111,
              "#46039f"
             ],
             [
              0.2222222222222222,
              "#7201a8"
             ],
             [
              0.3333333333333333,
              "#9c179e"
             ],
             [
              0.4444444444444444,
              "#bd3786"
             ],
             [
              0.5555555555555556,
              "#d8576b"
             ],
             [
              0.6666666666666666,
              "#ed7953"
             ],
             [
              0.7777777777777778,
              "#fb9f3a"
             ],
             [
              0.8888888888888888,
              "#fdca26"
             ],
             [
              1,
              "#f0f921"
             ]
            ],
            "type": "contour"
           }
          ],
          "contourcarpet": [
           {
            "colorbar": {
             "outlinewidth": 0,
             "ticks": ""
            },
            "type": "contourcarpet"
           }
          ],
          "heatmap": [
           {
            "colorbar": {
             "outlinewidth": 0,
             "ticks": ""
            },
            "colorscale": [
             [
              0,
              "#0d0887"
             ],
             [
              0.1111111111111111,
              "#46039f"
             ],
             [
              0.2222222222222222,
              "#7201a8"
             ],
             [
              0.3333333333333333,
              "#9c179e"
             ],
             [
              0.4444444444444444,
              "#bd3786"
             ],
             [
              0.5555555555555556,
              "#d8576b"
             ],
             [
              0.6666666666666666,
              "#ed7953"
             ],
             [
              0.7777777777777778,
              "#fb9f3a"
             ],
             [
              0.8888888888888888,
              "#fdca26"
             ],
             [
              1,
              "#f0f921"
             ]
            ],
            "type": "heatmap"
           }
          ],
          "heatmapgl": [
           {
            "colorbar": {
             "outlinewidth": 0,
             "ticks": ""
            },
            "colorscale": [
             [
              0,
              "#0d0887"
             ],
             [
              0.1111111111111111,
              "#46039f"
             ],
             [
              0.2222222222222222,
              "#7201a8"
             ],
             [
              0.3333333333333333,
              "#9c179e"
             ],
             [
              0.4444444444444444,
              "#bd3786"
             ],
             [
              0.5555555555555556,
              "#d8576b"
             ],
             [
              0.6666666666666666,
              "#ed7953"
             ],
             [
              0.7777777777777778,
              "#fb9f3a"
             ],
             [
              0.8888888888888888,
              "#fdca26"
             ],
             [
              1,
              "#f0f921"
             ]
            ],
            "type": "heatmapgl"
           }
          ],
          "histogram": [
           {
            "marker": {
             "pattern": {
              "fillmode": "overlay",
              "size": 10,
              "solidity": 0.2
             }
            },
            "type": "histogram"
           }
          ],
          "histogram2d": [
           {
            "colorbar": {
             "outlinewidth": 0,
             "ticks": ""
            },
            "colorscale": [
             [
              0,
              "#0d0887"
             ],
             [
              0.1111111111111111,
              "#46039f"
             ],
             [
              0.2222222222222222,
              "#7201a8"
             ],
             [
              0.3333333333333333,
              "#9c179e"
             ],
             [
              0.4444444444444444,
              "#bd3786"
             ],
             [
              0.5555555555555556,
              "#d8576b"
             ],
             [
              0.6666666666666666,
              "#ed7953"
             ],
             [
              0.7777777777777778,
              "#fb9f3a"
             ],
             [
              0.8888888888888888,
              "#fdca26"
             ],
             [
              1,
              "#f0f921"
             ]
            ],
            "type": "histogram2d"
           }
          ],
          "histogram2dcontour": [
           {
            "colorbar": {
             "outlinewidth": 0,
             "ticks": ""
            },
            "colorscale": [
             [
              0,
              "#0d0887"
             ],
             [
              0.1111111111111111,
              "#46039f"
             ],
             [
              0.2222222222222222,
              "#7201a8"
             ],
             [
              0.3333333333333333,
              "#9c179e"
             ],
             [
              0.4444444444444444,
              "#bd3786"
             ],
             [
              0.5555555555555556,
              "#d8576b"
             ],
             [
              0.6666666666666666,
              "#ed7953"
             ],
             [
              0.7777777777777778,
              "#fb9f3a"
             ],
             [
              0.8888888888888888,
              "#fdca26"
             ],
             [
              1,
              "#f0f921"
             ]
            ],
            "type": "histogram2dcontour"
           }
          ],
          "mesh3d": [
           {
            "colorbar": {
             "outlinewidth": 0,
             "ticks": ""
            },
            "type": "mesh3d"
           }
          ],
          "parcoords": [
           {
            "line": {
             "colorbar": {
              "outlinewidth": 0,
              "ticks": ""
             }
            },
            "type": "parcoords"
           }
          ],
          "pie": [
           {
            "automargin": true,
            "type": "pie"
           }
          ],
          "scatter": [
           {
            "fillpattern": {
             "fillmode": "overlay",
             "size": 10,
             "solidity": 0.2
            },
            "type": "scatter"
           }
          ],
          "scatter3d": [
           {
            "line": {
             "colorbar": {
              "outlinewidth": 0,
              "ticks": ""
             }
            },
            "marker": {
             "colorbar": {
              "outlinewidth": 0,
              "ticks": ""
             }
            },
            "type": "scatter3d"
           }
          ],
          "scattercarpet": [
           {
            "marker": {
             "colorbar": {
              "outlinewidth": 0,
              "ticks": ""
             }
            },
            "type": "scattercarpet"
           }
          ],
          "scattergeo": [
           {
            "marker": {
             "colorbar": {
              "outlinewidth": 0,
              "ticks": ""
             }
            },
            "type": "scattergeo"
           }
          ],
          "scattergl": [
           {
            "marker": {
             "colorbar": {
              "outlinewidth": 0,
              "ticks": ""
             }
            },
            "type": "scattergl"
           }
          ],
          "scattermapbox": [
           {
            "marker": {
             "colorbar": {
              "outlinewidth": 0,
              "ticks": ""
             }
            },
            "type": "scattermapbox"
           }
          ],
          "scatterpolar": [
           {
            "marker": {
             "colorbar": {
              "outlinewidth": 0,
              "ticks": ""
             }
            },
            "type": "scatterpolar"
           }
          ],
          "scatterpolargl": [
           {
            "marker": {
             "colorbar": {
              "outlinewidth": 0,
              "ticks": ""
             }
            },
            "type": "scatterpolargl"
           }
          ],
          "scatterternary": [
           {
            "marker": {
             "colorbar": {
              "outlinewidth": 0,
              "ticks": ""
             }
            },
            "type": "scatterternary"
           }
          ],
          "surface": [
           {
            "colorbar": {
             "outlinewidth": 0,
             "ticks": ""
            },
            "colorscale": [
             [
              0,
              "#0d0887"
             ],
             [
              0.1111111111111111,
              "#46039f"
             ],
             [
              0.2222222222222222,
              "#7201a8"
             ],
             [
              0.3333333333333333,
              "#9c179e"
             ],
             [
              0.4444444444444444,
              "#bd3786"
             ],
             [
              0.5555555555555556,
              "#d8576b"
             ],
             [
              0.6666666666666666,
              "#ed7953"
             ],
             [
              0.7777777777777778,
              "#fb9f3a"
             ],
             [
              0.8888888888888888,
              "#fdca26"
             ],
             [
              1,
              "#f0f921"
             ]
            ],
            "type": "surface"
           }
          ],
          "table": [
           {
            "cells": {
             "fill": {
              "color": "#EBF0F8"
             },
             "line": {
              "color": "white"
             }
            },
            "header": {
             "fill": {
              "color": "#C8D4E3"
             },
             "line": {
              "color": "white"
             }
            },
            "type": "table"
           }
          ]
         },
         "layout": {
          "annotationdefaults": {
           "arrowcolor": "#2a3f5f",
           "arrowhead": 0,
           "arrowwidth": 1
          },
          "autotypenumbers": "strict",
          "coloraxis": {
           "colorbar": {
            "outlinewidth": 0,
            "ticks": ""
           }
          },
          "colorscale": {
           "diverging": [
            [
             0,
             "#8e0152"
            ],
            [
             0.1,
             "#c51b7d"
            ],
            [
             0.2,
             "#de77ae"
            ],
            [
             0.3,
             "#f1b6da"
            ],
            [
             0.4,
             "#fde0ef"
            ],
            [
             0.5,
             "#f7f7f7"
            ],
            [
             0.6,
             "#e6f5d0"
            ],
            [
             0.7,
             "#b8e186"
            ],
            [
             0.8,
             "#7fbc41"
            ],
            [
             0.9,
             "#4d9221"
            ],
            [
             1,
             "#276419"
            ]
           ],
           "sequential": [
            [
             0,
             "#0d0887"
            ],
            [
             0.1111111111111111,
             "#46039f"
            ],
            [
             0.2222222222222222,
             "#7201a8"
            ],
            [
             0.3333333333333333,
             "#9c179e"
            ],
            [
             0.4444444444444444,
             "#bd3786"
            ],
            [
             0.5555555555555556,
             "#d8576b"
            ],
            [
             0.6666666666666666,
             "#ed7953"
            ],
            [
             0.7777777777777778,
             "#fb9f3a"
            ],
            [
             0.8888888888888888,
             "#fdca26"
            ],
            [
             1,
             "#f0f921"
            ]
           ],
           "sequentialminus": [
            [
             0,
             "#0d0887"
            ],
            [
             0.1111111111111111,
             "#46039f"
            ],
            [
             0.2222222222222222,
             "#7201a8"
            ],
            [
             0.3333333333333333,
             "#9c179e"
            ],
            [
             0.4444444444444444,
             "#bd3786"
            ],
            [
             0.5555555555555556,
             "#d8576b"
            ],
            [
             0.6666666666666666,
             "#ed7953"
            ],
            [
             0.7777777777777778,
             "#fb9f3a"
            ],
            [
             0.8888888888888888,
             "#fdca26"
            ],
            [
             1,
             "#f0f921"
            ]
           ]
          },
          "colorway": [
           "#636efa",
           "#EF553B",
           "#00cc96",
           "#ab63fa",
           "#FFA15A",
           "#19d3f3",
           "#FF6692",
           "#B6E880",
           "#FF97FF",
           "#FECB52"
          ],
          "font": {
           "color": "#2a3f5f"
          },
          "geo": {
           "bgcolor": "white",
           "lakecolor": "white",
           "landcolor": "#E5ECF6",
           "showlakes": true,
           "showland": true,
           "subunitcolor": "white"
          },
          "hoverlabel": {
           "align": "left"
          },
          "hovermode": "closest",
          "mapbox": {
           "style": "light"
          },
          "paper_bgcolor": "white",
          "plot_bgcolor": "#E5ECF6",
          "polar": {
           "angularaxis": {
            "gridcolor": "white",
            "linecolor": "white",
            "ticks": ""
           },
           "bgcolor": "#E5ECF6",
           "radialaxis": {
            "gridcolor": "white",
            "linecolor": "white",
            "ticks": ""
           }
          },
          "scene": {
           "xaxis": {
            "backgroundcolor": "#E5ECF6",
            "gridcolor": "white",
            "gridwidth": 2,
            "linecolor": "white",
            "showbackground": true,
            "ticks": "",
            "zerolinecolor": "white"
           },
           "yaxis": {
            "backgroundcolor": "#E5ECF6",
            "gridcolor": "white",
            "gridwidth": 2,
            "linecolor": "white",
            "showbackground": true,
            "ticks": "",
            "zerolinecolor": "white"
           },
           "zaxis": {
            "backgroundcolor": "#E5ECF6",
            "gridcolor": "white",
            "gridwidth": 2,
            "linecolor": "white",
            "showbackground": true,
            "ticks": "",
            "zerolinecolor": "white"
           }
          },
          "shapedefaults": {
           "line": {
            "color": "#2a3f5f"
           }
          },
          "ternary": {
           "aaxis": {
            "gridcolor": "white",
            "linecolor": "white",
            "ticks": ""
           },
           "baxis": {
            "gridcolor": "white",
            "linecolor": "white",
            "ticks": ""
           },
           "bgcolor": "#E5ECF6",
           "caxis": {
            "gridcolor": "white",
            "linecolor": "white",
            "ticks": ""
           }
          },
          "title": {
           "x": 0.05
          },
          "xaxis": {
           "automargin": true,
           "gridcolor": "white",
           "linecolor": "white",
           "ticks": "",
           "title": {
            "standoff": 15
           },
           "zerolinecolor": "white",
           "zerolinewidth": 2
          },
          "yaxis": {
           "automargin": true,
           "gridcolor": "white",
           "linecolor": "white",
           "ticks": "",
           "title": {
            "standoff": 15
           },
           "zerolinecolor": "white",
           "zerolinewidth": 2
          }
         }
        },
        "title": {
         "text": "Frequency of Labels"
        },
        "xaxis": {
         "anchor": "y",
         "categoryarray": [
          "dining",
          "transportation",
          "ignore",
          "entertainment",
          "groceries",
          "personal_care",
          "shopping",
          "travel",
          "subscriptions",
          "utilities",
          "income",
          "investments",
          "debt",
          "insurance",
          "fees",
          "housing",
          "education",
          "misc",
          "healthcare"
         ],
         "categoryorder": "array",
         "domain": [
          0,
          1
         ],
         "title": {
          "text": "Category"
         }
        },
        "yaxis": {
         "anchor": "x",
         "domain": [
          0,
          1
         ],
         "title": {
          "text": "Frequency"
         }
        }
       }
      }
     },
     "metadata": {},
     "output_type": "display_data"
    }
   ],
   "source": [
    "label_counts = txns_df['labels'].value_counts().reset_index()\n",
    "\n",
    "print(f'There are {label_counts.shape[0]} distinct categories.')\n",
    "\n",
    "fig = px.bar(label_counts, x='index', y='labels', title='Frequency of Labels',\n",
    "             labels={'index': 'Category', 'labels':'Frequency'},\n",
    "             color='index',\n",
    "             hover_data={'labels':True})\n",
    "\n",
    "fig.show()"
   ]
  },
  {
   "cell_type": "code",
   "execution_count": null,
   "metadata": {},
   "outputs": [
    {
     "data": {
      "application/vnd.plotly.v1+json": {
       "config": {
        "plotlyServerURL": "https://plot.ly"
       },
       "data": [
        {
         "alignmentgroup": "True",
         "hovertemplate": "Category=%{x}<br>amount=%{y}<extra></extra>",
         "legendgroup": "debt",
         "marker": {
          "color": "#636efa",
          "pattern": {
           "shape": ""
          }
         },
         "name": "debt",
         "offsetgroup": "debt",
         "orientation": "v",
         "showlegend": true,
         "textposition": "auto",
         "type": "bar",
         "x": [
          "debt"
         ],
         "xaxis": "x",
         "y": [
          12070.522232916393
         ],
         "yaxis": "y"
        },
        {
         "alignmentgroup": "True",
         "hovertemplate": "Category=%{x}<br>amount=%{y}<extra></extra>",
         "legendgroup": "dining",
         "marker": {
          "color": "#EF553B",
          "pattern": {
           "shape": ""
          }
         },
         "name": "dining",
         "offsetgroup": "dining",
         "orientation": "v",
         "showlegend": true,
         "textposition": "auto",
         "type": "bar",
         "x": [
          "dining"
         ],
         "xaxis": "x",
         "y": [
          -26925.617103368484
         ],
         "yaxis": "y"
        },
        {
         "alignmentgroup": "True",
         "hovertemplate": "Category=%{x}<br>amount=%{y}<extra></extra>",
         "legendgroup": "education",
         "marker": {
          "color": "#00cc96",
          "pattern": {
           "shape": ""
          }
         },
         "name": "education",
         "offsetgroup": "education",
         "orientation": "v",
         "showlegend": true,
         "textposition": "auto",
         "type": "bar",
         "x": [
          "education"
         ],
         "xaxis": "x",
         "y": [
          -27956.425733934782
         ],
         "yaxis": "y"
        },
        {
         "alignmentgroup": "True",
         "hovertemplate": "Category=%{x}<br>amount=%{y}<extra></extra>",
         "legendgroup": "entertainment",
         "marker": {
          "color": "#ab63fa",
          "pattern": {
           "shape": ""
          }
         },
         "name": "entertainment",
         "offsetgroup": "entertainment",
         "orientation": "v",
         "showlegend": true,
         "textposition": "auto",
         "type": "bar",
         "x": [
          "entertainment"
         ],
         "xaxis": "x",
         "y": [
          -25368.559460899185
         ],
         "yaxis": "y"
        },
        {
         "alignmentgroup": "True",
         "hovertemplate": "Category=%{x}<br>amount=%{y}<extra></extra>",
         "legendgroup": "fees",
         "marker": {
          "color": "#FFA15A",
          "pattern": {
           "shape": ""
          }
         },
         "name": "fees",
         "offsetgroup": "fees",
         "orientation": "v",
         "showlegend": true,
         "textposition": "auto",
         "type": "bar",
         "x": [
          "fees"
         ],
         "xaxis": "x",
         "y": [
          2457.384336726168
         ],
         "yaxis": "y"
        },
        {
         "alignmentgroup": "True",
         "hovertemplate": "Category=%{x}<br>amount=%{y}<extra></extra>",
         "legendgroup": "groceries",
         "marker": {
          "color": "#19d3f3",
          "pattern": {
           "shape": ""
          }
         },
         "name": "groceries",
         "offsetgroup": "groceries",
         "orientation": "v",
         "showlegend": true,
         "textposition": "auto",
         "type": "bar",
         "x": [
          "groceries"
         ],
         "xaxis": "x",
         "y": [
          1906.859968666262
         ],
         "yaxis": "y"
        },
        {
         "alignmentgroup": "True",
         "hovertemplate": "Category=%{x}<br>amount=%{y}<extra></extra>",
         "legendgroup": "healthcare",
         "marker": {
          "color": "#FF6692",
          "pattern": {
           "shape": ""
          }
         },
         "name": "healthcare",
         "offsetgroup": "healthcare",
         "orientation": "v",
         "showlegend": true,
         "textposition": "auto",
         "type": "bar",
         "x": [
          "healthcare"
         ],
         "xaxis": "x",
         "y": [
          -5232.683462706535
         ],
         "yaxis": "y"
        },
        {
         "alignmentgroup": "True",
         "hovertemplate": "Category=%{x}<br>amount=%{y}<extra></extra>",
         "legendgroup": "housing",
         "marker": {
          "color": "#B6E880",
          "pattern": {
           "shape": ""
          }
         },
         "name": "housing",
         "offsetgroup": "housing",
         "orientation": "v",
         "showlegend": true,
         "textposition": "auto",
         "type": "bar",
         "x": [
          "housing"
         ],
         "xaxis": "x",
         "y": [
          -11779.090729052956
         ],
         "yaxis": "y"
        },
        {
         "alignmentgroup": "True",
         "hovertemplate": "Category=%{x}<br>amount=%{y}<extra></extra>",
         "legendgroup": "ignore",
         "marker": {
          "color": "#FF97FF",
          "pattern": {
           "shape": ""
          }
         },
         "name": "ignore",
         "offsetgroup": "ignore",
         "orientation": "v",
         "showlegend": true,
         "textposition": "auto",
         "type": "bar",
         "x": [
          "ignore"
         ],
         "xaxis": "x",
         "y": [
          11447.194193277268
         ],
         "yaxis": "y"
        },
        {
         "alignmentgroup": "True",
         "hovertemplate": "Category=%{x}<br>amount=%{y}<extra></extra>",
         "legendgroup": "income",
         "marker": {
          "color": "#FECB52",
          "pattern": {
           "shape": ""
          }
         },
         "name": "income",
         "offsetgroup": "income",
         "orientation": "v",
         "showlegend": true,
         "textposition": "auto",
         "type": "bar",
         "x": [
          "income"
         ],
         "xaxis": "x",
         "y": [
          102198.99438796823
         ],
         "yaxis": "y"
        },
        {
         "alignmentgroup": "True",
         "hovertemplate": "Category=%{x}<br>amount=%{y}<extra></extra>",
         "legendgroup": "insurance",
         "marker": {
          "color": "#636efa",
          "pattern": {
           "shape": ""
          }
         },
         "name": "insurance",
         "offsetgroup": "insurance",
         "orientation": "v",
         "showlegend": true,
         "textposition": "auto",
         "type": "bar",
         "x": [
          "insurance"
         ],
         "xaxis": "x",
         "y": [
          -4988.638495877721
         ],
         "yaxis": "y"
        },
        {
         "alignmentgroup": "True",
         "hovertemplate": "Category=%{x}<br>amount=%{y}<extra></extra>",
         "legendgroup": "investments",
         "marker": {
          "color": "#EF553B",
          "pattern": {
           "shape": ""
          }
         },
         "name": "investments",
         "offsetgroup": "investments",
         "orientation": "v",
         "showlegend": true,
         "textposition": "auto",
         "type": "bar",
         "x": [
          "investments"
         ],
         "xaxis": "x",
         "y": [
          -14339.426284623923
         ],
         "yaxis": "y"
        },
        {
         "alignmentgroup": "True",
         "hovertemplate": "Category=%{x}<br>amount=%{y}<extra></extra>",
         "legendgroup": "misc",
         "marker": {
          "color": "#00cc96",
          "pattern": {
           "shape": ""
          }
         },
         "name": "misc",
         "offsetgroup": "misc",
         "orientation": "v",
         "showlegend": true,
         "textposition": "auto",
         "type": "bar",
         "x": [
          "misc"
         ],
         "xaxis": "x",
         "y": [
          -962.694116209073
         ],
         "yaxis": "y"
        },
        {
         "alignmentgroup": "True",
         "hovertemplate": "Category=%{x}<br>amount=%{y}<extra></extra>",
         "legendgroup": "personal_care",
         "marker": {
          "color": "#ab63fa",
          "pattern": {
           "shape": ""
          }
         },
         "name": "personal_care",
         "offsetgroup": "personal_care",
         "orientation": "v",
         "showlegend": true,
         "textposition": "auto",
         "type": "bar",
         "x": [
          "personal_care"
         ],
         "xaxis": "x",
         "y": [
          2422.2595790586483
         ],
         "yaxis": "y"
        },
        {
         "alignmentgroup": "True",
         "hovertemplate": "Category=%{x}<br>amount=%{y}<extra></extra>",
         "legendgroup": "shopping",
         "marker": {
          "color": "#FFA15A",
          "pattern": {
           "shape": ""
          }
         },
         "name": "shopping",
         "offsetgroup": "shopping",
         "orientation": "v",
         "showlegend": true,
         "textposition": "auto",
         "type": "bar",
         "x": [
          "shopping"
         ],
         "xaxis": "x",
         "y": [
          15566.512468259212
         ],
         "yaxis": "y"
        },
        {
         "alignmentgroup": "True",
         "hovertemplate": "Category=%{x}<br>amount=%{y}<extra></extra>",
         "legendgroup": "subscriptions",
         "marker": {
          "color": "#19d3f3",
          "pattern": {
           "shape": ""
          }
         },
         "name": "subscriptions",
         "offsetgroup": "subscriptions",
         "orientation": "v",
         "showlegend": true,
         "textposition": "auto",
         "type": "bar",
         "x": [
          "subscriptions"
         ],
         "xaxis": "x",
         "y": [
          5379.386158454667
         ],
         "yaxis": "y"
        },
        {
         "alignmentgroup": "True",
         "hovertemplate": "Category=%{x}<br>amount=%{y}<extra></extra>",
         "legendgroup": "transportation",
         "marker": {
          "color": "#FF6692",
          "pattern": {
           "shape": ""
          }
         },
         "name": "transportation",
         "offsetgroup": "transportation",
         "orientation": "v",
         "showlegend": true,
         "textposition": "auto",
         "type": "bar",
         "x": [
          "transportation"
         ],
         "xaxis": "x",
         "y": [
          -29019.61824159305
         ],
         "yaxis": "y"
        },
        {
         "alignmentgroup": "True",
         "hovertemplate": "Category=%{x}<br>amount=%{y}<extra></extra>",
         "legendgroup": "travel",
         "marker": {
          "color": "#B6E880",
          "pattern": {
           "shape": ""
          }
         },
         "name": "travel",
         "offsetgroup": "travel",
         "orientation": "v",
         "showlegend": true,
         "textposition": "auto",
         "type": "bar",
         "x": [
          "travel"
         ],
         "xaxis": "x",
         "y": [
          2587.560511856714
         ],
         "yaxis": "y"
        },
        {
         "alignmentgroup": "True",
         "hovertemplate": "Category=%{x}<br>amount=%{y}<extra></extra>",
         "legendgroup": "utilities",
         "marker": {
          "color": "#FF97FF",
          "pattern": {
           "shape": ""
          }
         },
         "name": "utilities",
         "offsetgroup": "utilities",
         "orientation": "v",
         "showlegend": true,
         "textposition": "auto",
         "type": "bar",
         "x": [
          "utilities"
         ],
         "xaxis": "x",
         "y": [
          -6114.850692344591
         ],
         "yaxis": "y"
        }
       ],
       "layout": {
        "barmode": "relative",
        "legend": {
         "title": {
          "text": "Category"
         },
         "tracegroupgap": 0
        },
        "template": {
         "data": {
          "bar": [
           {
            "error_x": {
             "color": "#2a3f5f"
            },
            "error_y": {
             "color": "#2a3f5f"
            },
            "marker": {
             "line": {
              "color": "#E5ECF6",
              "width": 0.5
             },
             "pattern": {
              "fillmode": "overlay",
              "size": 10,
              "solidity": 0.2
             }
            },
            "type": "bar"
           }
          ],
          "barpolar": [
           {
            "marker": {
             "line": {
              "color": "#E5ECF6",
              "width": 0.5
             },
             "pattern": {
              "fillmode": "overlay",
              "size": 10,
              "solidity": 0.2
             }
            },
            "type": "barpolar"
           }
          ],
          "carpet": [
           {
            "aaxis": {
             "endlinecolor": "#2a3f5f",
             "gridcolor": "white",
             "linecolor": "white",
             "minorgridcolor": "white",
             "startlinecolor": "#2a3f5f"
            },
            "baxis": {
             "endlinecolor": "#2a3f5f",
             "gridcolor": "white",
             "linecolor": "white",
             "minorgridcolor": "white",
             "startlinecolor": "#2a3f5f"
            },
            "type": "carpet"
           }
          ],
          "choropleth": [
           {
            "colorbar": {
             "outlinewidth": 0,
             "ticks": ""
            },
            "type": "choropleth"
           }
          ],
          "contour": [
           {
            "colorbar": {
             "outlinewidth": 0,
             "ticks": ""
            },
            "colorscale": [
             [
              0,
              "#0d0887"
             ],
             [
              0.1111111111111111,
              "#46039f"
             ],
             [
              0.2222222222222222,
              "#7201a8"
             ],
             [
              0.3333333333333333,
              "#9c179e"
             ],
             [
              0.4444444444444444,
              "#bd3786"
             ],
             [
              0.5555555555555556,
              "#d8576b"
             ],
             [
              0.6666666666666666,
              "#ed7953"
             ],
             [
              0.7777777777777778,
              "#fb9f3a"
             ],
             [
              0.8888888888888888,
              "#fdca26"
             ],
             [
              1,
              "#f0f921"
             ]
            ],
            "type": "contour"
           }
          ],
          "contourcarpet": [
           {
            "colorbar": {
             "outlinewidth": 0,
             "ticks": ""
            },
            "type": "contourcarpet"
           }
          ],
          "heatmap": [
           {
            "colorbar": {
             "outlinewidth": 0,
             "ticks": ""
            },
            "colorscale": [
             [
              0,
              "#0d0887"
             ],
             [
              0.1111111111111111,
              "#46039f"
             ],
             [
              0.2222222222222222,
              "#7201a8"
             ],
             [
              0.3333333333333333,
              "#9c179e"
             ],
             [
              0.4444444444444444,
              "#bd3786"
             ],
             [
              0.5555555555555556,
              "#d8576b"
             ],
             [
              0.6666666666666666,
              "#ed7953"
             ],
             [
              0.7777777777777778,
              "#fb9f3a"
             ],
             [
              0.8888888888888888,
              "#fdca26"
             ],
             [
              1,
              "#f0f921"
             ]
            ],
            "type": "heatmap"
           }
          ],
          "heatmapgl": [
           {
            "colorbar": {
             "outlinewidth": 0,
             "ticks": ""
            },
            "colorscale": [
             [
              0,
              "#0d0887"
             ],
             [
              0.1111111111111111,
              "#46039f"
             ],
             [
              0.2222222222222222,
              "#7201a8"
             ],
             [
              0.3333333333333333,
              "#9c179e"
             ],
             [
              0.4444444444444444,
              "#bd3786"
             ],
             [
              0.5555555555555556,
              "#d8576b"
             ],
             [
              0.6666666666666666,
              "#ed7953"
             ],
             [
              0.7777777777777778,
              "#fb9f3a"
             ],
             [
              0.8888888888888888,
              "#fdca26"
             ],
             [
              1,
              "#f0f921"
             ]
            ],
            "type": "heatmapgl"
           }
          ],
          "histogram": [
           {
            "marker": {
             "pattern": {
              "fillmode": "overlay",
              "size": 10,
              "solidity": 0.2
             }
            },
            "type": "histogram"
           }
          ],
          "histogram2d": [
           {
            "colorbar": {
             "outlinewidth": 0,
             "ticks": ""
            },
            "colorscale": [
             [
              0,
              "#0d0887"
             ],
             [
              0.1111111111111111,
              "#46039f"
             ],
             [
              0.2222222222222222,
              "#7201a8"
             ],
             [
              0.3333333333333333,
              "#9c179e"
             ],
             [
              0.4444444444444444,
              "#bd3786"
             ],
             [
              0.5555555555555556,
              "#d8576b"
             ],
             [
              0.6666666666666666,
              "#ed7953"
             ],
             [
              0.7777777777777778,
              "#fb9f3a"
             ],
             [
              0.8888888888888888,
              "#fdca26"
             ],
             [
              1,
              "#f0f921"
             ]
            ],
            "type": "histogram2d"
           }
          ],
          "histogram2dcontour": [
           {
            "colorbar": {
             "outlinewidth": 0,
             "ticks": ""
            },
            "colorscale": [
             [
              0,
              "#0d0887"
             ],
             [
              0.1111111111111111,
              "#46039f"
             ],
             [
              0.2222222222222222,
              "#7201a8"
             ],
             [
              0.3333333333333333,
              "#9c179e"
             ],
             [
              0.4444444444444444,
              "#bd3786"
             ],
             [
              0.5555555555555556,
              "#d8576b"
             ],
             [
              0.6666666666666666,
              "#ed7953"
             ],
             [
              0.7777777777777778,
              "#fb9f3a"
             ],
             [
              0.8888888888888888,
              "#fdca26"
             ],
             [
              1,
              "#f0f921"
             ]
            ],
            "type": "histogram2dcontour"
           }
          ],
          "mesh3d": [
           {
            "colorbar": {
             "outlinewidth": 0,
             "ticks": ""
            },
            "type": "mesh3d"
           }
          ],
          "parcoords": [
           {
            "line": {
             "colorbar": {
              "outlinewidth": 0,
              "ticks": ""
             }
            },
            "type": "parcoords"
           }
          ],
          "pie": [
           {
            "automargin": true,
            "type": "pie"
           }
          ],
          "scatter": [
           {
            "fillpattern": {
             "fillmode": "overlay",
             "size": 10,
             "solidity": 0.2
            },
            "type": "scatter"
           }
          ],
          "scatter3d": [
           {
            "line": {
             "colorbar": {
              "outlinewidth": 0,
              "ticks": ""
             }
            },
            "marker": {
             "colorbar": {
              "outlinewidth": 0,
              "ticks": ""
             }
            },
            "type": "scatter3d"
           }
          ],
          "scattercarpet": [
           {
            "marker": {
             "colorbar": {
              "outlinewidth": 0,
              "ticks": ""
             }
            },
            "type": "scattercarpet"
           }
          ],
          "scattergeo": [
           {
            "marker": {
             "colorbar": {
              "outlinewidth": 0,
              "ticks": ""
             }
            },
            "type": "scattergeo"
           }
          ],
          "scattergl": [
           {
            "marker": {
             "colorbar": {
              "outlinewidth": 0,
              "ticks": ""
             }
            },
            "type": "scattergl"
           }
          ],
          "scattermapbox": [
           {
            "marker": {
             "colorbar": {
              "outlinewidth": 0,
              "ticks": ""
             }
            },
            "type": "scattermapbox"
           }
          ],
          "scatterpolar": [
           {
            "marker": {
             "colorbar": {
              "outlinewidth": 0,
              "ticks": ""
             }
            },
            "type": "scatterpolar"
           }
          ],
          "scatterpolargl": [
           {
            "marker": {
             "colorbar": {
              "outlinewidth": 0,
              "ticks": ""
             }
            },
            "type": "scatterpolargl"
           }
          ],
          "scatterternary": [
           {
            "marker": {
             "colorbar": {
              "outlinewidth": 0,
              "ticks": ""
             }
            },
            "type": "scatterternary"
           }
          ],
          "surface": [
           {
            "colorbar": {
             "outlinewidth": 0,
             "ticks": ""
            },
            "colorscale": [
             [
              0,
              "#0d0887"
             ],
             [
              0.1111111111111111,
              "#46039f"
             ],
             [
              0.2222222222222222,
              "#7201a8"
             ],
             [
              0.3333333333333333,
              "#9c179e"
             ],
             [
              0.4444444444444444,
              "#bd3786"
             ],
             [
              0.5555555555555556,
              "#d8576b"
             ],
             [
              0.6666666666666666,
              "#ed7953"
             ],
             [
              0.7777777777777778,
              "#fb9f3a"
             ],
             [
              0.8888888888888888,
              "#fdca26"
             ],
             [
              1,
              "#f0f921"
             ]
            ],
            "type": "surface"
           }
          ],
          "table": [
           {
            "cells": {
             "fill": {
              "color": "#EBF0F8"
             },
             "line": {
              "color": "white"
             }
            },
            "header": {
             "fill": {
              "color": "#C8D4E3"
             },
             "line": {
              "color": "white"
             }
            },
            "type": "table"
           }
          ]
         },
         "layout": {
          "annotationdefaults": {
           "arrowcolor": "#2a3f5f",
           "arrowhead": 0,
           "arrowwidth": 1
          },
          "autotypenumbers": "strict",
          "coloraxis": {
           "colorbar": {
            "outlinewidth": 0,
            "ticks": ""
           }
          },
          "colorscale": {
           "diverging": [
            [
             0,
             "#8e0152"
            ],
            [
             0.1,
             "#c51b7d"
            ],
            [
             0.2,
             "#de77ae"
            ],
            [
             0.3,
             "#f1b6da"
            ],
            [
             0.4,
             "#fde0ef"
            ],
            [
             0.5,
             "#f7f7f7"
            ],
            [
             0.6,
             "#e6f5d0"
            ],
            [
             0.7,
             "#b8e186"
            ],
            [
             0.8,
             "#7fbc41"
            ],
            [
             0.9,
             "#4d9221"
            ],
            [
             1,
             "#276419"
            ]
           ],
           "sequential": [
            [
             0,
             "#0d0887"
            ],
            [
             0.1111111111111111,
             "#46039f"
            ],
            [
             0.2222222222222222,
             "#7201a8"
            ],
            [
             0.3333333333333333,
             "#9c179e"
            ],
            [
             0.4444444444444444,
             "#bd3786"
            ],
            [
             0.5555555555555556,
             "#d8576b"
            ],
            [
             0.6666666666666666,
             "#ed7953"
            ],
            [
             0.7777777777777778,
             "#fb9f3a"
            ],
            [
             0.8888888888888888,
             "#fdca26"
            ],
            [
             1,
             "#f0f921"
            ]
           ],
           "sequentialminus": [
            [
             0,
             "#0d0887"
            ],
            [
             0.1111111111111111,
             "#46039f"
            ],
            [
             0.2222222222222222,
             "#7201a8"
            ],
            [
             0.3333333333333333,
             "#9c179e"
            ],
            [
             0.4444444444444444,
             "#bd3786"
            ],
            [
             0.5555555555555556,
             "#d8576b"
            ],
            [
             0.6666666666666666,
             "#ed7953"
            ],
            [
             0.7777777777777778,
             "#fb9f3a"
            ],
            [
             0.8888888888888888,
             "#fdca26"
            ],
            [
             1,
             "#f0f921"
            ]
           ]
          },
          "colorway": [
           "#636efa",
           "#EF553B",
           "#00cc96",
           "#ab63fa",
           "#FFA15A",
           "#19d3f3",
           "#FF6692",
           "#B6E880",
           "#FF97FF",
           "#FECB52"
          ],
          "font": {
           "color": "#2a3f5f"
          },
          "geo": {
           "bgcolor": "white",
           "lakecolor": "white",
           "landcolor": "#E5ECF6",
           "showlakes": true,
           "showland": true,
           "subunitcolor": "white"
          },
          "hoverlabel": {
           "align": "left"
          },
          "hovermode": "closest",
          "mapbox": {
           "style": "light"
          },
          "paper_bgcolor": "white",
          "plot_bgcolor": "#E5ECF6",
          "polar": {
           "angularaxis": {
            "gridcolor": "white",
            "linecolor": "white",
            "ticks": ""
           },
           "bgcolor": "#E5ECF6",
           "radialaxis": {
            "gridcolor": "white",
            "linecolor": "white",
            "ticks": ""
           }
          },
          "scene": {
           "xaxis": {
            "backgroundcolor": "#E5ECF6",
            "gridcolor": "white",
            "gridwidth": 2,
            "linecolor": "white",
            "showbackground": true,
            "ticks": "",
            "zerolinecolor": "white"
           },
           "yaxis": {
            "backgroundcolor": "#E5ECF6",
            "gridcolor": "white",
            "gridwidth": 2,
            "linecolor": "white",
            "showbackground": true,
            "ticks": "",
            "zerolinecolor": "white"
           },
           "zaxis": {
            "backgroundcolor": "#E5ECF6",
            "gridcolor": "white",
            "gridwidth": 2,
            "linecolor": "white",
            "showbackground": true,
            "ticks": "",
            "zerolinecolor": "white"
           }
          },
          "shapedefaults": {
           "line": {
            "color": "#2a3f5f"
           }
          },
          "ternary": {
           "aaxis": {
            "gridcolor": "white",
            "linecolor": "white",
            "ticks": ""
           },
           "baxis": {
            "gridcolor": "white",
            "linecolor": "white",
            "ticks": ""
           },
           "bgcolor": "#E5ECF6",
           "caxis": {
            "gridcolor": "white",
            "linecolor": "white",
            "ticks": ""
           }
          },
          "title": {
           "x": 0.05
          },
          "xaxis": {
           "automargin": true,
           "gridcolor": "white",
           "linecolor": "white",
           "ticks": "",
           "title": {
            "standoff": 15
           },
           "zerolinecolor": "white",
           "zerolinewidth": 2
          },
          "yaxis": {
           "automargin": true,
           "gridcolor": "white",
           "linecolor": "white",
           "ticks": "",
           "title": {
            "standoff": 15
           },
           "zerolinecolor": "white",
           "zerolinewidth": 2
          }
         }
        },
        "title": {
         "text": "Amount Spent per Category"
        },
        "xaxis": {
         "anchor": "y",
         "categoryarray": [
          "debt",
          "dining",
          "education",
          "entertainment",
          "fees",
          "groceries",
          "healthcare",
          "housing",
          "ignore",
          "income",
          "insurance",
          "investments",
          "misc",
          "personal_care",
          "shopping",
          "subscriptions",
          "transportation",
          "travel",
          "utilities"
         ],
         "categoryorder": "array",
         "domain": [
          0,
          1
         ],
         "title": {
          "text": "Category"
         }
        },
        "yaxis": {
         "anchor": "x",
         "domain": [
          0,
          1
         ],
         "title": {
          "text": "amount"
         }
        }
       }
      }
     },
     "metadata": {},
     "output_type": "display_data"
    }
   ],
   "source": [
    "# look at the total cost for each of the category spending\n",
    "txns_df['amount'] = txns_df['amount'].str.replace(',','') # remove commas from 1,000\n",
    "txns_df['amount'] = txns_df['amount'].astype(float) # convert to float value\n",
    "\n",
    "# DELETE THIS!!! I have included it for noise purposes, since this will be a public file\n",
    "# I would rather people not know the exact amount I spend per category and whatnot\n",
    "txns_df['amount'] += np.random.normal(loc=0, scale=3000, size=len(txns_df))\n",
    "\n",
    "\n",
    "label_cost = txns_df.groupby('labels')['amount'].sum().reset_index()\n",
    "\n",
    "fig = px.bar(label_cost, x='labels', y='amount', title='Amount Spent per Category',\n",
    "             labels={'labels': 'Category', 'count':'Total Amount'},\n",
    "             color='labels',\n",
    "             hover_data={'amount':True})\n",
    "\n",
    "fig.show()"
   ]
  },
  {
   "cell_type": "markdown",
   "metadata": {},
   "source": [
    "NOTE: I have added noise to the amount spent per category in order to somewhat hide the amount I spend and gain. As a result the analysis below is different than what the graph shows above.\n",
    "\n",
    "Transportation and Education makes the most sense for spending due to the fact that I just recently purchased a car and also just recently started attending my Master's program.  \n",
    "\n",
    "Debt being positive was weird; however, I am including the loan I received from the government as a debt that I will need to purchase and so it makes the whole category positive (even though I mainly make month payments back for it).  \n",
    "\n",
    "Finally, I included the \"ignore\" category. This is because I'm pulling transaction data from three different accounts: Venmo, Bank of America, and American Express. When I transfer money between these three categories, I do not need to know that I was transferring money, since I already have the itemized transaction data available.  \n",
    "\n",
    "Before moving on to actual feature engineering. Let's label encode the labels. I one hot encode these labels."
   ]
  },
  {
   "cell_type": "code",
   "execution_count": 7,
   "metadata": {},
   "outputs": [
    {
     "name": "stdout",
     "output_type": "stream",
     "text": [
      "One Hot Encoded first 5 labels: [[0 0 0 0 0 0 0 0 0 0 0 0 0 0 0 0 1 0 0]\n",
      " [0 0 0 0 0 1 0 0 0 0 0 0 0 0 0 0 0 0 0]\n",
      " [0 1 0 0 0 0 0 0 0 0 0 0 0 0 0 0 0 0 0]\n",
      " [0 1 0 0 0 0 0 0 0 0 0 0 0 0 0 0 0 0 0]\n",
      " [0 1 0 0 0 0 0 0 0 0 0 0 0 0 0 0 0 0 0]]\n"
     ]
    }
   ],
   "source": [
    "# shuffle transaction data\n",
    "shuffled_txns_df = txns_df.sample(frac=1, random_state=42)\n",
    "\n",
    "labels = shuffled_txns_df['labels']\n",
    "\n",
    "# encode the labels\n",
    "label_encoder = LabelBinarizer()\n",
    "\n",
    "y_onehot = label_encoder.fit_transform(labels)\n",
    "\n",
    "print('One Hot Encoded first 5 labels:',y_onehot[:5])\n",
    "\n",
    "# drop this so we can just look at the features\n",
    "# also dropping transaction_id as it is not relevant for our model\n",
    "shuffled_txns_df = shuffled_txns_df.drop(columns=['labels', 'transaction_id'])"
   ]
  },
  {
   "cell_type": "markdown",
   "metadata": {},
   "source": [
    "## Numeric Features  \n",
    "\n",
    "First, we'll deal with numeric features because there's only two of them: date and amount. "
   ]
  },
  {
   "cell_type": "markdown",
   "metadata": {},
   "source": [
    "### Dealing with the Date Feature"
   ]
  },
  {
   "cell_type": "markdown",
   "metadata": {},
   "source": [
    "Looks like date is still an object so we will make into datetime and extract useful information about it like the day of the week, the day of the month, and the year. This information will be useful for subscriptions/income or potentially entertainment, as I'll be doing more entertaining activities on weekends over weekdays."
   ]
  },
  {
   "cell_type": "code",
   "execution_count": null,
   "metadata": {},
   "outputs": [],
   "source": [
    "shuffled_txns_df['date'] = pd.to_datetime(shuffled_txns_df['date'])\n",
    "\n",
    "# get day of week\n",
    "shuffled_txns_df['dow'] = shuffled_txns_df['date'].dt.day_of_week\n",
    "\n",
    "# get day of month\n",
    "shuffled_txns_df['dom'] = shuffled_txns_df['date'].dt.day\n",
    "\n",
    "# get month\n",
    "shuffled_txns_df['month'] = shuffled_txns_df['date'].dt.month\n",
    "\n",
    "# get year\n",
    "shuffled_txns_df['year'] = shuffled_txns_df['date'].dt.year\n",
    "\n",
    "# drop date\n",
    "shuffled_txns_df = shuffled_txns_df.drop(columns={'date'})\n",
    "\n",
    "shuffled_txns_df.head()"
   ]
  },
  {
   "cell_type": "markdown",
   "metadata": {},
   "source": [
    "To standardize the day of week and month, we'll use the cyclic encoding. For day of month, and amount, we'll use StandardScaler.  \n",
    "\n",
    "First let's look at amount to see if we should transform it first."
   ]
  },
  {
   "cell_type": "code",
   "execution_count": 9,
   "metadata": {},
   "outputs": [
    {
     "data": {
      "text/plain": [
       "(-250.0, 250.0)"
      ]
     },
     "execution_count": 9,
     "metadata": {},
     "output_type": "execute_result"
    },
    {
     "data": {
      "image/png": "[encoded data removed]",
      "text/plain": [
       "<Figure size 640x480 with 1 Axes>"
      ]
     },
     "metadata": {},
     "output_type": "display_data"
    }
   ],
   "source": [
    "fig, ax = plt.subplots()\n",
    "sns.histplot(shuffled_txns_df['amount'], ax=ax, kde=True)\n",
    "ax.set_title('Amount Histogram')\n",
    "ax.set_xlim([-250,250])"
   ]
  },
  {
   "cell_type": "markdown",
   "metadata": {},
   "source": [
    "Let's use a robust scaler for amount actually since it ranges very far and has a lot of outliers. For the year column, we'll one hot encode the year since there are only three years (2022-2024). While we're doing this, we'll also one hot encode the source column since there are only four potential sources for my transactions (boa_debit, boa_credit, amex, and venmo)."
   ]
  },
  {
   "cell_type": "code",
   "execution_count": null,
   "metadata": {},
   "outputs": [],
   "source": [
    "# use cyclic encoding to encode the cyclic nature of days of the week and month\n",
    "shuffled_txns_df['dow_sin'] = np.sin(2 * np.pi * shuffled_txns_df['dow'] / 7)\n",
    "shuffled_txns_df['dow_cos'] = np.cos(2 * np.pi * shuffled_txns_df['dow'] / 7)\n",
    "\n",
    "shuffled_txns_df['month_sin'] = np.sin(2 * np.pi * shuffled_txns_df['month'] / 12)\n",
    "shuffled_txns_df['month_cos'] = np.cos(2 * np.pi * shuffled_txns_df['month'] / 12)\n",
    "\n",
    "# one hot encode the year and source\n",
    "encoder = OneHotEncoder(sparse_output=False)\n",
    "year_encoded = encoder.fit_transform(shuffled_txns_df[['year','source']])\n",
    "year_encoded_df = pd.DataFrame(year_encoded, columns=encoder.get_feature_names_out(['year','source']))\n",
    "shuffled_txns_df = pd.concat([shuffled_txns_df.drop(columns=['year','source']), year_encoded_df], axis=1)\n",
    "\n",
    "# split the data \n",
    "X_train, X_temp, y_train, y_temp = train_test_split(shuffled_txns_df, y_onehot, test_size=0.4, random_state=42)\n",
    "X_val, X_test, y_val, y_test = train_test_split(X_temp, y_temp, test_size=0.5, random_state=42)\n",
    "\n",
    "# Scale 'dom' and 'year' using StandardScaler\n",
    "scaler = StandardScaler()\n",
    "scale_columns = ['dom']\n",
    "\n",
    "num_scaled_train = pd.DataFrame(scaler.fit_transform(X_train[scale_columns]), columns=scale_columns, index=X_train.index)\n",
    "num_scaled_val = pd.DataFrame(scaler.transform(X_val[scale_columns]), columns=scale_columns, index=X_val.index)\n",
    "num_scaled_test = pd.DataFrame(scaler.transform(X_test[scale_columns]), columns=scale_columns, index=X_test.index)\n",
    "\n",
    "# Replace the original 'dom' and 'year' columns with the scaled versions\n",
    "train_scaled = pd.concat([X_train.drop(columns=scale_columns), num_scaled_train], axis=1)\n",
    "val_scaled = pd.concat([X_val.drop(columns=scale_columns), num_scaled_val], axis=1)\n",
    "test_scaled = pd.concat([X_test.drop(columns=scale_columns), num_scaled_test], axis=1)\n",
    "\n",
    "# Use RobustScaler to scale and replace the 'amount' column\n",
    "robust_scaler = RobustScaler()\n",
    "amount_train = pd.Series(robust_scaler.fit_transform(X_train[['amount']]).flatten(), index=X_train.index, name='amount')\n",
    "amount_val = pd.Series(robust_scaler.transform(X_val[['amount']]).flatten(), index=X_val.index, name='amount')\n",
    "amount_test = pd.Series(robust_scaler.transform(X_test[['amount']]).flatten(), index=X_test.index, name='amount')\n",
    "\n",
    "# Replace the original 'amount' column with the scaled version\n",
    "train_scaled['amount'] = amount_train\n",
    "val_scaled['amount'] = amount_val\n",
    "test_scaled['amount'] = amount_test\n",
    "\n",
    "train_scaled.head()"
   ]
  },
  {
   "cell_type": "code",
   "execution_count": null,
   "metadata": {},
   "outputs": [],
   "source": [
    "# drop dow and dom\n",
    "drop_columns = ['dow', 'month']\n",
    "train_scaled = train_scaled.drop(columns=drop_columns)\n",
    "val_scaled = val_scaled.drop(columns=drop_columns)\n",
    "test_scaled = test_scaled.drop(columns=drop_columns)\n",
    "\n",
    "train_scaled.head()"
   ]
  },
  {
   "cell_type": "markdown",
   "metadata": {},
   "source": [
    "Now that we've dealt with all the numeric categories, we'll move onto the categorical features."
   ]
  },
  {
   "cell_type": "markdown",
   "metadata": {},
   "source": [
    "## Categorical Features"
   ]
  },
  {
   "cell_type": "code",
   "execution_count": null,
   "metadata": {},
   "outputs": [],
   "source": [
    "cat_columns = ['description', 'extended_details', 'merchant', 'address', 'city', 'zip_code', 'category']\n",
    "\n",
    "# lowercase all the columns and replace \\n with spaces\n",
    "for col in cat_columns:\n",
    "    train_scaled[col] = train_scaled[col].str.lower().str.replace('\\n',' ')\n",
    "    val_scaled[col] = val_scaled[col].str.lower().str.replace('\\n',' ')\n",
    "    test_scaled[col] = test_scaled[col].str.lower().str.replace('\\n',' ')\n",
    "\n",
    "train_scaled.head()"
   ]
  },
  {
   "cell_type": "markdown",
   "metadata": {},
   "source": [
    "We will be using word embeddings for our strings. To capture the whole transaction context, we will combine all of the strings together. The only one we won't combine is the source column as this will be one hot encoded."
   ]
  },
  {
   "cell_type": "code",
   "execution_count": null,
   "metadata": {},
   "outputs": [],
   "source": [
    "sum_columns = ['description', 'extended_details', 'merchant', 'address', 'city', 'state', 'zip_code', 'category']\n",
    "\n",
    "# fill all NA values with blank strings for the next step\n",
    "train_scaled[sum_columns] = train_scaled[sum_columns].fillna('')\n",
    "val_scaled[sum_columns] = val_scaled[sum_columns].fillna('')\n",
    "test_scaled[sum_columns] = test_scaled[sum_columns].fillna('')\n",
    "\n",
    "# combine all string columns into one long text per transaction separated by a space\n",
    "train_scaled['combined_text'] = train_scaled[sum_columns].agg(' '.join, axis=1)\n",
    "val_scaled['combined_text'] = val_scaled[sum_columns].agg(' '.join, axis=1)\n",
    "test_scaled['combined_text'] = test_scaled[sum_columns].agg(' '.join, axis=1)\n",
    "\n",
    "# drop all the columns that were aggregated\n",
    "train_scaled = train_scaled.drop(columns=sum_columns)\n",
    "val_scaled = val_scaled.drop(columns=sum_columns)\n",
    "test_scaled = test_scaled.drop(columns=sum_columns)\n",
    "\n",
    "train_scaled.head()"
   ]
  },
  {
   "cell_type": "code",
   "execution_count": 14,
   "metadata": {},
   "outputs": [
    {
     "name": "stdout",
     "output_type": "stream",
     "text": [
      "<class 'pandas.core.frame.DataFrame'>\n",
      "Index: 1093 entries, 842 to 501\n",
      "Data columns (total 15 columns):\n",
      " #   Column              Non-Null Count  Dtype  \n",
      "---  ------              --------------  -----  \n",
      " 0   amount              1093 non-null   float64\n",
      " 1   dow_sin             1093 non-null   float64\n",
      " 2   dow_cos             1093 non-null   float64\n",
      " 3   month_sin           1093 non-null   float64\n",
      " 4   month_cos           1093 non-null   float64\n",
      " 5   year_2022           1093 non-null   float64\n",
      " 6   year_2023           1093 non-null   float64\n",
      " 7   year_2024           1093 non-null   float64\n",
      " 8   source_Venmo        1093 non-null   float64\n",
      " 9   source_amex         1093 non-null   float64\n",
      " 10  source_boa_credit   1093 non-null   float64\n",
      " 11  source_boa_debit    1093 non-null   float64\n",
      " 12  source_boa_savings  1093 non-null   float64\n",
      " 13  dom                 1093 non-null   float64\n",
      " 14  combined_text       1093 non-null   object \n",
      "dtypes: float64(14), object(1)\n",
      "memory usage: 136.6+ KB\n"
     ]
    }
   ],
   "source": [
    "# check for any null values\n",
    "train_scaled.info()"
   ]
  },
  {
   "cell_type": "markdown",
   "metadata": {},
   "source": [
    "Our data is looking nearly ready! I'm going to preprocess the strings some more to make better embeddings. We will lose information like numbers, excess, whitespace, and punctuation in order to make our embedding vectors closer to the real thing. There's also some numbers that are directly connected to important information (ex: 57san jose) and we'd like the embedding to be able to tell san jose apart from other cities.  "
   ]
  },
  {
   "cell_type": "code",
   "execution_count": 15,
   "metadata": {},
   "outputs": [
    {
     "name": "stdout",
     "output_type": "stream",
     "text": [
      "Max Length String:\n",
      " air japan air japan japan               jp jlgb1b73316 airline/air carrier passenger ticket air japan air japan japan jp carrier : air japan passenger name : kenneth hahn ticket number : jlgb1b departure day : 11/05 additional info : passenger ticket from : tokyo narita apt to : seoul incheon inte from : seoul incheon inte to : tokyo narita aptforeign spend amount: 31090.00 japanese yen commission amount:  currency exchange rate: null air japan air japan japan               jp ana narita sky center 3b narita international airport narita   282-0005 travel-airline\n",
      "Length of String: 568\n",
      "------------------------------------------------------------------------------------------------------------------------------------------------------\n",
      "Min Length String:\n",
      " standard transfer       \n",
      "Length of String: 24\n"
     ]
    }
   ],
   "source": [
    "# check range of lengths of the strings\n",
    "print('Max Length String:\\n',train_scaled['combined_text'][train_scaled['combined_text'].str.len().idxmax()])\n",
    "print('Length of String:',train_scaled['combined_text'].str.len().max())\n",
    "print('-'*150)\n",
    "print('Min Length String:\\n',train_scaled['combined_text'][train_scaled['combined_text'].str.len().idxmin()])\n",
    "print('Length of String:',train_scaled['combined_text'].str.len().min())"
   ]
  },
  {
   "cell_type": "markdown",
   "metadata": {},
   "source": [
    "We will now preprocess the text by removing punctuation, numeric values, and extra whitespace. Also, we'll remove repeated words as several of the columns that we combined had the same information and it does not add any value to keep the same information multiple times."
   ]
  },
  {
   "cell_type": "code",
   "execution_count": 16,
   "metadata": {},
   "outputs": [
    {
     "name": "stdout",
     "output_type": "stream",
     "text": [
      "Max Length String:\n",
      " air japan jp jlgbb airline carrier passenger ticket name kenneth hahn number departure day additional info from tokyo narita apt to seoul incheon inte aptforeign spend amount japanese yen commission currency exchange rate null ana sky center b international airport travel\n",
      "Length of String: 272\n",
      "------------------------------------------------------------------------------------------------------------------------------------------------------\n",
      "Min Length String:\n",
      " standard transfer\n",
      "Length of String: 17\n"
     ]
    }
   ],
   "source": [
    "def preprocess_text(text):\n",
    "    text = text.lower()\n",
    "    text = re.sub(r'[^\\w\\s]',' ', text) # remove punctuation\n",
    "    text = re.sub(r'\\d+','',text) # remove numeric values\n",
    "    text = re.sub(r'\\s+',' ',text).strip() # remove extra whitespace\n",
    "\n",
    "    # remove repeated words\n",
    "    words = text.split()\n",
    "    unique_words = list(dict.fromkeys(words))\n",
    "\n",
    "    return ' '.join(unique_words)\n",
    "\n",
    "train_scaled['combined_text'] = train_scaled['combined_text'].apply(preprocess_text)\n",
    "val_scaled['combined_text'] = val_scaled['combined_text'].apply(preprocess_text)\n",
    "test_scaled['combined_text'] = test_scaled['combined_text'].apply(preprocess_text)\n",
    "\n",
    "# recheck range of lengths of the longest and shortest strings\n",
    "print('Max Length String:\\n',train_scaled['combined_text'][train_scaled['combined_text'].str.len().idxmax()])\n",
    "print('Length of String:',train_scaled['combined_text'].str.len().max())\n",
    "print('-'*150)\n",
    "print('Min Length String:\\n',train_scaled['combined_text'][train_scaled['combined_text'].str.len().idxmin()])\n",
    "print('Length of String:',train_scaled['combined_text'].str.len().min())\n"
   ]
  },
  {
   "cell_type": "markdown",
   "metadata": {},
   "source": [
    "### Embeddings  \n",
    "\n",
    "Now let's move onto embeddings our combined_text. We'll start off using DistilBert becuase it's more compact and my system does not have a lot of compute."
   ]
  },
  {
   "cell_type": "code",
   "execution_count": 17,
   "metadata": {},
   "outputs": [
    {
     "name": "stderr",
     "output_type": "stream",
     "text": [
      "Some weights of the PyTorch model were not used when initializing the TF 2.0 model TFDistilBertModel: ['classifier.weight', 'classifier.bias', 'pre_classifier.weight', 'pre_classifier.bias']\n",
      "- This IS expected if you are initializing TFDistilBertModel from a PyTorch model trained on another task or with another architecture (e.g. initializing a TFBertForSequenceClassification model from a BertForPreTraining model).\n",
      "- This IS NOT expected if you are initializing TFDistilBertModel from a PyTorch model that you expect to be exactly identical (e.g. initializing a TFBertForSequenceClassification model from a BertForSequenceClassification model).\n",
      "All the weights of TFDistilBertModel were initialized from the PyTorch model.\n",
      "If your task is similar to the task the model of the checkpoint was trained on, you can already use TFDistilBertModel for predictions without further training.\n"
     ]
    },
    {
     "name": "stdout",
     "output_type": "stream",
     "text": [
      "Train Embedding Shape: (1093, 768)\n",
      "Validation Embeddings Shape: (364, 768)\n",
      "Test Embeddings Shape: (365, 768)\n"
     ]
    }
   ],
   "source": [
    "# using distilbert for embeddings\n",
    "model_id = \"distilbert-base-uncased-finetuned-sst-2-english\"\n",
    "tokenizer = AutoTokenizer.from_pretrained(model_id)\n",
    "model = TFAutoModel.from_pretrained(model_id)\n",
    "\n",
    "def embed_bert(text):\n",
    "    \"\"\"Output the embedding matrix using pretrained model for the combined_text Series\"\"\"\n",
    "    inputs = tokenizer(text.tolist(), return_tensors='tf', padding=True, truncation=True, max_length=128)\n",
    "    outputs = model(inputs)\n",
    "    embeddings = outputs.last_hidden_state\n",
    "    embeddings = tf.reduce_mean(embeddings, axis=1) # global avg pooling\n",
    "    return embeddings\n",
    "\n",
    "# embed the data\n",
    "train_embeddings = embed_bert(train_scaled['combined_text'])\n",
    "val_embeddings = embed_bert(val_scaled['combined_text'])\n",
    "test_embeddings = embed_bert(test_scaled['combined_text'])\n",
    "\n",
    "# print the shape\n",
    "print(f\"Train Embedding Shape: {train_embeddings.shape}\")\n",
    "print(f\"Validation Embeddings Shape: {val_embeddings.shape}\")\n",
    "print(f\"Test Embeddings Shape: {test_embeddings.shape}\")"
   ]
  },
  {
   "cell_type": "markdown",
   "metadata": {},
   "source": [
    "# Create Baseline Models  \n",
    "\n",
    "Let's create some baseline models to compare our final model to. Let's first finalize our inputs and labels into a singular format for simpler use later on. Afterward we'll see the validation accuracy for a Majority Class Classifier, Logistic Regression, RandomForestClassifier, and a Support Vector Machine."
   ]
  },
  {
   "cell_type": "code",
   "execution_count": 18,
   "metadata": {},
   "outputs": [
    {
     "name": "stdout",
     "output_type": "stream",
     "text": [
      "X_train shape: (1093, 782)\n",
      "X_val shape: (364, 782)\n",
      "X_test shape: (365, 782)\n"
     ]
    }
   ],
   "source": [
    "# drop combined text columns since we embedded it\n",
    "X_train_other = train_scaled.drop(columns='combined_text').to_numpy()\n",
    "X_val_other = val_scaled.drop(columns='combined_text').to_numpy()\n",
    "X_test_other = test_scaled.drop(columns='combined_text').to_numpy()\n",
    "\n",
    "# change embeddings to numpy\n",
    "X_train_embeddings = train_embeddings.numpy()\n",
    "X_val_embeddings = val_embeddings.numpy()\n",
    "X_test_embeddings = test_embeddings.numpy()\n",
    "\n",
    "# concatenate the two arrays\n",
    "X_train_concat = np.concatenate([X_train_embeddings, X_train_other], axis=1)\n",
    "X_val_concat = np.concatenate([X_val_embeddings, X_val_other], axis=1)\n",
    "X_test_concat = np.concatenate([X_test_embeddings, X_test_other], axis=1)\n",
    "\n",
    "# print shape\n",
    "print('X_train shape:',X_train_concat.shape)\n",
    "print('X_val shape:',X_val_concat.shape)\n",
    "print('X_test shape:', X_test_concat.shape)"
   ]
  },
  {
   "cell_type": "markdown",
   "metadata": {},
   "source": [
    "## Majority Class Classifier"
   ]
  },
  {
   "cell_type": "code",
   "execution_count": 19,
   "metadata": {},
   "outputs": [
    {
     "name": "stdout",
     "output_type": "stream",
     "text": [
      "Majority Class: dining\n",
      "Majority Class Training Accuracy: 0.43824336688014637\n",
      "Class Distribution Percentage: [0.00914913 0.43824337 0.00091491 0.0558097  0.00365965 0.04574565\n",
      " 0.00091491 0.00365965 0.07227813 0.01280878 0.00548948 0.01280878\n",
      " 0.00182983 0.04666057 0.04483074 0.03202196 0.15645014 0.03659652\n",
      " 0.02012809]\n",
      "Class Labels: ['debt' 'dining' 'education' 'entertainment' 'fees' 'groceries'\n",
      " 'healthcare' 'housing' 'ignore' 'income' 'insurance' 'investments' 'misc'\n",
      " 'personal_care' 'shopping' 'subscriptions' 'transportation' 'travel'\n",
      " 'utilities']\n",
      "Majority Class Validation Accuracy: 0.43956043956043955\n"
     ]
    }
   ],
   "source": [
    "# find the majority class and the distributions\n",
    "majority_class = y_train.sum(axis=0).argmax()\n",
    "class_distribution = y_train.sum(axis=0)/y_train.sum()\n",
    "class_labels = label_encoder.classes_\n",
    "\n",
    "print('Majority Class:', class_labels[majority_class])\n",
    "print('Majority Class Training Accuracy:', class_distribution.max())\n",
    "print('Class Distribution Percentage:', class_distribution)\n",
    "print('Class Labels:', class_labels)\n",
    "\n",
    "# create majority class predictions with the validation data\n",
    "majority_class_pred_val = np.full((y_val.shape[0],), majority_class)\n",
    "y_val_true = y_val.argmax(axis=1)\n",
    "\n",
    "# calculate the accuracy\n",
    "majority_class_val_accuracy = accuracy_score(y_val_true, majority_class_pred_val)\n",
    "\n",
    "print('Majority Class Validation Accuracy:', majority_class_val_accuracy)"
   ]
  },
  {
   "cell_type": "markdown",
   "metadata": {},
   "source": [
    "Majority Class doesn't do too great but at least we know that the validation and training accuracy have nearly the same majority class percentage.  \n",
    "\n",
    "## Logistic Regression"
   ]
  },
  {
   "cell_type": "code",
   "execution_count": 20,
   "metadata": {},
   "outputs": [
    {
     "name": "stdout",
     "output_type": "stream",
     "text": [
      "Logistic Regression Training Accuracy: 0.9954254345837146\n",
      "Logistic Regression Validation Accuracy: 0.9258241758241759\n"
     ]
    }
   ],
   "source": [
    "# create and fit LogisticRegression model (found that it only converged after a lot of iterations)\n",
    "log_regression = LogisticRegression(max_iter=2500)\n",
    "log_regression.fit(X_train_concat, y_train.argmax(axis=1))\n",
    "\n",
    "# predict and calculate accuracy for training data\n",
    "log_reg_train_pred = log_regression.predict(X_train_concat)\n",
    "y_train_true = y_train.argmax(axis=1)\n",
    "log_reg_accuracy_train = accuracy_score(y_train_true, log_reg_train_pred)\n",
    "\n",
    "# predict and calculate accuracy for validation data\n",
    "log_reg_val_pred = log_regression.predict(X_val_concat)\n",
    "log_reg_accuracy_val = accuracy_score(y_val_true, log_reg_val_pred)\n",
    "\n",
    "print('Logistic Regression Training Accuracy:', log_reg_accuracy_train)\n",
    "print('Logistic Regression Validation Accuracy:', log_reg_accuracy_val)\n"
   ]
  },
  {
   "cell_type": "markdown",
   "metadata": {},
   "source": [
    "Seems like my data is very linear! Also the default l2 regularization is reducing the feature space so overall, we may just want to go with this option (especially since the number of datapoints is low). Due to the fact that my categories are very imbalanced (my lowest category only has two data points with that label), I will not be cross validating the models. I will revisit this once I have more datapoints."
   ]
  },
  {
   "cell_type": "markdown",
   "metadata": {},
   "source": [
    "## Random Forest Classifier"
   ]
  },
  {
   "cell_type": "code",
   "execution_count": 21,
   "metadata": {},
   "outputs": [
    {
     "name": "stdout",
     "output_type": "stream",
     "text": [
      "Random Forest Model Validation Accuracy: 0.8928571428571429\n"
     ]
    }
   ],
   "source": [
    "# try a simple RandomForestClassifier\n",
    "random_forest = RandomForestClassifier(n_estimators=500, random_state=42)\n",
    "random_forest.fit(X_train_concat, y_train.argmax(axis=1))\n",
    "\n",
    "# predict and calculate accuracy\n",
    "rf_val_pred = random_forest.predict(X_val_concat)\n",
    "rf_accuracy = accuracy_score(y_val_true, rf_val_pred)\n",
    "\n",
    "print(\"Random Forest Model Validation Accuracy:\", rf_accuracy)"
   ]
  },
  {
   "cell_type": "markdown",
   "metadata": {},
   "source": [
    "Not as good as Logisitic regression, which makes sense since the feature space is so big."
   ]
  },
  {
   "cell_type": "markdown",
   "metadata": {},
   "source": [
    "## Support Vector Machine"
   ]
  },
  {
   "cell_type": "code",
   "execution_count": 22,
   "metadata": {},
   "outputs": [
    {
     "name": "stdout",
     "output_type": "stream",
     "text": [
      "SVC Train Accuracy: 0.969807868252516\n",
      "SVC Validation Accuracy: 0.9258241758241759\n"
     ]
    }
   ],
   "source": [
    "# use SVC with a linear kernel (probability=True is used for later in the notebook)\n",
    "# we saw that logistic regressions with some regularization helped so we'll copy the same process but with SVC\n",
    "svm_model = SVC(kernel='linear', C=.09, random_state=42, probability=True)\n",
    "svm_model.fit(X_train_concat, y_train.argmax(axis=1))\n",
    "\n",
    "# create predictions and calculate accuracy\n",
    "y_train_pred = svm_model.predict(X_train_concat)\n",
    "y_val_pred = svm_model.predict(X_val_concat)\n",
    "\n",
    "svm_train_accuracy = accuracy_score(y_train.argmax(axis=1), y_train_pred)\n",
    "svm_val_accuracy = accuracy_score(y_val.argmax(axis=1), y_val_pred)\n",
    "\n",
    "print('SVC Train Accuracy:', svm_train_accuracy)\n",
    "print('SVC Validation Accuracy:', svm_val_accuracy)"
   ]
  },
  {
   "cell_type": "markdown",
   "metadata": {},
   "source": [
    "It seems like SVC does just as well on the validation data as our logistic regression; however, it seems to be overfitting less, which may make this our best model yet."
   ]
  },
  {
   "cell_type": "markdown",
   "metadata": {},
   "source": [
    "# Deep Neural Network  \n",
    "\n",
    "I will now attempt to create a deep neural network that beats the performance of my baseline models. However, I expect that it won't do as well as the linear models since my dataset is extremely small. But it would be good to see the performance and reimplement this model once I've collected more data."
   ]
  },
  {
   "cell_type": "code",
   "execution_count": null,
   "metadata": {},
   "outputs": [],
   "source": [
    "def build_model(embeddings_shape, other_features_shape, num_categories, learning_rate):\n",
    "    \"\"\"Build a Neural Network that will take an embedding tensor and a tensor with the other features (price, source, etc).\n",
    "    The model will then process them differently. The embedding tensor will go through a reduction layer to reduce the size to 150 neurons.\n",
    "    The other_features will go through a Dense layer first. Then they will be concatenated and go through a shallow network to learn.\n",
    "\n",
    "    Params:\n",
    "    ------------------------------------------\n",
    "    embeddings_shape (int): number of features in the embeddings array\n",
    "    other_features_shape (int): number of features in the other_features array\n",
    "    num_categories (int): number of classes\n",
    "    learning_rate (float): the learning rate for the optimizer.\n",
    "\n",
    "    Returns:\n",
    "    ------------------------------------------\n",
    "    model (tf model): a classification model that takes an embedding tensor and a tensor of other useful features to classify bank transactions into distinct categories.\n",
    "    \"\"\"\n",
    "    # create input layers\n",
    "    embeddings_input = tf.keras.layers.Input(shape=(embeddings_shape,))\n",
    "    other_features_input = tf.keras.layers.Input(shape=(other_features_shape,))\n",
    "\n",
    "    # reduce the size of the embeddings tensor to 150 neurons\n",
    "    reduction_layer = tf.keras.layers.Dense(150, activation='relu', kernel_regularizer=tf.keras.regularizers.l2(0.01))(embeddings_input)\n",
    "\n",
    "    # train the model on just the other_features separately first\n",
    "    other_features_layer = tf.keras.layers.Dense(64, activation='relu', kernel_regularizer=tf.keras.regularizers.l2(0.01))(other_features_input)\n",
    "    other_features_layer = tf.keras.layers.Dropout(0.1)(other_features_layer)\n",
    "\n",
    "    # concatenate the other_features and the embeddings\n",
    "    concat_layer = tf.keras.layers.concatenate([reduction_layer, other_features_layer])\n",
    "\n",
    "    # go through one Dense layer with Dropout\n",
    "    dense_layer = tf.keras.layers.Dense(128, activation='relu', kernel_regularizer=tf.keras.regularizers.l2(0.01))(concat_layer)\n",
    "    dropout_layer = tf.keras.layers.Dropout(0.1)(dense_layer)\n",
    "\n",
    "    # output with the num_categories using softmax\n",
    "    output_layer = tf.keras.layers.Dense(num_categories, activation='softmax')(dropout_layer)\n",
    "\n",
    "    # build the model\n",
    "    model = tf.keras.Model(inputs=[embeddings_input, other_features_input], outputs=output_layer)\n",
    "\n",
    "    # specify the optimizer\n",
    "    optimizer = tf.keras.optimizers.Adam(learning_rate=learning_rate)\n",
    "\n",
    "    # compile model\n",
    "    model.compile(optimizer=optimizer, loss='categorical_crossentropy', metrics=['accuracy'])\n",
    "\n",
    "    return model"
   ]
  },
  {
   "cell_type": "code",
   "execution_count": null,
   "metadata": {},
   "outputs": [],
   "source": [
    "def fit_model(model, train_embeddings, X_train_other, val_embeddings, X_val_other, y_train, y_val, epochs, batch_size):\n",
    "    \"\"\"\n",
    "    Train the model and output a loss vs. epochs scatterplot and lineplot.\n",
    "\n",
    "    Parameters:\n",
    "    model: TensorFlow/Keras model\n",
    "    train_embeddings: numpy array for training embeddings\n",
    "    X_train_other: numpy array for additional training features\n",
    "    val_embeddings: numpy array for validation embeddings\n",
    "    X_val_other: numpy array for additional validation features\n",
    "    y_train: numpy array for training labels\n",
    "    y_val: numpy array for validation labels\n",
    "    epochs: int, number of epochs to train\n",
    "    batch_size: int, batch size for training\n",
    "\n",
    "    Returns:\n",
    "    history: History object from model training\n",
    "    \"\"\"\n",
    "    # Set up early stopping and checkpoint callbacks\n",
    "    early_stopping = tf.keras.callbacks.EarlyStopping(monitor='val_loss', patience=10, restore_best_weights=True)\n",
    "    model_checkpoint = tf.keras.callbacks.ModelCheckpoint(filepath='best_model.keras', monitor='val_loss', save_best_only=True)\n",
    "\n",
    "    # Train the model\n",
    "    history = model.fit(\n",
    "        x=[train_embeddings, X_train_other],\n",
    "        y=y_train,\n",
    "        validation_data=([val_embeddings, X_val_other], y_val),\n",
    "        epochs=epochs,\n",
    "        batch_size=batch_size,\n",
    "        callbacks=[early_stopping, model_checkpoint],\n",
    "        verbose=1\n",
    "    )\n",
    "\n",
    "    # Plot loss vs epochs\n",
    "    train_loss = history.history['loss']\n",
    "    val_loss = history.history['val_loss']\n",
    "    epochs_range = np.arange(len(train_loss))\n",
    "\n",
    "    plt.figure(figsize=(10, 6))\n",
    "\n",
    "    # Scatter plot for training and validation loss\n",
    "    plt.scatter(epochs_range, train_loss, color='blue', label='Training Loss', alpha=0.6)\n",
    "    plt.scatter(epochs_range, val_loss, color='red', label='Validation Loss', alpha=0.6)\n",
    "\n",
    "    # Line plot for smoother visualization\n",
    "    plt.plot(epochs_range, train_loss, color='blue', linestyle='-', label='Training Loss (line)')\n",
    "    plt.plot(epochs_range, val_loss, color='red', linestyle='-', label='Validation Loss (line)')\n",
    "\n",
    "    plt.xlabel('Epochs')\n",
    "    plt.ylabel('Loss')\n",
    "    plt.title('Training and Validation Loss vs. Epochs')\n",
    "    plt.legend()\n",
    "    plt.grid(True, linestyle='--', alpha=0.5)\n",
    "    plt.show()\n",
    "\n",
    "    return history"
   ]
  },
  {
   "cell_type": "code",
   "execution_count": 24,
   "metadata": {},
   "outputs": [
    {
     "name": "stdout",
     "output_type": "stream",
     "text": [
      "Epoch 1/1000\n",
      "547/547 [==============================] - 17s 4ms/step - loss: 7.5172 - accuracy: 0.2598 - val_loss: 6.8672 - val_accuracy: 0.4451\n",
      "Epoch 2/1000\n",
      "547/547 [==============================] - 2s 3ms/step - loss: 6.7398 - accuracy: 0.4501 - val_loss: 6.2836 - val_accuracy: 0.4451\n",
      "Epoch 3/1000\n",
      "547/547 [==============================] - 2s 3ms/step - loss: 6.2520 - accuracy: 0.4648 - val_loss: 5.9480 - val_accuracy: 0.4835\n",
      "Epoch 4/1000\n",
      "547/547 [==============================] - 2s 3ms/step - loss: 5.8586 - accuracy: 0.4959 - val_loss: 5.6879 - val_accuracy: 0.5330\n",
      "Epoch 5/1000\n",
      "547/547 [==============================] - 2s 3ms/step - loss: 5.7955 - accuracy: 0.5252 - val_loss: 5.4526 - val_accuracy: 0.5604\n",
      "Epoch 6/1000\n",
      "547/547 [==============================] - 2s 3ms/step - loss: 5.4974 - accuracy: 0.5416 - val_loss: 5.2529 - val_accuracy: 0.5769\n",
      "Epoch 7/1000\n",
      "547/547 [==============================] - 2s 3ms/step - loss: 5.4319 - accuracy: 0.5517 - val_loss: 5.0750 - val_accuracy: 0.5907\n",
      "Epoch 8/1000\n",
      "547/547 [==============================] - 2s 3ms/step - loss: 5.1906 - accuracy: 0.5746 - val_loss: 4.9107 - val_accuracy: 0.6016\n",
      "Epoch 9/1000\n",
      "547/547 [==============================] - 2s 3ms/step - loss: 5.0192 - accuracy: 0.5892 - val_loss: 4.7605 - val_accuracy: 0.6126\n",
      "Epoch 10/1000\n",
      "547/547 [==============================] - 2s 3ms/step - loss: 4.7945 - accuracy: 0.6002 - val_loss: 4.6311 - val_accuracy: 0.6291\n",
      "Epoch 11/1000\n",
      "547/547 [==============================] - 2s 3ms/step - loss: 4.7240 - accuracy: 0.6157 - val_loss: 4.5111 - val_accuracy: 0.6511\n",
      "Epoch 12/1000\n",
      "547/547 [==============================] - 2s 3ms/step - loss: 4.5930 - accuracy: 0.6377 - val_loss: 4.4010 - val_accuracy: 0.6868\n",
      "Epoch 13/1000\n",
      "547/547 [==============================] - 2s 3ms/step - loss: 4.4558 - accuracy: 0.6432 - val_loss: 4.3040 - val_accuracy: 0.6923\n",
      "Epoch 14/1000\n",
      "547/547 [==============================] - 2s 3ms/step - loss: 4.3398 - accuracy: 0.6715 - val_loss: 4.2128 - val_accuracy: 0.7060\n",
      "Epoch 15/1000\n",
      "547/547 [==============================] - 2s 3ms/step - loss: 4.2899 - accuracy: 0.6798 - val_loss: 4.1378 - val_accuracy: 0.7033\n",
      "Epoch 16/1000\n",
      "547/547 [==============================] - 2s 3ms/step - loss: 4.1624 - accuracy: 0.7027 - val_loss: 4.0566 - val_accuracy: 0.7225\n",
      "Epoch 17/1000\n",
      "547/547 [==============================] - 2s 3ms/step - loss: 4.1473 - accuracy: 0.7164 - val_loss: 3.9877 - val_accuracy: 0.7473\n",
      "Epoch 18/1000\n",
      "547/547 [==============================] - 2s 3ms/step - loss: 4.0446 - accuracy: 0.7219 - val_loss: 3.9150 - val_accuracy: 0.7775\n",
      "Epoch 19/1000\n",
      "547/547 [==============================] - 2s 3ms/step - loss: 3.9031 - accuracy: 0.7237 - val_loss: 3.8484 - val_accuracy: 0.7912\n",
      "Epoch 20/1000\n",
      "547/547 [==============================] - 2s 3ms/step - loss: 3.8936 - accuracy: 0.7484 - val_loss: 3.7877 - val_accuracy: 0.8077\n",
      "Epoch 21/1000\n",
      "547/547 [==============================] - 2s 3ms/step - loss: 3.8561 - accuracy: 0.7575 - val_loss: 3.7297 - val_accuracy: 0.7967\n",
      "Epoch 22/1000\n",
      "547/547 [==============================] - 2s 3ms/step - loss: 3.7496 - accuracy: 0.7548 - val_loss: 3.6732 - val_accuracy: 0.8132\n",
      "Epoch 23/1000\n",
      "547/547 [==============================] - 2s 3ms/step - loss: 3.6067 - accuracy: 0.7758 - val_loss: 3.6182 - val_accuracy: 0.8132\n",
      "Epoch 24/1000\n",
      "547/547 [==============================] - 2s 3ms/step - loss: 3.5714 - accuracy: 0.7841 - val_loss: 3.5679 - val_accuracy: 0.8077\n",
      "Epoch 25/1000\n",
      "547/547 [==============================] - 2s 3ms/step - loss: 3.6160 - accuracy: 0.7731 - val_loss: 3.5171 - val_accuracy: 0.8104\n",
      "Epoch 26/1000\n",
      "547/547 [==============================] - 2s 3ms/step - loss: 3.4373 - accuracy: 0.7896 - val_loss: 3.4692 - val_accuracy: 0.8132\n",
      "Epoch 27/1000\n",
      "547/547 [==============================] - 2s 3ms/step - loss: 3.4793 - accuracy: 0.7969 - val_loss: 3.4283 - val_accuracy: 0.8104\n",
      "Epoch 28/1000\n",
      "547/547 [==============================] - 2s 3ms/step - loss: 3.3659 - accuracy: 0.7960 - val_loss: 3.3850 - val_accuracy: 0.8132\n",
      "Epoch 29/1000\n",
      "547/547 [==============================] - 2s 3ms/step - loss: 3.3966 - accuracy: 0.8079 - val_loss: 3.3411 - val_accuracy: 0.8104\n",
      "Epoch 30/1000\n",
      "547/547 [==============================] - 2s 3ms/step - loss: 3.3243 - accuracy: 0.8051 - val_loss: 3.2979 - val_accuracy: 0.8077\n",
      "Epoch 31/1000\n",
      "547/547 [==============================] - 2s 3ms/step - loss: 3.2209 - accuracy: 0.8079 - val_loss: 3.2582 - val_accuracy: 0.8022\n",
      "Epoch 32/1000\n",
      "547/547 [==============================] - 2s 3ms/step - loss: 3.2208 - accuracy: 0.8106 - val_loss: 3.2178 - val_accuracy: 0.8132\n",
      "Epoch 33/1000\n",
      "547/547 [==============================] - 2s 3ms/step - loss: 3.1789 - accuracy: 0.8170 - val_loss: 3.1795 - val_accuracy: 0.8214\n",
      "Epoch 34/1000\n",
      "547/547 [==============================] - 2s 3ms/step - loss: 3.1225 - accuracy: 0.8152 - val_loss: 3.1458 - val_accuracy: 0.8132\n",
      "Epoch 35/1000\n",
      "547/547 [==============================] - 2s 3ms/step - loss: 3.0775 - accuracy: 0.8161 - val_loss: 3.1046 - val_accuracy: 0.8324\n",
      "Epoch 36/1000\n",
      "547/547 [==============================] - 2s 3ms/step - loss: 3.0645 - accuracy: 0.8262 - val_loss: 3.0707 - val_accuracy: 0.8324\n",
      "Epoch 37/1000\n",
      "547/547 [==============================] - 2s 3ms/step - loss: 2.9412 - accuracy: 0.8362 - val_loss: 3.0368 - val_accuracy: 0.8269\n",
      "Epoch 38/1000\n",
      "547/547 [==============================] - 2s 3ms/step - loss: 2.9305 - accuracy: 0.8298 - val_loss: 2.9982 - val_accuracy: 0.8407\n",
      "Epoch 39/1000\n",
      "547/547 [==============================] - 2s 3ms/step - loss: 2.9444 - accuracy: 0.8225 - val_loss: 2.9682 - val_accuracy: 0.8379\n",
      "Epoch 40/1000\n",
      "547/547 [==============================] - 2s 3ms/step - loss: 2.9286 - accuracy: 0.8353 - val_loss: 2.9360 - val_accuracy: 0.8407\n",
      "Epoch 41/1000\n",
      "547/547 [==============================] - 2s 3ms/step - loss: 2.8431 - accuracy: 0.8371 - val_loss: 2.9096 - val_accuracy: 0.8324\n",
      "Epoch 42/1000\n",
      "547/547 [==============================] - 2s 3ms/step - loss: 2.7863 - accuracy: 0.8344 - val_loss: 2.8754 - val_accuracy: 0.8407\n",
      "Epoch 43/1000\n",
      "547/547 [==============================] - 2s 3ms/step - loss: 2.8389 - accuracy: 0.8371 - val_loss: 2.8508 - val_accuracy: 0.8324\n",
      "Epoch 44/1000\n",
      "547/547 [==============================] - 2s 3ms/step - loss: 2.7134 - accuracy: 0.8490 - val_loss: 2.8264 - val_accuracy: 0.8297\n",
      "Epoch 45/1000\n",
      "547/547 [==============================] - 2s 3ms/step - loss: 2.7394 - accuracy: 0.8472 - val_loss: 2.7961 - val_accuracy: 0.8379\n",
      "Epoch 46/1000\n",
      "547/547 [==============================] - 2s 3ms/step - loss: 2.6305 - accuracy: 0.8573 - val_loss: 2.7690 - val_accuracy: 0.8462\n",
      "Epoch 47/1000\n",
      "547/547 [==============================] - 2s 3ms/step - loss: 2.6673 - accuracy: 0.8536 - val_loss: 2.7464 - val_accuracy: 0.8379\n",
      "Epoch 48/1000\n",
      "547/547 [==============================] - 2s 3ms/step - loss: 2.5877 - accuracy: 0.8509 - val_loss: 2.7215 - val_accuracy: 0.8434\n",
      "Epoch 49/1000\n",
      "547/547 [==============================] - 2s 3ms/step - loss: 2.6422 - accuracy: 0.8527 - val_loss: 2.7034 - val_accuracy: 0.8407\n",
      "Epoch 50/1000\n",
      "547/547 [==============================] - 2s 3ms/step - loss: 2.6021 - accuracy: 0.8573 - val_loss: 2.6682 - val_accuracy: 0.8379\n",
      "Epoch 51/1000\n",
      "547/547 [==============================] - 2s 3ms/step - loss: 2.5739 - accuracy: 0.8545 - val_loss: 2.6492 - val_accuracy: 0.8434\n",
      "Epoch 52/1000\n",
      "547/547 [==============================] - 2s 3ms/step - loss: 2.5188 - accuracy: 0.8646 - val_loss: 2.6216 - val_accuracy: 0.8434\n",
      "Epoch 53/1000\n",
      "547/547 [==============================] - 2s 3ms/step - loss: 2.6081 - accuracy: 0.8481 - val_loss: 2.6014 - val_accuracy: 0.8434\n",
      "Epoch 54/1000\n",
      "547/547 [==============================] - 2s 3ms/step - loss: 2.4744 - accuracy: 0.8545 - val_loss: 2.5781 - val_accuracy: 0.8489\n",
      "Epoch 55/1000\n",
      "547/547 [==============================] - 2s 3ms/step - loss: 2.4560 - accuracy: 0.8472 - val_loss: 2.5547 - val_accuracy: 0.8489\n",
      "Epoch 56/1000\n",
      "547/547 [==============================] - 2s 3ms/step - loss: 2.4728 - accuracy: 0.8426 - val_loss: 2.5413 - val_accuracy: 0.8462\n",
      "Epoch 57/1000\n",
      "547/547 [==============================] - 2s 3ms/step - loss: 2.4381 - accuracy: 0.8536 - val_loss: 2.5210 - val_accuracy: 0.8462\n",
      "Epoch 58/1000\n",
      "547/547 [==============================] - 2s 3ms/step - loss: 2.3715 - accuracy: 0.8637 - val_loss: 2.4947 - val_accuracy: 0.8544\n",
      "Epoch 59/1000\n",
      "547/547 [==============================] - 2s 3ms/step - loss: 2.4164 - accuracy: 0.8536 - val_loss: 2.4733 - val_accuracy: 0.8516\n",
      "Epoch 60/1000\n",
      "547/547 [==============================] - 2s 3ms/step - loss: 2.3819 - accuracy: 0.8536 - val_loss: 2.4569 - val_accuracy: 0.8516\n",
      "Epoch 61/1000\n",
      "547/547 [==============================] - 2s 3ms/step - loss: 2.3822 - accuracy: 0.8554 - val_loss: 2.4372 - val_accuracy: 0.8544\n",
      "Epoch 62/1000\n",
      "547/547 [==============================] - 2s 3ms/step - loss: 2.3683 - accuracy: 0.8582 - val_loss: 2.4228 - val_accuracy: 0.8516\n",
      "Epoch 63/1000\n",
      "547/547 [==============================] - 2s 3ms/step - loss: 2.3289 - accuracy: 0.8582 - val_loss: 2.4028 - val_accuracy: 0.8489\n",
      "Epoch 64/1000\n",
      "547/547 [==============================] - 2s 3ms/step - loss: 2.2838 - accuracy: 0.8545 - val_loss: 2.3838 - val_accuracy: 0.8544\n",
      "Epoch 65/1000\n",
      "547/547 [==============================] - 2s 3ms/step - loss: 2.2761 - accuracy: 0.8628 - val_loss: 2.3641 - val_accuracy: 0.8571\n",
      "Epoch 66/1000\n",
      "547/547 [==============================] - 2s 3ms/step - loss: 2.2170 - accuracy: 0.8646 - val_loss: 2.3484 - val_accuracy: 0.8599\n",
      "Epoch 67/1000\n",
      "547/547 [==============================] - 2s 3ms/step - loss: 2.2283 - accuracy: 0.8673 - val_loss: 2.3372 - val_accuracy: 0.8516\n",
      "Epoch 68/1000\n",
      "547/547 [==============================] - 2s 3ms/step - loss: 2.2264 - accuracy: 0.8701 - val_loss: 2.3210 - val_accuracy: 0.8544\n",
      "Epoch 69/1000\n",
      "547/547 [==============================] - 2s 3ms/step - loss: 2.1931 - accuracy: 0.8710 - val_loss: 2.3039 - val_accuracy: 0.8462\n",
      "Epoch 70/1000\n",
      "547/547 [==============================] - 2s 3ms/step - loss: 2.1475 - accuracy: 0.8655 - val_loss: 2.2832 - val_accuracy: 0.8599\n",
      "Epoch 71/1000\n",
      "547/547 [==============================] - 2s 3ms/step - loss: 2.2069 - accuracy: 0.8628 - val_loss: 2.2694 - val_accuracy: 0.8489\n",
      "Epoch 72/1000\n",
      "547/547 [==============================] - 2s 3ms/step - loss: 2.1529 - accuracy: 0.8756 - val_loss: 2.2587 - val_accuracy: 0.8516\n",
      "Epoch 73/1000\n",
      "547/547 [==============================] - 2s 3ms/step - loss: 2.1281 - accuracy: 0.8783 - val_loss: 2.2438 - val_accuracy: 0.8516\n",
      "Epoch 74/1000\n",
      "547/547 [==============================] - 2s 3ms/step - loss: 2.1277 - accuracy: 0.8801 - val_loss: 2.2392 - val_accuracy: 0.8489\n",
      "Epoch 75/1000\n",
      "547/547 [==============================] - 2s 3ms/step - loss: 2.1425 - accuracy: 0.8774 - val_loss: 2.2161 - val_accuracy: 0.8462\n",
      "Epoch 76/1000\n",
      "547/547 [==============================] - 2s 3ms/step - loss: 2.0667 - accuracy: 0.8719 - val_loss: 2.2022 - val_accuracy: 0.8544\n",
      "Epoch 77/1000\n",
      "547/547 [==============================] - 2s 3ms/step - loss: 2.0203 - accuracy: 0.8774 - val_loss: 2.1811 - val_accuracy: 0.8489\n",
      "Epoch 78/1000\n",
      "547/547 [==============================] - 2s 3ms/step - loss: 2.0443 - accuracy: 0.8683 - val_loss: 2.1703 - val_accuracy: 0.8571\n",
      "Epoch 79/1000\n",
      "547/547 [==============================] - 2s 3ms/step - loss: 1.9965 - accuracy: 0.8847 - val_loss: 2.1565 - val_accuracy: 0.8544\n",
      "Epoch 80/1000\n",
      "547/547 [==============================] - 2s 3ms/step - loss: 1.9690 - accuracy: 0.8902 - val_loss: 2.1393 - val_accuracy: 0.8544\n",
      "Epoch 81/1000\n",
      "547/547 [==============================] - 2s 3ms/step - loss: 2.0243 - accuracy: 0.8838 - val_loss: 2.1232 - val_accuracy: 0.8626\n",
      "Epoch 82/1000\n",
      "547/547 [==============================] - 2s 3ms/step - loss: 1.9910 - accuracy: 0.8737 - val_loss: 2.1087 - val_accuracy: 0.8709\n",
      "Epoch 83/1000\n",
      "547/547 [==============================] - 2s 3ms/step - loss: 1.9499 - accuracy: 0.8792 - val_loss: 2.1106 - val_accuracy: 0.8544\n",
      "Epoch 84/1000\n",
      "547/547 [==============================] - 2s 3ms/step - loss: 1.9511 - accuracy: 0.8847 - val_loss: 2.0950 - val_accuracy: 0.8516\n",
      "Epoch 85/1000\n",
      "547/547 [==============================] - 2s 3ms/step - loss: 1.9510 - accuracy: 0.8820 - val_loss: 2.0850 - val_accuracy: 0.8626\n",
      "Epoch 86/1000\n",
      "547/547 [==============================] - 2s 3ms/step - loss: 1.9044 - accuracy: 0.8884 - val_loss: 2.0701 - val_accuracy: 0.8626\n",
      "Epoch 87/1000\n",
      "547/547 [==============================] - 2s 3ms/step - loss: 1.9508 - accuracy: 0.8902 - val_loss: 2.0598 - val_accuracy: 0.8571\n",
      "Epoch 88/1000\n",
      "547/547 [==============================] - 2s 3ms/step - loss: 1.8822 - accuracy: 0.8838 - val_loss: 2.0441 - val_accuracy: 0.8599\n",
      "Epoch 89/1000\n",
      "547/547 [==============================] - 2s 3ms/step - loss: 1.9032 - accuracy: 0.8984 - val_loss: 2.0370 - val_accuracy: 0.8626\n",
      "Epoch 90/1000\n",
      "547/547 [==============================] - 2s 3ms/step - loss: 1.8945 - accuracy: 0.8920 - val_loss: 2.0210 - val_accuracy: 0.8599\n",
      "Epoch 91/1000\n",
      "547/547 [==============================] - 2s 3ms/step - loss: 1.9766 - accuracy: 0.8829 - val_loss: 2.0128 - val_accuracy: 0.8599\n",
      "Epoch 92/1000\n",
      "547/547 [==============================] - 2s 3ms/step - loss: 1.8432 - accuracy: 0.8875 - val_loss: 2.0019 - val_accuracy: 0.8599\n",
      "Epoch 93/1000\n",
      "547/547 [==============================] - 2s 3ms/step - loss: 1.8355 - accuracy: 0.8866 - val_loss: 1.9949 - val_accuracy: 0.8626\n",
      "Epoch 94/1000\n",
      "547/547 [==============================] - 2s 3ms/step - loss: 1.8742 - accuracy: 0.8911 - val_loss: 1.9799 - val_accuracy: 0.8654\n",
      "Epoch 95/1000\n",
      "547/547 [==============================] - 2s 3ms/step - loss: 1.8918 - accuracy: 0.8792 - val_loss: 1.9767 - val_accuracy: 0.8681\n",
      "Epoch 96/1000\n",
      "547/547 [==============================] - 2s 3ms/step - loss: 1.7941 - accuracy: 0.8884 - val_loss: 1.9602 - val_accuracy: 0.8709\n",
      "Epoch 97/1000\n",
      "547/547 [==============================] - 2s 3ms/step - loss: 1.7704 - accuracy: 0.8966 - val_loss: 1.9530 - val_accuracy: 0.8709\n",
      "Epoch 98/1000\n",
      "547/547 [==============================] - 2s 3ms/step - loss: 1.7893 - accuracy: 0.8884 - val_loss: 1.9432 - val_accuracy: 0.8709\n",
      "Epoch 99/1000\n",
      "547/547 [==============================] - 2s 3ms/step - loss: 1.7831 - accuracy: 0.8893 - val_loss: 1.9337 - val_accuracy: 0.8709\n",
      "Epoch 100/1000\n",
      "547/547 [==============================] - 2s 3ms/step - loss: 1.7569 - accuracy: 0.8930 - val_loss: 1.9227 - val_accuracy: 0.8709\n",
      "Epoch 101/1000\n",
      "547/547 [==============================] - 2s 3ms/step - loss: 1.7721 - accuracy: 0.8966 - val_loss: 1.9189 - val_accuracy: 0.8764\n",
      "Epoch 102/1000\n",
      "547/547 [==============================] - 2s 3ms/step - loss: 1.6968 - accuracy: 0.9039 - val_loss: 1.9056 - val_accuracy: 0.8709\n",
      "Epoch 103/1000\n",
      "547/547 [==============================] - 2s 3ms/step - loss: 1.7100 - accuracy: 0.8948 - val_loss: 1.8940 - val_accuracy: 0.8709\n",
      "Epoch 104/1000\n",
      "547/547 [==============================] - 2s 3ms/step - loss: 1.7205 - accuracy: 0.8948 - val_loss: 1.8896 - val_accuracy: 0.8654\n",
      "Epoch 105/1000\n",
      "547/547 [==============================] - 2s 3ms/step - loss: 1.6852 - accuracy: 0.8930 - val_loss: 1.8813 - val_accuracy: 0.8681\n",
      "Epoch 106/1000\n",
      "547/547 [==============================] - 2s 3ms/step - loss: 1.6722 - accuracy: 0.9021 - val_loss: 1.8674 - val_accuracy: 0.8681\n",
      "Epoch 107/1000\n",
      "547/547 [==============================] - 2s 3ms/step - loss: 1.6192 - accuracy: 0.9048 - val_loss: 1.8538 - val_accuracy: 0.8791\n",
      "Epoch 108/1000\n",
      "547/547 [==============================] - 2s 3ms/step - loss: 1.6984 - accuracy: 0.9058 - val_loss: 1.8524 - val_accuracy: 0.8681\n",
      "Epoch 109/1000\n",
      "547/547 [==============================] - 2s 3ms/step - loss: 1.6639 - accuracy: 0.9021 - val_loss: 1.8426 - val_accuracy: 0.8791\n",
      "Epoch 110/1000\n",
      "547/547 [==============================] - 2s 3ms/step - loss: 1.6706 - accuracy: 0.8984 - val_loss: 1.8304 - val_accuracy: 0.8709\n",
      "Epoch 111/1000\n",
      "547/547 [==============================] - 2s 3ms/step - loss: 1.6492 - accuracy: 0.9113 - val_loss: 1.8185 - val_accuracy: 0.8791\n",
      "Epoch 112/1000\n",
      "547/547 [==============================] - 2s 3ms/step - loss: 1.6884 - accuracy: 0.8984 - val_loss: 1.8121 - val_accuracy: 0.8819\n",
      "Epoch 113/1000\n",
      "547/547 [==============================] - 2s 3ms/step - loss: 1.6090 - accuracy: 0.9030 - val_loss: 1.8027 - val_accuracy: 0.8764\n",
      "Epoch 114/1000\n",
      "547/547 [==============================] - 2s 3ms/step - loss: 1.6330 - accuracy: 0.9048 - val_loss: 1.7950 - val_accuracy: 0.8819\n",
      "Epoch 115/1000\n",
      "547/547 [==============================] - 2s 3ms/step - loss: 1.6624 - accuracy: 0.9039 - val_loss: 1.7966 - val_accuracy: 0.8791\n",
      "Epoch 116/1000\n",
      "547/547 [==============================] - 2s 3ms/step - loss: 1.6445 - accuracy: 0.9122 - val_loss: 1.7892 - val_accuracy: 0.8764\n",
      "Epoch 117/1000\n",
      "547/547 [==============================] - 2s 3ms/step - loss: 1.6160 - accuracy: 0.9048 - val_loss: 1.7832 - val_accuracy: 0.8736\n",
      "Epoch 118/1000\n",
      "547/547 [==============================] - 2s 3ms/step - loss: 1.5477 - accuracy: 0.9122 - val_loss: 1.7726 - val_accuracy: 0.8764\n",
      "Epoch 119/1000\n",
      "547/547 [==============================] - 2s 3ms/step - loss: 1.6093 - accuracy: 0.9122 - val_loss: 1.7666 - val_accuracy: 0.8764\n",
      "Epoch 120/1000\n",
      "547/547 [==============================] - 2s 3ms/step - loss: 1.5537 - accuracy: 0.9122 - val_loss: 1.7616 - val_accuracy: 0.8819\n",
      "Epoch 121/1000\n",
      "547/547 [==============================] - 2s 3ms/step - loss: 1.6169 - accuracy: 0.9021 - val_loss: 1.7494 - val_accuracy: 0.8874\n",
      "Epoch 122/1000\n",
      "547/547 [==============================] - 2s 3ms/step - loss: 1.5332 - accuracy: 0.9085 - val_loss: 1.7439 - val_accuracy: 0.8819\n",
      "Epoch 123/1000\n",
      "547/547 [==============================] - 2s 3ms/step - loss: 1.5261 - accuracy: 0.9048 - val_loss: 1.7352 - val_accuracy: 0.8791\n",
      "Epoch 124/1000\n",
      "547/547 [==============================] - 2s 3ms/step - loss: 1.4944 - accuracy: 0.9140 - val_loss: 1.7280 - val_accuracy: 0.8846\n",
      "Epoch 125/1000\n",
      "547/547 [==============================] - 2s 3ms/step - loss: 1.4940 - accuracy: 0.9204 - val_loss: 1.7179 - val_accuracy: 0.8956\n",
      "Epoch 126/1000\n",
      "547/547 [==============================] - 2s 3ms/step - loss: 1.5275 - accuracy: 0.9158 - val_loss: 1.7093 - val_accuracy: 0.8929\n",
      "Epoch 127/1000\n",
      "547/547 [==============================] - 2s 3ms/step - loss: 1.5040 - accuracy: 0.9131 - val_loss: 1.7125 - val_accuracy: 0.8874\n",
      "Epoch 128/1000\n",
      "547/547 [==============================] - 2s 3ms/step - loss: 1.5505 - accuracy: 0.9131 - val_loss: 1.7069 - val_accuracy: 0.8791\n",
      "Epoch 129/1000\n",
      "547/547 [==============================] - 2s 3ms/step - loss: 1.5508 - accuracy: 0.9158 - val_loss: 1.6997 - val_accuracy: 0.8791\n",
      "Epoch 130/1000\n",
      "547/547 [==============================] - 2s 3ms/step - loss: 1.4750 - accuracy: 0.9195 - val_loss: 1.6947 - val_accuracy: 0.8764\n",
      "Epoch 131/1000\n",
      "547/547 [==============================] - 2s 3ms/step - loss: 1.4606 - accuracy: 0.9149 - val_loss: 1.6868 - val_accuracy: 0.8846\n",
      "Epoch 132/1000\n",
      "547/547 [==============================] - 2s 3ms/step - loss: 1.4857 - accuracy: 0.9149 - val_loss: 1.6833 - val_accuracy: 0.8819\n",
      "Epoch 133/1000\n",
      "547/547 [==============================] - 2s 3ms/step - loss: 1.4960 - accuracy: 0.9195 - val_loss: 1.6760 - val_accuracy: 0.8901\n",
      "Epoch 134/1000\n",
      "547/547 [==============================] - 2s 3ms/step - loss: 1.4999 - accuracy: 0.9231 - val_loss: 1.6697 - val_accuracy: 0.8819\n",
      "Epoch 135/1000\n",
      "547/547 [==============================] - 2s 3ms/step - loss: 1.5010 - accuracy: 0.9149 - val_loss: 1.6587 - val_accuracy: 0.8874\n",
      "Epoch 136/1000\n",
      "547/547 [==============================] - 2s 3ms/step - loss: 1.4202 - accuracy: 0.9195 - val_loss: 1.6513 - val_accuracy: 0.8901\n",
      "Epoch 137/1000\n",
      "547/547 [==============================] - 2s 3ms/step - loss: 1.4900 - accuracy: 0.9231 - val_loss: 1.6419 - val_accuracy: 0.8901\n",
      "Epoch 138/1000\n",
      "547/547 [==============================] - 2s 3ms/step - loss: 1.4618 - accuracy: 0.9241 - val_loss: 1.6416 - val_accuracy: 0.8874\n",
      "Epoch 139/1000\n",
      "547/547 [==============================] - 2s 3ms/step - loss: 1.4096 - accuracy: 0.9305 - val_loss: 1.6405 - val_accuracy: 0.8901\n",
      "Epoch 140/1000\n",
      "547/547 [==============================] - 2s 4ms/step - loss: 1.4166 - accuracy: 0.9058 - val_loss: 1.6393 - val_accuracy: 0.8819\n",
      "Epoch 141/1000\n",
      "547/547 [==============================] - 2s 3ms/step - loss: 1.4236 - accuracy: 0.9231 - val_loss: 1.6298 - val_accuracy: 0.8956\n",
      "Epoch 142/1000\n",
      "547/547 [==============================] - 2s 3ms/step - loss: 1.4335 - accuracy: 0.9158 - val_loss: 1.6267 - val_accuracy: 0.9066\n",
      "Epoch 143/1000\n",
      "547/547 [==============================] - 2s 3ms/step - loss: 1.4321 - accuracy: 0.9131 - val_loss: 1.6184 - val_accuracy: 0.9038\n",
      "Epoch 144/1000\n",
      "547/547 [==============================] - 2s 3ms/step - loss: 1.4324 - accuracy: 0.9167 - val_loss: 1.6119 - val_accuracy: 0.8929\n",
      "Epoch 145/1000\n",
      "547/547 [==============================] - 2s 3ms/step - loss: 1.4211 - accuracy: 0.9167 - val_loss: 1.6107 - val_accuracy: 0.9038\n",
      "Epoch 146/1000\n",
      "547/547 [==============================] - 2s 3ms/step - loss: 1.3837 - accuracy: 0.9186 - val_loss: 1.6038 - val_accuracy: 0.8984\n",
      "Epoch 147/1000\n",
      "547/547 [==============================] - 2s 3ms/step - loss: 1.3675 - accuracy: 0.9277 - val_loss: 1.5976 - val_accuracy: 0.8984\n",
      "Epoch 148/1000\n",
      "547/547 [==============================] - 2s 3ms/step - loss: 1.4044 - accuracy: 0.9195 - val_loss: 1.6011 - val_accuracy: 0.8929\n",
      "Epoch 149/1000\n",
      "547/547 [==============================] - 2s 3ms/step - loss: 1.4366 - accuracy: 0.9140 - val_loss: 1.5927 - val_accuracy: 0.8984\n",
      "Epoch 150/1000\n",
      "547/547 [==============================] - 2s 3ms/step - loss: 1.3898 - accuracy: 0.9222 - val_loss: 1.5882 - val_accuracy: 0.8929\n",
      "Epoch 151/1000\n",
      "547/547 [==============================] - 2s 3ms/step - loss: 1.3518 - accuracy: 0.9204 - val_loss: 1.5829 - val_accuracy: 0.8984\n",
      "Epoch 152/1000\n",
      "547/547 [==============================] - 1s 3ms/step - loss: 1.3916 - accuracy: 0.9268 - val_loss: 1.5852 - val_accuracy: 0.9011\n",
      "Epoch 153/1000\n",
      "547/547 [==============================] - 2s 3ms/step - loss: 1.3506 - accuracy: 0.9213 - val_loss: 1.5784 - val_accuracy: 0.8984\n",
      "Epoch 154/1000\n",
      "547/547 [==============================] - 2s 3ms/step - loss: 1.3593 - accuracy: 0.9250 - val_loss: 1.5687 - val_accuracy: 0.9011\n",
      "Epoch 155/1000\n",
      "547/547 [==============================] - 1s 3ms/step - loss: 1.2987 - accuracy: 0.9314 - val_loss: 1.5600 - val_accuracy: 0.8984\n",
      "Epoch 156/1000\n",
      "547/547 [==============================] - 2s 3ms/step - loss: 1.2981 - accuracy: 0.9268 - val_loss: 1.5607 - val_accuracy: 0.9038\n",
      "Epoch 157/1000\n",
      "547/547 [==============================] - 2s 3ms/step - loss: 1.3568 - accuracy: 0.9177 - val_loss: 1.5517 - val_accuracy: 0.9121\n",
      "Epoch 158/1000\n",
      "547/547 [==============================] - 2s 3ms/step - loss: 1.3747 - accuracy: 0.9323 - val_loss: 1.5514 - val_accuracy: 0.9011\n",
      "Epoch 159/1000\n",
      "547/547 [==============================] - 2s 3ms/step - loss: 1.3149 - accuracy: 0.9277 - val_loss: 1.5407 - val_accuracy: 0.9011\n",
      "Epoch 160/1000\n",
      "547/547 [==============================] - 2s 3ms/step - loss: 1.2889 - accuracy: 0.9323 - val_loss: 1.5429 - val_accuracy: 0.8984\n",
      "Epoch 161/1000\n",
      "547/547 [==============================] - 2s 3ms/step - loss: 1.3107 - accuracy: 0.9231 - val_loss: 1.5366 - val_accuracy: 0.8984\n",
      "Epoch 162/1000\n",
      "547/547 [==============================] - 2s 3ms/step - loss: 1.3112 - accuracy: 0.9268 - val_loss: 1.5275 - val_accuracy: 0.9066\n",
      "Epoch 163/1000\n",
      "547/547 [==============================] - 2s 3ms/step - loss: 1.3110 - accuracy: 0.9259 - val_loss: 1.5259 - val_accuracy: 0.9038\n",
      "Epoch 164/1000\n",
      "547/547 [==============================] - 2s 4ms/step - loss: 1.2844 - accuracy: 0.9314 - val_loss: 1.5214 - val_accuracy: 0.9038\n",
      "Epoch 165/1000\n",
      "547/547 [==============================] - 2s 3ms/step - loss: 1.3242 - accuracy: 0.9332 - val_loss: 1.5149 - val_accuracy: 0.9038\n",
      "Epoch 166/1000\n",
      "547/547 [==============================] - 2s 3ms/step - loss: 1.2868 - accuracy: 0.9314 - val_loss: 1.5113 - val_accuracy: 0.9066\n",
      "Epoch 167/1000\n",
      "547/547 [==============================] - 2s 4ms/step - loss: 1.3559 - accuracy: 0.9296 - val_loss: 1.5087 - val_accuracy: 0.9121\n",
      "Epoch 168/1000\n",
      "547/547 [==============================] - 2s 3ms/step - loss: 1.2564 - accuracy: 0.9158 - val_loss: 1.5081 - val_accuracy: 0.9093\n",
      "Epoch 169/1000\n",
      "547/547 [==============================] - 2s 3ms/step - loss: 1.2619 - accuracy: 0.9259 - val_loss: 1.5057 - val_accuracy: 0.9093\n",
      "Epoch 170/1000\n",
      "547/547 [==============================] - 2s 3ms/step - loss: 1.2698 - accuracy: 0.9296 - val_loss: 1.4973 - val_accuracy: 0.9066\n",
      "Epoch 171/1000\n",
      "547/547 [==============================] - 2s 3ms/step - loss: 1.2645 - accuracy: 0.9314 - val_loss: 1.5004 - val_accuracy: 0.9093\n",
      "Epoch 172/1000\n",
      "547/547 [==============================] - 2s 3ms/step - loss: 1.2476 - accuracy: 0.9314 - val_loss: 1.4922 - val_accuracy: 0.9093\n",
      "Epoch 173/1000\n",
      "547/547 [==============================] - 2s 3ms/step - loss: 1.2802 - accuracy: 0.9277 - val_loss: 1.4863 - val_accuracy: 0.9011\n",
      "Epoch 174/1000\n",
      "547/547 [==============================] - 2s 3ms/step - loss: 1.2600 - accuracy: 0.9332 - val_loss: 1.4903 - val_accuracy: 0.9093\n",
      "Epoch 175/1000\n",
      "547/547 [==============================] - 2s 3ms/step - loss: 1.2544 - accuracy: 0.9442 - val_loss: 1.4839 - val_accuracy: 0.9038\n",
      "Epoch 176/1000\n",
      "547/547 [==============================] - 2s 3ms/step - loss: 1.2435 - accuracy: 0.9259 - val_loss: 1.4781 - val_accuracy: 0.9093\n",
      "Epoch 177/1000\n",
      "547/547 [==============================] - 2s 3ms/step - loss: 1.2313 - accuracy: 0.9341 - val_loss: 1.4734 - val_accuracy: 0.9093\n",
      "Epoch 178/1000\n",
      "547/547 [==============================] - 2s 3ms/step - loss: 1.2595 - accuracy: 0.9213 - val_loss: 1.4728 - val_accuracy: 0.9121\n",
      "Epoch 179/1000\n",
      "547/547 [==============================] - 2s 3ms/step - loss: 1.2478 - accuracy: 0.9332 - val_loss: 1.4675 - val_accuracy: 0.9148\n",
      "Epoch 180/1000\n",
      "547/547 [==============================] - 2s 3ms/step - loss: 1.2331 - accuracy: 0.9286 - val_loss: 1.4684 - val_accuracy: 0.9038\n",
      "Epoch 181/1000\n",
      "547/547 [==============================] - 2s 3ms/step - loss: 1.2407 - accuracy: 0.9323 - val_loss: 1.4663 - val_accuracy: 0.9093\n",
      "Epoch 182/1000\n",
      "547/547 [==============================] - 2s 3ms/step - loss: 1.2138 - accuracy: 0.9323 - val_loss: 1.4584 - val_accuracy: 0.9093\n",
      "Epoch 183/1000\n",
      "547/547 [==============================] - 2s 3ms/step - loss: 1.1870 - accuracy: 0.9378 - val_loss: 1.4512 - val_accuracy: 0.9121\n",
      "Epoch 184/1000\n",
      "547/547 [==============================] - 2s 3ms/step - loss: 1.2126 - accuracy: 0.9341 - val_loss: 1.4469 - val_accuracy: 0.9148\n",
      "Epoch 185/1000\n",
      "547/547 [==============================] - 2s 3ms/step - loss: 1.2286 - accuracy: 0.9360 - val_loss: 1.4444 - val_accuracy: 0.9176\n",
      "Epoch 186/1000\n",
      "547/547 [==============================] - 2s 3ms/step - loss: 1.1707 - accuracy: 0.9396 - val_loss: 1.4366 - val_accuracy: 0.9093\n",
      "Epoch 187/1000\n",
      "547/547 [==============================] - 2s 3ms/step - loss: 1.1790 - accuracy: 0.9305 - val_loss: 1.4415 - val_accuracy: 0.9121\n",
      "Epoch 188/1000\n",
      "547/547 [==============================] - 2s 3ms/step - loss: 1.1528 - accuracy: 0.9369 - val_loss: 1.4450 - val_accuracy: 0.9066\n",
      "Epoch 189/1000\n",
      "547/547 [==============================] - 2s 3ms/step - loss: 1.1818 - accuracy: 0.9378 - val_loss: 1.4400 - val_accuracy: 0.9038\n",
      "Epoch 190/1000\n",
      "547/547 [==============================] - 2s 3ms/step - loss: 1.1801 - accuracy: 0.9350 - val_loss: 1.4260 - val_accuracy: 0.9066\n",
      "Epoch 191/1000\n",
      "547/547 [==============================] - 2s 3ms/step - loss: 1.1859 - accuracy: 0.9305 - val_loss: 1.4318 - val_accuracy: 0.9066\n",
      "Epoch 192/1000\n",
      "547/547 [==============================] - 2s 3ms/step - loss: 1.1686 - accuracy: 0.9332 - val_loss: 1.4329 - val_accuracy: 0.9121\n",
      "Epoch 193/1000\n",
      "547/547 [==============================] - 2s 3ms/step - loss: 1.1712 - accuracy: 0.9405 - val_loss: 1.4204 - val_accuracy: 0.9038\n",
      "Epoch 194/1000\n",
      "547/547 [==============================] - 1s 3ms/step - loss: 1.1648 - accuracy: 0.9323 - val_loss: 1.4218 - val_accuracy: 0.9038\n",
      "Epoch 195/1000\n",
      "547/547 [==============================] - 2s 3ms/step - loss: 1.1610 - accuracy: 0.9387 - val_loss: 1.4193 - val_accuracy: 0.9066\n",
      "Epoch 196/1000\n",
      "547/547 [==============================] - 2s 3ms/step - loss: 1.1506 - accuracy: 0.9387 - val_loss: 1.4175 - val_accuracy: 0.9093\n",
      "Epoch 197/1000\n",
      "547/547 [==============================] - 2s 3ms/step - loss: 1.1676 - accuracy: 0.9396 - val_loss: 1.4167 - val_accuracy: 0.9148\n",
      "Epoch 198/1000\n",
      "547/547 [==============================] - 2s 3ms/step - loss: 1.1421 - accuracy: 0.9414 - val_loss: 1.4159 - val_accuracy: 0.9121\n",
      "Epoch 199/1000\n",
      "547/547 [==============================] - 2s 3ms/step - loss: 1.1976 - accuracy: 0.9360 - val_loss: 1.4032 - val_accuracy: 0.9121\n",
      "Epoch 200/1000\n",
      "547/547 [==============================] - 2s 3ms/step - loss: 1.1300 - accuracy: 0.9405 - val_loss: 1.4038 - val_accuracy: 0.9121\n",
      "Epoch 201/1000\n",
      "547/547 [==============================] - 2s 3ms/step - loss: 1.1309 - accuracy: 0.9360 - val_loss: 1.4029 - val_accuracy: 0.9121\n",
      "Epoch 202/1000\n",
      "547/547 [==============================] - 2s 3ms/step - loss: 1.1207 - accuracy: 0.9451 - val_loss: 1.4001 - val_accuracy: 0.9121\n",
      "Epoch 203/1000\n",
      "547/547 [==============================] - 2s 3ms/step - loss: 1.1127 - accuracy: 0.9378 - val_loss: 1.3989 - val_accuracy: 0.9038\n",
      "Epoch 204/1000\n",
      "547/547 [==============================] - 2s 3ms/step - loss: 1.1233 - accuracy: 0.9369 - val_loss: 1.3943 - val_accuracy: 0.9176\n",
      "Epoch 205/1000\n",
      "547/547 [==============================] - 2s 3ms/step - loss: 1.1290 - accuracy: 0.9323 - val_loss: 1.3936 - val_accuracy: 0.9148\n",
      "Epoch 206/1000\n",
      "547/547 [==============================] - 2s 3ms/step - loss: 1.1654 - accuracy: 0.9433 - val_loss: 1.3933 - val_accuracy: 0.9148\n",
      "Epoch 207/1000\n",
      "547/547 [==============================] - 2s 3ms/step - loss: 1.1589 - accuracy: 0.9387 - val_loss: 1.3872 - val_accuracy: 0.9093\n",
      "Epoch 208/1000\n",
      "547/547 [==============================] - 2s 3ms/step - loss: 1.1820 - accuracy: 0.9405 - val_loss: 1.3840 - val_accuracy: 0.9121\n",
      "Epoch 209/1000\n",
      "547/547 [==============================] - 2s 3ms/step - loss: 1.1712 - accuracy: 0.9341 - val_loss: 1.3809 - val_accuracy: 0.9148\n",
      "Epoch 210/1000\n",
      "547/547 [==============================] - 2s 3ms/step - loss: 1.1047 - accuracy: 0.9387 - val_loss: 1.3781 - val_accuracy: 0.9121\n",
      "Epoch 211/1000\n",
      "547/547 [==============================] - 2s 3ms/step - loss: 1.1128 - accuracy: 0.9433 - val_loss: 1.3769 - val_accuracy: 0.9148\n",
      "Epoch 212/1000\n",
      "547/547 [==============================] - 2s 3ms/step - loss: 1.0994 - accuracy: 0.9405 - val_loss: 1.3761 - val_accuracy: 0.9093\n",
      "Epoch 213/1000\n",
      "547/547 [==============================] - 2s 3ms/step - loss: 1.1514 - accuracy: 0.9378 - val_loss: 1.3715 - val_accuracy: 0.9148\n",
      "Epoch 214/1000\n",
      "547/547 [==============================] - 2s 3ms/step - loss: 1.1168 - accuracy: 0.9524 - val_loss: 1.3729 - val_accuracy: 0.9148\n",
      "Epoch 215/1000\n",
      "547/547 [==============================] - 2s 3ms/step - loss: 1.0875 - accuracy: 0.9433 - val_loss: 1.3658 - val_accuracy: 0.9121\n",
      "Epoch 216/1000\n",
      "547/547 [==============================] - 2s 3ms/step - loss: 1.0884 - accuracy: 0.9360 - val_loss: 1.3670 - val_accuracy: 0.9148\n",
      "Epoch 217/1000\n",
      "547/547 [==============================] - 2s 3ms/step - loss: 1.0996 - accuracy: 0.9478 - val_loss: 1.3699 - val_accuracy: 0.9148\n",
      "Epoch 218/1000\n",
      "547/547 [==============================] - 2s 3ms/step - loss: 1.0797 - accuracy: 0.9424 - val_loss: 1.3626 - val_accuracy: 0.9148\n",
      "Epoch 219/1000\n",
      "547/547 [==============================] - 2s 3ms/step - loss: 1.1156 - accuracy: 0.9369 - val_loss: 1.3601 - val_accuracy: 0.9121\n",
      "Epoch 220/1000\n",
      "547/547 [==============================] - 2s 3ms/step - loss: 1.1128 - accuracy: 0.9378 - val_loss: 1.3553 - val_accuracy: 0.9121\n",
      "Epoch 221/1000\n",
      "547/547 [==============================] - 2s 3ms/step - loss: 1.1154 - accuracy: 0.9414 - val_loss: 1.3527 - val_accuracy: 0.9148\n",
      "Epoch 222/1000\n",
      "547/547 [==============================] - 2s 3ms/step - loss: 1.0697 - accuracy: 0.9360 - val_loss: 1.3596 - val_accuracy: 0.9121\n",
      "Epoch 223/1000\n",
      "547/547 [==============================] - 2s 3ms/step - loss: 1.0838 - accuracy: 0.9433 - val_loss: 1.3563 - val_accuracy: 0.9121\n",
      "Epoch 224/1000\n",
      "547/547 [==============================] - 2s 3ms/step - loss: 1.0906 - accuracy: 0.9396 - val_loss: 1.3517 - val_accuracy: 0.9121\n",
      "Epoch 225/1000\n",
      "547/547 [==============================] - 2s 3ms/step - loss: 1.1114 - accuracy: 0.9360 - val_loss: 1.3494 - val_accuracy: 0.9121\n",
      "Epoch 226/1000\n",
      "547/547 [==============================] - 2s 3ms/step - loss: 1.1248 - accuracy: 0.9369 - val_loss: 1.3486 - val_accuracy: 0.9148\n",
      "Epoch 227/1000\n",
      "547/547 [==============================] - 2s 3ms/step - loss: 1.0849 - accuracy: 0.9369 - val_loss: 1.3439 - val_accuracy: 0.9148\n",
      "Epoch 228/1000\n",
      "547/547 [==============================] - 2s 3ms/step - loss: 1.0236 - accuracy: 0.9561 - val_loss: 1.3401 - val_accuracy: 0.9121\n",
      "Epoch 229/1000\n",
      "547/547 [==============================] - 2s 3ms/step - loss: 1.1030 - accuracy: 0.9451 - val_loss: 1.3450 - val_accuracy: 0.9148\n",
      "Epoch 230/1000\n",
      "547/547 [==============================] - 2s 3ms/step - loss: 1.0213 - accuracy: 0.9442 - val_loss: 1.3344 - val_accuracy: 0.9148\n",
      "Epoch 231/1000\n",
      "547/547 [==============================] - 2s 3ms/step - loss: 1.0704 - accuracy: 0.9469 - val_loss: 1.3352 - val_accuracy: 0.9148\n",
      "Epoch 232/1000\n",
      "547/547 [==============================] - 2s 3ms/step - loss: 1.0546 - accuracy: 0.9378 - val_loss: 1.3356 - val_accuracy: 0.9148\n",
      "Epoch 233/1000\n",
      "547/547 [==============================] - 2s 3ms/step - loss: 1.1529 - accuracy: 0.9469 - val_loss: 1.3285 - val_accuracy: 0.9121\n",
      "Epoch 234/1000\n",
      "547/547 [==============================] - 2s 3ms/step - loss: 1.0365 - accuracy: 0.9369 - val_loss: 1.3282 - val_accuracy: 0.9148\n",
      "Epoch 235/1000\n",
      "547/547 [==============================] - 2s 3ms/step - loss: 1.0352 - accuracy: 0.9378 - val_loss: 1.3214 - val_accuracy: 0.9176\n",
      "Epoch 236/1000\n",
      "547/547 [==============================] - 2s 3ms/step - loss: 1.0727 - accuracy: 0.9396 - val_loss: 1.3227 - val_accuracy: 0.9148\n",
      "Epoch 237/1000\n",
      "547/547 [==============================] - 2s 3ms/step - loss: 1.0524 - accuracy: 0.9405 - val_loss: 1.3173 - val_accuracy: 0.9148\n",
      "Epoch 238/1000\n",
      "547/547 [==============================] - 2s 3ms/step - loss: 1.0335 - accuracy: 0.9497 - val_loss: 1.3230 - val_accuracy: 0.9148\n",
      "Epoch 239/1000\n",
      "547/547 [==============================] - 2s 3ms/step - loss: 1.0395 - accuracy: 0.9460 - val_loss: 1.3173 - val_accuracy: 0.9176\n",
      "Epoch 240/1000\n",
      "547/547 [==============================] - 2s 3ms/step - loss: 1.1175 - accuracy: 0.9451 - val_loss: 1.3115 - val_accuracy: 0.9176\n",
      "Epoch 241/1000\n",
      "547/547 [==============================] - 2s 3ms/step - loss: 1.0514 - accuracy: 0.9360 - val_loss: 1.3142 - val_accuracy: 0.9148\n",
      "Epoch 242/1000\n",
      "547/547 [==============================] - 2s 3ms/step - loss: 1.0006 - accuracy: 0.9442 - val_loss: 1.3066 - val_accuracy: 0.9176\n",
      "Epoch 243/1000\n",
      "547/547 [==============================] - 2s 3ms/step - loss: 1.0631 - accuracy: 0.9433 - val_loss: 1.3149 - val_accuracy: 0.9121\n",
      "Epoch 244/1000\n",
      "547/547 [==============================] - 2s 3ms/step - loss: 1.0056 - accuracy: 0.9497 - val_loss: 1.3160 - val_accuracy: 0.9148\n",
      "Epoch 245/1000\n",
      "547/547 [==============================] - 2s 3ms/step - loss: 1.0454 - accuracy: 0.9405 - val_loss: 1.3033 - val_accuracy: 0.9176\n",
      "Epoch 246/1000\n",
      "547/547 [==============================] - 2s 3ms/step - loss: 1.0314 - accuracy: 0.9378 - val_loss: 1.3056 - val_accuracy: 0.9148\n",
      "Epoch 247/1000\n",
      "547/547 [==============================] - 2s 3ms/step - loss: 1.0316 - accuracy: 0.9497 - val_loss: 1.2987 - val_accuracy: 0.9176\n",
      "Epoch 248/1000\n",
      "547/547 [==============================] - 2s 3ms/step - loss: 1.0151 - accuracy: 0.9405 - val_loss: 1.3034 - val_accuracy: 0.9176\n",
      "Epoch 249/1000\n",
      "547/547 [==============================] - 2s 3ms/step - loss: 0.9732 - accuracy: 0.9515 - val_loss: 1.2938 - val_accuracy: 0.9148\n",
      "Epoch 250/1000\n",
      "547/547 [==============================] - 2s 3ms/step - loss: 0.9875 - accuracy: 0.9460 - val_loss: 1.2964 - val_accuracy: 0.9176\n",
      "Epoch 251/1000\n",
      "547/547 [==============================] - 2s 3ms/step - loss: 1.0033 - accuracy: 0.9442 - val_loss: 1.2900 - val_accuracy: 0.9176\n",
      "Epoch 252/1000\n",
      "547/547 [==============================] - 2s 3ms/step - loss: 0.9951 - accuracy: 0.9469 - val_loss: 1.2937 - val_accuracy: 0.9176\n",
      "Epoch 253/1000\n",
      "547/547 [==============================] - 1s 3ms/step - loss: 0.9859 - accuracy: 0.9488 - val_loss: 1.2928 - val_accuracy: 0.9176\n",
      "Epoch 254/1000\n",
      "547/547 [==============================] - 2s 3ms/step - loss: 0.9997 - accuracy: 0.9506 - val_loss: 1.2932 - val_accuracy: 0.9176\n",
      "Epoch 255/1000\n",
      "547/547 [==============================] - 2s 3ms/step - loss: 1.0133 - accuracy: 0.9497 - val_loss: 1.2879 - val_accuracy: 0.9148\n",
      "Epoch 256/1000\n",
      "547/547 [==============================] - 2s 3ms/step - loss: 1.0343 - accuracy: 0.9469 - val_loss: 1.2878 - val_accuracy: 0.9176\n",
      "Epoch 257/1000\n",
      "547/547 [==============================] - 2s 3ms/step - loss: 0.9909 - accuracy: 0.9497 - val_loss: 1.2857 - val_accuracy: 0.9148\n",
      "Epoch 258/1000\n",
      "547/547 [==============================] - 2s 3ms/step - loss: 0.9767 - accuracy: 0.9488 - val_loss: 1.2859 - val_accuracy: 0.9176\n",
      "Epoch 259/1000\n",
      "547/547 [==============================] - 2s 3ms/step - loss: 1.0512 - accuracy: 0.9433 - val_loss: 1.2864 - val_accuracy: 0.9176\n",
      "Epoch 260/1000\n",
      "547/547 [==============================] - 2s 3ms/step - loss: 0.9905 - accuracy: 0.9442 - val_loss: 1.2831 - val_accuracy: 0.9093\n",
      "Epoch 261/1000\n",
      "547/547 [==============================] - 2s 3ms/step - loss: 0.9985 - accuracy: 0.9533 - val_loss: 1.2923 - val_accuracy: 0.9148\n",
      "Epoch 262/1000\n",
      "547/547 [==============================] - 2s 3ms/step - loss: 1.0277 - accuracy: 0.9460 - val_loss: 1.2750 - val_accuracy: 0.9121\n",
      "Epoch 263/1000\n",
      "547/547 [==============================] - 2s 3ms/step - loss: 1.0133 - accuracy: 0.9460 - val_loss: 1.2787 - val_accuracy: 0.9176\n",
      "Epoch 264/1000\n",
      "547/547 [==============================] - 2s 3ms/step - loss: 1.0141 - accuracy: 0.9478 - val_loss: 1.2761 - val_accuracy: 0.9176\n",
      "Epoch 265/1000\n",
      "547/547 [==============================] - 2s 3ms/step - loss: 1.0154 - accuracy: 0.9488 - val_loss: 1.2734 - val_accuracy: 0.9121\n",
      "Epoch 266/1000\n",
      "547/547 [==============================] - 2s 4ms/step - loss: 0.9795 - accuracy: 0.9433 - val_loss: 1.2722 - val_accuracy: 0.9121\n",
      "Epoch 267/1000\n",
      "547/547 [==============================] - 2s 3ms/step - loss: 0.9856 - accuracy: 0.9442 - val_loss: 1.2722 - val_accuracy: 0.9093\n",
      "Epoch 268/1000\n",
      "547/547 [==============================] - 2s 3ms/step - loss: 0.9992 - accuracy: 0.9478 - val_loss: 1.2706 - val_accuracy: 0.9176\n",
      "Epoch 269/1000\n",
      "547/547 [==============================] - 2s 3ms/step - loss: 0.9906 - accuracy: 0.9506 - val_loss: 1.2634 - val_accuracy: 0.9176\n",
      "Epoch 270/1000\n",
      "547/547 [==============================] - 2s 3ms/step - loss: 0.9568 - accuracy: 0.9488 - val_loss: 1.2631 - val_accuracy: 0.9148\n",
      "Epoch 271/1000\n",
      "547/547 [==============================] - 2s 3ms/step - loss: 1.0248 - accuracy: 0.9442 - val_loss: 1.2619 - val_accuracy: 0.9148\n",
      "Epoch 272/1000\n",
      "547/547 [==============================] - 2s 3ms/step - loss: 0.9722 - accuracy: 0.9469 - val_loss: 1.2621 - val_accuracy: 0.9148\n",
      "Epoch 273/1000\n",
      "547/547 [==============================] - 2s 3ms/step - loss: 0.9854 - accuracy: 0.9488 - val_loss: 1.2593 - val_accuracy: 0.9148\n",
      "Epoch 274/1000\n",
      "547/547 [==============================] - 2s 3ms/step - loss: 1.0059 - accuracy: 0.9469 - val_loss: 1.2684 - val_accuracy: 0.9176\n",
      "Epoch 275/1000\n",
      "547/547 [==============================] - 2s 3ms/step - loss: 0.9551 - accuracy: 0.9515 - val_loss: 1.2605 - val_accuracy: 0.9121\n",
      "Epoch 276/1000\n",
      "547/547 [==============================] - 2s 3ms/step - loss: 0.9599 - accuracy: 0.9414 - val_loss: 1.2607 - val_accuracy: 0.9176\n",
      "Epoch 277/1000\n",
      "547/547 [==============================] - 2s 3ms/step - loss: 0.9839 - accuracy: 0.9497 - val_loss: 1.2579 - val_accuracy: 0.9176\n",
      "Epoch 278/1000\n",
      "547/547 [==============================] - 2s 3ms/step - loss: 0.9535 - accuracy: 0.9451 - val_loss: 1.2549 - val_accuracy: 0.9176\n",
      "Epoch 279/1000\n",
      "547/547 [==============================] - 2s 3ms/step - loss: 0.9509 - accuracy: 0.9424 - val_loss: 1.2566 - val_accuracy: 0.9176\n",
      "Epoch 280/1000\n",
      "547/547 [==============================] - 2s 3ms/step - loss: 0.9676 - accuracy: 0.9451 - val_loss: 1.2560 - val_accuracy: 0.9148\n",
      "Epoch 281/1000\n",
      "547/547 [==============================] - 2s 3ms/step - loss: 0.9213 - accuracy: 0.9488 - val_loss: 1.2477 - val_accuracy: 0.9176\n",
      "Epoch 282/1000\n",
      "547/547 [==============================] - 2s 3ms/step - loss: 0.9396 - accuracy: 0.9497 - val_loss: 1.2477 - val_accuracy: 0.9176\n",
      "Epoch 283/1000\n",
      "547/547 [==============================] - 2s 3ms/step - loss: 0.9732 - accuracy: 0.9451 - val_loss: 1.2426 - val_accuracy: 0.9176\n",
      "Epoch 284/1000\n",
      "547/547 [==============================] - 2s 3ms/step - loss: 0.9734 - accuracy: 0.9488 - val_loss: 1.2467 - val_accuracy: 0.9121\n",
      "Epoch 285/1000\n",
      "547/547 [==============================] - 2s 4ms/step - loss: 0.9856 - accuracy: 0.9488 - val_loss: 1.2484 - val_accuracy: 0.9121\n",
      "Epoch 286/1000\n",
      "547/547 [==============================] - 2s 3ms/step - loss: 0.9472 - accuracy: 0.9460 - val_loss: 1.2445 - val_accuracy: 0.9148\n",
      "Epoch 287/1000\n",
      "547/547 [==============================] - 2s 3ms/step - loss: 0.9288 - accuracy: 0.9469 - val_loss: 1.2469 - val_accuracy: 0.9176\n",
      "Epoch 288/1000\n",
      "547/547 [==============================] - 2s 3ms/step - loss: 0.9513 - accuracy: 0.9533 - val_loss: 1.2472 - val_accuracy: 0.9176\n",
      "Epoch 289/1000\n",
      "547/547 [==============================] - 2s 3ms/step - loss: 0.9084 - accuracy: 0.9533 - val_loss: 1.2447 - val_accuracy: 0.9121\n",
      "Epoch 290/1000\n",
      "547/547 [==============================] - 2s 3ms/step - loss: 0.9404 - accuracy: 0.9524 - val_loss: 1.2418 - val_accuracy: 0.9176\n",
      "Epoch 291/1000\n",
      "547/547 [==============================] - 2s 3ms/step - loss: 0.9200 - accuracy: 0.9451 - val_loss: 1.2370 - val_accuracy: 0.9176\n",
      "Epoch 292/1000\n",
      "547/547 [==============================] - 2s 3ms/step - loss: 0.9368 - accuracy: 0.9524 - val_loss: 1.2434 - val_accuracy: 0.9176\n",
      "Epoch 293/1000\n",
      "547/547 [==============================] - 2s 3ms/step - loss: 0.9091 - accuracy: 0.9570 - val_loss: 1.2392 - val_accuracy: 0.9176\n",
      "Epoch 294/1000\n",
      "547/547 [==============================] - 2s 3ms/step - loss: 0.9480 - accuracy: 0.9488 - val_loss: 1.2477 - val_accuracy: 0.9121\n",
      "Epoch 295/1000\n",
      "547/547 [==============================] - 2s 3ms/step - loss: 0.9729 - accuracy: 0.9515 - val_loss: 1.2451 - val_accuracy: 0.9121\n",
      "Epoch 296/1000\n",
      "547/547 [==============================] - 2s 3ms/step - loss: 0.8972 - accuracy: 0.9543 - val_loss: 1.2426 - val_accuracy: 0.9121\n",
      "Epoch 297/1000\n",
      "547/547 [==============================] - 2s 3ms/step - loss: 0.9126 - accuracy: 0.9524 - val_loss: 1.2360 - val_accuracy: 0.9121\n",
      "Epoch 298/1000\n",
      "547/547 [==============================] - 2s 3ms/step - loss: 0.9249 - accuracy: 0.9488 - val_loss: 1.2322 - val_accuracy: 0.9148\n",
      "Epoch 299/1000\n",
      "547/547 [==============================] - 2s 3ms/step - loss: 0.9088 - accuracy: 0.9451 - val_loss: 1.2290 - val_accuracy: 0.9148\n",
      "Epoch 300/1000\n",
      "547/547 [==============================] - 2s 3ms/step - loss: 0.9356 - accuracy: 0.9524 - val_loss: 1.2289 - val_accuracy: 0.9148\n",
      "Epoch 301/1000\n",
      "547/547 [==============================] - 2s 3ms/step - loss: 0.9301 - accuracy: 0.9524 - val_loss: 1.2252 - val_accuracy: 0.9176\n",
      "Epoch 302/1000\n",
      "547/547 [==============================] - 2s 3ms/step - loss: 0.8980 - accuracy: 0.9561 - val_loss: 1.2288 - val_accuracy: 0.9121\n",
      "Epoch 303/1000\n",
      "547/547 [==============================] - 2s 3ms/step - loss: 0.8938 - accuracy: 0.9524 - val_loss: 1.2252 - val_accuracy: 0.9176\n",
      "Epoch 304/1000\n",
      "547/547 [==============================] - 2s 3ms/step - loss: 0.9016 - accuracy: 0.9506 - val_loss: 1.2304 - val_accuracy: 0.9148\n",
      "Epoch 305/1000\n",
      "547/547 [==============================] - 2s 3ms/step - loss: 0.9087 - accuracy: 0.9497 - val_loss: 1.2219 - val_accuracy: 0.9176\n",
      "Epoch 306/1000\n",
      "547/547 [==============================] - 2s 3ms/step - loss: 0.8738 - accuracy: 0.9570 - val_loss: 1.2327 - val_accuracy: 0.9121\n",
      "Epoch 307/1000\n",
      "547/547 [==============================] - 2s 3ms/step - loss: 0.9100 - accuracy: 0.9524 - val_loss: 1.2204 - val_accuracy: 0.9176\n",
      "Epoch 308/1000\n",
      "547/547 [==============================] - 2s 3ms/step - loss: 0.8767 - accuracy: 0.9524 - val_loss: 1.2233 - val_accuracy: 0.9176\n",
      "Epoch 309/1000\n",
      "547/547 [==============================] - 2s 3ms/step - loss: 0.9223 - accuracy: 0.9506 - val_loss: 1.2171 - val_accuracy: 0.9176\n",
      "Epoch 310/1000\n",
      "547/547 [==============================] - 2s 3ms/step - loss: 0.8791 - accuracy: 0.9543 - val_loss: 1.2163 - val_accuracy: 0.9176\n",
      "Epoch 311/1000\n",
      "547/547 [==============================] - 2s 3ms/step - loss: 0.9041 - accuracy: 0.9506 - val_loss: 1.2169 - val_accuracy: 0.9176\n",
      "Epoch 312/1000\n",
      "547/547 [==============================] - 2s 3ms/step - loss: 0.8838 - accuracy: 0.9579 - val_loss: 1.2112 - val_accuracy: 0.9148\n",
      "Epoch 313/1000\n",
      "547/547 [==============================] - 2s 3ms/step - loss: 0.8725 - accuracy: 0.9515 - val_loss: 1.2207 - val_accuracy: 0.9176\n",
      "Epoch 314/1000\n",
      "547/547 [==============================] - 2s 3ms/step - loss: 0.8933 - accuracy: 0.9552 - val_loss: 1.2125 - val_accuracy: 0.9176\n",
      "Epoch 315/1000\n",
      "547/547 [==============================] - 2s 3ms/step - loss: 0.8979 - accuracy: 0.9552 - val_loss: 1.2168 - val_accuracy: 0.9148\n",
      "Epoch 316/1000\n",
      "547/547 [==============================] - 2s 3ms/step - loss: 0.8862 - accuracy: 0.9533 - val_loss: 1.2153 - val_accuracy: 0.9176\n",
      "Epoch 317/1000\n",
      "547/547 [==============================] - 2s 3ms/step - loss: 0.8905 - accuracy: 0.9497 - val_loss: 1.2162 - val_accuracy: 0.9176\n",
      "Epoch 318/1000\n",
      "547/547 [==============================] - 2s 3ms/step - loss: 0.8787 - accuracy: 0.9552 - val_loss: 1.2180 - val_accuracy: 0.9148\n",
      "Epoch 319/1000\n",
      "547/547 [==============================] - 2s 3ms/step - loss: 0.8916 - accuracy: 0.9478 - val_loss: 1.2083 - val_accuracy: 0.9176\n",
      "Epoch 320/1000\n",
      "547/547 [==============================] - 2s 3ms/step - loss: 0.9066 - accuracy: 0.9570 - val_loss: 1.2124 - val_accuracy: 0.9148\n",
      "Epoch 321/1000\n",
      "547/547 [==============================] - 2s 3ms/step - loss: 0.8912 - accuracy: 0.9515 - val_loss: 1.2085 - val_accuracy: 0.9176\n",
      "Epoch 322/1000\n",
      "547/547 [==============================] - 2s 3ms/step - loss: 0.8700 - accuracy: 0.9478 - val_loss: 1.2090 - val_accuracy: 0.9176\n",
      "Epoch 323/1000\n",
      "547/547 [==============================] - 2s 3ms/step - loss: 0.8778 - accuracy: 0.9524 - val_loss: 1.2023 - val_accuracy: 0.9176\n",
      "Epoch 324/1000\n",
      "547/547 [==============================] - 2s 3ms/step - loss: 0.9315 - accuracy: 0.9570 - val_loss: 1.2058 - val_accuracy: 0.9176\n",
      "Epoch 325/1000\n",
      "547/547 [==============================] - 2s 3ms/step - loss: 0.8632 - accuracy: 0.9607 - val_loss: 1.2041 - val_accuracy: 0.9176\n",
      "Epoch 326/1000\n",
      "547/547 [==============================] - 2s 3ms/step - loss: 0.8747 - accuracy: 0.9533 - val_loss: 1.1996 - val_accuracy: 0.9176\n",
      "Epoch 327/1000\n",
      "547/547 [==============================] - 2s 3ms/step - loss: 0.8720 - accuracy: 0.9543 - val_loss: 1.1943 - val_accuracy: 0.9176\n",
      "Epoch 328/1000\n",
      "547/547 [==============================] - 2s 3ms/step - loss: 0.8884 - accuracy: 0.9561 - val_loss: 1.1956 - val_accuracy: 0.9176\n",
      "Epoch 329/1000\n",
      "547/547 [==============================] - 2s 3ms/step - loss: 0.8891 - accuracy: 0.9552 - val_loss: 1.1966 - val_accuracy: 0.9176\n",
      "Epoch 330/1000\n",
      "547/547 [==============================] - 2s 3ms/step - loss: 0.8841 - accuracy: 0.9488 - val_loss: 1.1964 - val_accuracy: 0.9176\n",
      "Epoch 331/1000\n",
      "547/547 [==============================] - 2s 3ms/step - loss: 0.8783 - accuracy: 0.9561 - val_loss: 1.2022 - val_accuracy: 0.9176\n",
      "Epoch 332/1000\n",
      "547/547 [==============================] - 2s 3ms/step - loss: 0.8556 - accuracy: 0.9497 - val_loss: 1.1943 - val_accuracy: 0.9176\n",
      "Epoch 333/1000\n",
      "547/547 [==============================] - 2s 3ms/step - loss: 0.8803 - accuracy: 0.9533 - val_loss: 1.2009 - val_accuracy: 0.9176\n",
      "Epoch 334/1000\n",
      "547/547 [==============================] - 2s 3ms/step - loss: 0.8595 - accuracy: 0.9533 - val_loss: 1.1995 - val_accuracy: 0.9148\n",
      "Epoch 335/1000\n",
      "547/547 [==============================] - 2s 3ms/step - loss: 0.8345 - accuracy: 0.9543 - val_loss: 1.1921 - val_accuracy: 0.9176\n",
      "Epoch 336/1000\n",
      "547/547 [==============================] - 2s 3ms/step - loss: 0.8376 - accuracy: 0.9524 - val_loss: 1.1900 - val_accuracy: 0.9176\n",
      "Epoch 337/1000\n",
      "547/547 [==============================] - 2s 3ms/step - loss: 0.8278 - accuracy: 0.9561 - val_loss: 1.1863 - val_accuracy: 0.9176\n",
      "Epoch 338/1000\n",
      "547/547 [==============================] - 2s 3ms/step - loss: 0.8348 - accuracy: 0.9570 - val_loss: 1.1876 - val_accuracy: 0.9176\n",
      "Epoch 339/1000\n",
      "547/547 [==============================] - 2s 3ms/step - loss: 0.8919 - accuracy: 0.9597 - val_loss: 1.1885 - val_accuracy: 0.9176\n",
      "Epoch 340/1000\n",
      "547/547 [==============================] - 2s 3ms/step - loss: 0.8313 - accuracy: 0.9588 - val_loss: 1.1937 - val_accuracy: 0.9176\n",
      "Epoch 341/1000\n",
      "547/547 [==============================] - 2s 3ms/step - loss: 0.8554 - accuracy: 0.9506 - val_loss: 1.1853 - val_accuracy: 0.9176\n",
      "Epoch 342/1000\n",
      "547/547 [==============================] - 2s 3ms/step - loss: 0.8571 - accuracy: 0.9616 - val_loss: 1.1863 - val_accuracy: 0.9176\n",
      "Epoch 343/1000\n",
      "547/547 [==============================] - 2s 3ms/step - loss: 0.8292 - accuracy: 0.9506 - val_loss: 1.1861 - val_accuracy: 0.9176\n",
      "Epoch 344/1000\n",
      "547/547 [==============================] - 2s 3ms/step - loss: 0.8496 - accuracy: 0.9533 - val_loss: 1.1817 - val_accuracy: 0.9176\n",
      "Epoch 345/1000\n",
      "547/547 [==============================] - 2s 3ms/step - loss: 0.8488 - accuracy: 0.9543 - val_loss: 1.1831 - val_accuracy: 0.9176\n",
      "Epoch 346/1000\n",
      "547/547 [==============================] - 2s 3ms/step - loss: 0.8537 - accuracy: 0.9506 - val_loss: 1.1819 - val_accuracy: 0.9176\n",
      "Epoch 347/1000\n",
      "547/547 [==============================] - 2s 3ms/step - loss: 0.9014 - accuracy: 0.9506 - val_loss: 1.1830 - val_accuracy: 0.9176\n",
      "Epoch 348/1000\n",
      "547/547 [==============================] - 2s 3ms/step - loss: 0.8510 - accuracy: 0.9533 - val_loss: 1.1860 - val_accuracy: 0.9176\n",
      "Epoch 349/1000\n",
      "547/547 [==============================] - 2s 3ms/step - loss: 0.8378 - accuracy: 0.9533 - val_loss: 1.1749 - val_accuracy: 0.9148\n",
      "Epoch 350/1000\n",
      "547/547 [==============================] - 2s 3ms/step - loss: 0.8263 - accuracy: 0.9533 - val_loss: 1.1833 - val_accuracy: 0.9148\n",
      "Epoch 351/1000\n",
      "547/547 [==============================] - 2s 3ms/step - loss: 0.8395 - accuracy: 0.9570 - val_loss: 1.1814 - val_accuracy: 0.9176\n",
      "Epoch 352/1000\n",
      "547/547 [==============================] - 2s 3ms/step - loss: 0.8666 - accuracy: 0.9524 - val_loss: 1.1805 - val_accuracy: 0.9176\n",
      "Epoch 353/1000\n",
      "547/547 [==============================] - 2s 3ms/step - loss: 0.8725 - accuracy: 0.9579 - val_loss: 1.1836 - val_accuracy: 0.9176\n",
      "Epoch 354/1000\n",
      "547/547 [==============================] - 2s 3ms/step - loss: 0.8275 - accuracy: 0.9552 - val_loss: 1.1764 - val_accuracy: 0.9176\n",
      "Epoch 355/1000\n",
      "547/547 [==============================] - 2s 3ms/step - loss: 0.8221 - accuracy: 0.9570 - val_loss: 1.1745 - val_accuracy: 0.9176\n",
      "Epoch 356/1000\n",
      "547/547 [==============================] - 2s 3ms/step - loss: 0.8216 - accuracy: 0.9597 - val_loss: 1.1771 - val_accuracy: 0.9176\n",
      "Epoch 357/1000\n",
      "547/547 [==============================] - 2s 3ms/step - loss: 0.8878 - accuracy: 0.9561 - val_loss: 1.1729 - val_accuracy: 0.9176\n",
      "Epoch 358/1000\n",
      "547/547 [==============================] - 2s 4ms/step - loss: 0.8087 - accuracy: 0.9616 - val_loss: 1.1710 - val_accuracy: 0.9176\n",
      "Epoch 359/1000\n",
      "547/547 [==============================] - 2s 4ms/step - loss: 0.8475 - accuracy: 0.9488 - val_loss: 1.1739 - val_accuracy: 0.9176\n",
      "Epoch 360/1000\n",
      "547/547 [==============================] - 2s 4ms/step - loss: 0.8491 - accuracy: 0.9524 - val_loss: 1.1737 - val_accuracy: 0.9176\n",
      "Epoch 361/1000\n",
      "547/547 [==============================] - 2s 3ms/step - loss: 0.8579 - accuracy: 0.9497 - val_loss: 1.1826 - val_accuracy: 0.9121\n",
      "Epoch 362/1000\n",
      "547/547 [==============================] - 2s 3ms/step - loss: 0.8216 - accuracy: 0.9561 - val_loss: 1.1822 - val_accuracy: 0.9148\n",
      "Epoch 363/1000\n",
      "547/547 [==============================] - 2s 3ms/step - loss: 0.8276 - accuracy: 0.9488 - val_loss: 1.1667 - val_accuracy: 0.9148\n",
      "Epoch 364/1000\n",
      "547/547 [==============================] - 2s 3ms/step - loss: 0.8312 - accuracy: 0.9552 - val_loss: 1.1688 - val_accuracy: 0.9176\n",
      "Epoch 365/1000\n",
      "547/547 [==============================] - 2s 3ms/step - loss: 0.8277 - accuracy: 0.9616 - val_loss: 1.1740 - val_accuracy: 0.9176\n",
      "Epoch 366/1000\n",
      "547/547 [==============================] - 2s 3ms/step - loss: 0.8366 - accuracy: 0.9497 - val_loss: 1.1658 - val_accuracy: 0.9176\n",
      "Epoch 367/1000\n",
      "547/547 [==============================] - 2s 3ms/step - loss: 0.8553 - accuracy: 0.9579 - val_loss: 1.1769 - val_accuracy: 0.9176\n",
      "Epoch 368/1000\n",
      "547/547 [==============================] - 2s 3ms/step - loss: 0.8301 - accuracy: 0.9552 - val_loss: 1.1735 - val_accuracy: 0.9176\n",
      "Epoch 369/1000\n",
      "547/547 [==============================] - 2s 3ms/step - loss: 0.8596 - accuracy: 0.9561 - val_loss: 1.1808 - val_accuracy: 0.9121\n",
      "Epoch 370/1000\n",
      "547/547 [==============================] - 2s 4ms/step - loss: 0.8105 - accuracy: 0.9552 - val_loss: 1.1687 - val_accuracy: 0.9176\n",
      "Epoch 371/1000\n",
      "547/547 [==============================] - 2s 3ms/step - loss: 0.8246 - accuracy: 0.9561 - val_loss: 1.1711 - val_accuracy: 0.9176\n",
      "Epoch 372/1000\n",
      "547/547 [==============================] - 2s 3ms/step - loss: 0.8144 - accuracy: 0.9588 - val_loss: 1.1719 - val_accuracy: 0.9148\n",
      "Epoch 373/1000\n",
      "547/547 [==============================] - 2s 3ms/step - loss: 0.8137 - accuracy: 0.9561 - val_loss: 1.1651 - val_accuracy: 0.9176\n",
      "Epoch 374/1000\n",
      "547/547 [==============================] - 2s 3ms/step - loss: 0.8244 - accuracy: 0.9524 - val_loss: 1.1686 - val_accuracy: 0.9176\n",
      "Epoch 375/1000\n",
      "547/547 [==============================] - 2s 3ms/step - loss: 0.8181 - accuracy: 0.9561 - val_loss: 1.1619 - val_accuracy: 0.9176\n",
      "Epoch 376/1000\n",
      "547/547 [==============================] - 2s 3ms/step - loss: 0.8303 - accuracy: 0.9579 - val_loss: 1.1633 - val_accuracy: 0.9121\n",
      "Epoch 377/1000\n",
      "547/547 [==============================] - 2s 3ms/step - loss: 0.8349 - accuracy: 0.9552 - val_loss: 1.1632 - val_accuracy: 0.9176\n",
      "Epoch 378/1000\n",
      "547/547 [==============================] - 2s 3ms/step - loss: 0.8152 - accuracy: 0.9570 - val_loss: 1.1663 - val_accuracy: 0.9176\n",
      "Epoch 379/1000\n",
      "547/547 [==============================] - 2s 3ms/step - loss: 0.7969 - accuracy: 0.9579 - val_loss: 1.1607 - val_accuracy: 0.9176\n",
      "Epoch 380/1000\n",
      "547/547 [==============================] - 2s 3ms/step - loss: 0.7932 - accuracy: 0.9607 - val_loss: 1.1641 - val_accuracy: 0.9176\n",
      "Epoch 381/1000\n",
      "547/547 [==============================] - 2s 3ms/step - loss: 0.8060 - accuracy: 0.9588 - val_loss: 1.1579 - val_accuracy: 0.9176\n",
      "Epoch 382/1000\n",
      "547/547 [==============================] - 2s 3ms/step - loss: 0.8165 - accuracy: 0.9643 - val_loss: 1.1550 - val_accuracy: 0.9176\n",
      "Epoch 383/1000\n",
      "547/547 [==============================] - 2s 3ms/step - loss: 0.8256 - accuracy: 0.9607 - val_loss: 1.1607 - val_accuracy: 0.9148\n",
      "Epoch 384/1000\n",
      "547/547 [==============================] - 2s 3ms/step - loss: 0.8163 - accuracy: 0.9588 - val_loss: 1.1615 - val_accuracy: 0.9176\n",
      "Epoch 385/1000\n",
      "547/547 [==============================] - 2s 3ms/step - loss: 0.8124 - accuracy: 0.9533 - val_loss: 1.1580 - val_accuracy: 0.9176\n",
      "Epoch 386/1000\n",
      "547/547 [==============================] - 2s 3ms/step - loss: 0.7939 - accuracy: 0.9625 - val_loss: 1.1648 - val_accuracy: 0.9176\n",
      "Epoch 387/1000\n",
      "547/547 [==============================] - 2s 3ms/step - loss: 0.8590 - accuracy: 0.9506 - val_loss: 1.1581 - val_accuracy: 0.9176\n",
      "Epoch 388/1000\n",
      "547/547 [==============================] - 2s 3ms/step - loss: 0.7847 - accuracy: 0.9652 - val_loss: 1.1577 - val_accuracy: 0.9176\n",
      "Epoch 389/1000\n",
      "547/547 [==============================] - 2s 3ms/step - loss: 0.8090 - accuracy: 0.9497 - val_loss: 1.1530 - val_accuracy: 0.9148\n",
      "Epoch 390/1000\n",
      "547/547 [==============================] - 2s 3ms/step - loss: 0.8090 - accuracy: 0.9634 - val_loss: 1.1573 - val_accuracy: 0.9176\n",
      "Epoch 391/1000\n",
      "547/547 [==============================] - 2s 3ms/step - loss: 0.7823 - accuracy: 0.9588 - val_loss: 1.1501 - val_accuracy: 0.9148\n",
      "Epoch 392/1000\n",
      "547/547 [==============================] - 2s 3ms/step - loss: 0.7747 - accuracy: 0.9607 - val_loss: 1.1537 - val_accuracy: 0.9176\n",
      "Epoch 393/1000\n",
      "547/547 [==============================] - 2s 3ms/step - loss: 0.7931 - accuracy: 0.9616 - val_loss: 1.1507 - val_accuracy: 0.9176\n",
      "Epoch 394/1000\n",
      "547/547 [==============================] - 2s 3ms/step - loss: 0.7704 - accuracy: 0.9625 - val_loss: 1.1472 - val_accuracy: 0.9176\n",
      "Epoch 395/1000\n",
      "547/547 [==============================] - 2s 3ms/step - loss: 0.7945 - accuracy: 0.9588 - val_loss: 1.1504 - val_accuracy: 0.9176\n",
      "Epoch 396/1000\n",
      "547/547 [==============================] - 2s 3ms/step - loss: 0.8261 - accuracy: 0.9552 - val_loss: 1.1515 - val_accuracy: 0.9176\n",
      "Epoch 397/1000\n",
      "547/547 [==============================] - 2s 3ms/step - loss: 0.8055 - accuracy: 0.9680 - val_loss: 1.1528 - val_accuracy: 0.9176\n",
      "Epoch 398/1000\n",
      "547/547 [==============================] - 2s 3ms/step - loss: 0.8013 - accuracy: 0.9597 - val_loss: 1.1498 - val_accuracy: 0.9176\n",
      "Epoch 399/1000\n",
      "547/547 [==============================] - 2s 3ms/step - loss: 0.8189 - accuracy: 0.9588 - val_loss: 1.1419 - val_accuracy: 0.9176\n",
      "Epoch 400/1000\n",
      "547/547 [==============================] - 2s 3ms/step - loss: 0.7693 - accuracy: 0.9625 - val_loss: 1.1510 - val_accuracy: 0.9176\n",
      "Epoch 401/1000\n",
      "547/547 [==============================] - 2s 3ms/step - loss: 0.7859 - accuracy: 0.9616 - val_loss: 1.1504 - val_accuracy: 0.9176\n",
      "Epoch 402/1000\n",
      "547/547 [==============================] - 2s 3ms/step - loss: 0.7874 - accuracy: 0.9588 - val_loss: 1.1495 - val_accuracy: 0.9176\n",
      "Epoch 403/1000\n",
      "547/547 [==============================] - 2s 3ms/step - loss: 0.8420 - accuracy: 0.9588 - val_loss: 1.1505 - val_accuracy: 0.9176\n",
      "Epoch 404/1000\n",
      "547/547 [==============================] - 2s 3ms/step - loss: 0.7757 - accuracy: 0.9579 - val_loss: 1.1474 - val_accuracy: 0.9176\n",
      "Epoch 405/1000\n",
      "547/547 [==============================] - 2s 3ms/step - loss: 0.7890 - accuracy: 0.9579 - val_loss: 1.1425 - val_accuracy: 0.9176\n",
      "Epoch 406/1000\n",
      "547/547 [==============================] - 2s 3ms/step - loss: 0.7931 - accuracy: 0.9625 - val_loss: 1.1388 - val_accuracy: 0.9176\n",
      "Epoch 407/1000\n",
      "547/547 [==============================] - 2s 3ms/step - loss: 0.7747 - accuracy: 0.9607 - val_loss: 1.1342 - val_accuracy: 0.9176\n",
      "Epoch 408/1000\n",
      "547/547 [==============================] - 2s 3ms/step - loss: 0.8222 - accuracy: 0.9579 - val_loss: 1.1355 - val_accuracy: 0.9176\n",
      "Epoch 409/1000\n",
      "547/547 [==============================] - 2s 3ms/step - loss: 0.7889 - accuracy: 0.9597 - val_loss: 1.1325 - val_accuracy: 0.9176\n",
      "Epoch 410/1000\n",
      "547/547 [==============================] - 2s 3ms/step - loss: 0.7791 - accuracy: 0.9533 - val_loss: 1.1406 - val_accuracy: 0.9176\n",
      "Epoch 411/1000\n",
      "547/547 [==============================] - 2s 3ms/step - loss: 0.7712 - accuracy: 0.9543 - val_loss: 1.1413 - val_accuracy: 0.9176\n",
      "Epoch 412/1000\n",
      "547/547 [==============================] - 2s 3ms/step - loss: 0.7804 - accuracy: 0.9588 - val_loss: 1.1345 - val_accuracy: 0.9231\n",
      "Epoch 413/1000\n",
      "547/547 [==============================] - 2s 3ms/step - loss: 0.8066 - accuracy: 0.9561 - val_loss: 1.1382 - val_accuracy: 0.9176\n",
      "Epoch 414/1000\n",
      "547/547 [==============================] - 2s 3ms/step - loss: 0.7704 - accuracy: 0.9579 - val_loss: 1.1372 - val_accuracy: 0.9176\n",
      "Epoch 415/1000\n",
      "547/547 [==============================] - 2s 3ms/step - loss: 0.7529 - accuracy: 0.9634 - val_loss: 1.1359 - val_accuracy: 0.9176\n",
      "Epoch 416/1000\n",
      "547/547 [==============================] - 2s 3ms/step - loss: 0.7742 - accuracy: 0.9597 - val_loss: 1.1388 - val_accuracy: 0.9121\n",
      "Epoch 417/1000\n",
      "547/547 [==============================] - 2s 3ms/step - loss: 0.7527 - accuracy: 0.9552 - val_loss: 1.1340 - val_accuracy: 0.9176\n",
      "Epoch 418/1000\n",
      "547/547 [==============================] - 2s 3ms/step - loss: 0.7944 - accuracy: 0.9588 - val_loss: 1.1350 - val_accuracy: 0.9176\n",
      "Epoch 419/1000\n",
      "547/547 [==============================] - 2s 3ms/step - loss: 0.7727 - accuracy: 0.9661 - val_loss: 1.1266 - val_accuracy: 0.9148\n",
      "Epoch 420/1000\n",
      "547/547 [==============================] - 2s 3ms/step - loss: 0.7837 - accuracy: 0.9616 - val_loss: 1.1261 - val_accuracy: 0.9148\n",
      "Epoch 421/1000\n",
      "547/547 [==============================] - 2s 3ms/step - loss: 0.7548 - accuracy: 0.9680 - val_loss: 1.1396 - val_accuracy: 0.9176\n",
      "Epoch 422/1000\n",
      "547/547 [==============================] - 2s 3ms/step - loss: 0.7467 - accuracy: 0.9607 - val_loss: 1.1301 - val_accuracy: 0.9176\n",
      "Epoch 423/1000\n",
      "547/547 [==============================] - 2s 3ms/step - loss: 0.7646 - accuracy: 0.9625 - val_loss: 1.1310 - val_accuracy: 0.9176\n",
      "Epoch 424/1000\n",
      "547/547 [==============================] - 2s 3ms/step - loss: 0.7972 - accuracy: 0.9570 - val_loss: 1.1299 - val_accuracy: 0.9176\n",
      "Epoch 425/1000\n",
      "547/547 [==============================] - 2s 3ms/step - loss: 0.8133 - accuracy: 0.9579 - val_loss: 1.1344 - val_accuracy: 0.9231\n",
      "Epoch 426/1000\n",
      "547/547 [==============================] - 2s 3ms/step - loss: 0.7670 - accuracy: 0.9607 - val_loss: 1.1286 - val_accuracy: 0.9176\n",
      "Epoch 427/1000\n",
      "547/547 [==============================] - 2s 3ms/step - loss: 0.7569 - accuracy: 0.9652 - val_loss: 1.1339 - val_accuracy: 0.9176\n",
      "Epoch 428/1000\n",
      "547/547 [==============================] - 2s 3ms/step - loss: 0.7730 - accuracy: 0.9607 - val_loss: 1.1293 - val_accuracy: 0.9176\n",
      "Epoch 429/1000\n",
      "547/547 [==============================] - 2s 3ms/step - loss: 0.7817 - accuracy: 0.9616 - val_loss: 1.1350 - val_accuracy: 0.9176\n",
      "Epoch 430/1000\n",
      "547/547 [==============================] - 2s 3ms/step - loss: 0.7625 - accuracy: 0.9597 - val_loss: 1.1338 - val_accuracy: 0.9176\n"
     ]
    },
    {
     "data": {
      "image/png": "[encoded data removed]",
      "text/plain": [
       "<Figure size 640x480 with 1 Axes>"
      ]
     },
     "metadata": {},
     "output_type": "display_data"
    }
   ],
   "source": [
    "model = build_model(train_embeddings.shape[1], X_train_other.shape[1], y_train.shape[1], learning_rate=0.00001)\n",
    "\n",
    "history = fit_model(model, train_embeddings, X_train_other,\n",
    "                    val_embeddings, X_val_other, y_train, y_val, 1000,2)"
   ]
  },
  {
   "cell_type": "code",
   "execution_count": 25,
   "metadata": {},
   "outputs": [
    {
     "name": "stdout",
     "output_type": "stream",
     "text": [
      "35/35 [==============================] - 0s 2ms/step\n",
      "12/12 [==============================] - 0s 2ms/step\n",
      "Neural Network Training Accuracy: 0.9762122598353157\n",
      "Neural Network Validation Accuracy: 0.9148351648351648\n"
     ]
    }
   ],
   "source": [
    "nn_y_pred_train = model.predict([X_train_embeddings, X_train_other])\n",
    "nn_y_pred_val = model.predict([X_val_embeddings, X_val_other])\n",
    "\n",
    "nn_train_accuracy = accuracy_score(y_train.argmax(axis=1), nn_y_pred_train.argmax(axis=1))\n",
    "nn_val_accuracy = accuracy_score(y_val.argmax(axis=1), nn_y_pred_val.argmax(axis=1))\n",
    "\n",
    "print('Neural Network Training Accuracy:', nn_train_accuracy)\n",
    "print('Neural Network Validation Accuracy:', nn_val_accuracy)"
   ]
  },
  {
   "cell_type": "markdown",
   "metadata": {},
   "source": [
    " Overall it looks like the neural network is comparable to the SVM. This could mean that this model could get better with more labelled data. However for now, maybe it's better to just stick with SVM.  \n",
    "\n",
    " Second to last step, I'll try to combine my three best models (logisitc regression, SVM, and my NN) and see if an ensembling method will help the accuracy out some more."
   ]
  },
  {
   "cell_type": "markdown",
   "metadata": {},
   "source": [
    "# Putting it all together  \n",
    "\n",
    "Ensembling could help here since all three of my models do well individually so the overall model might learn things from different models. Since our NN requires two different inputs (an embedding tensor and a tensor of other features), we'll just use a soft voting ensembler to make it easier."
   ]
  },
  {
   "cell_type": "code",
   "execution_count": 26,
   "metadata": {},
   "outputs": [
    {
     "name": "stdout",
     "output_type": "stream",
     "text": [
      "35/35 [==============================] - 0s 1ms/step\n",
      "12/12 [==============================] - 0s 2ms/step\n",
      "Voting Classifier Training Accuracy: 0.9807868252516011\n",
      "Voting Classifier Validation Accuracy 0.9258241758241759\n"
     ]
    }
   ],
   "source": [
    "# calculate prediction probabilities of logistic regression\n",
    "log_reg_proba_train = log_regression.predict_proba(X_train_concat)\n",
    "log_reg_proba_val = log_regression.predict_proba(X_val_concat)\n",
    "\n",
    "# calculate prediction probabilities of svc\n",
    "svm_proba_train = svm_model.predict_proba(X_train_concat)\n",
    "svm_proba_val = svm_model.predict_proba(X_val_concat)\n",
    "\n",
    "# calculate the prediction probabilities from the deep neural network\n",
    "dnn_proba_train = model.predict([X_train_embeddings, X_train_other])\n",
    "dnn_proba_val = model.predict([X_val_embeddings, X_val_other])\n",
    "\n",
    "# take the average of the predictions for training and validation accuracies\n",
    "combined_proba_train = (log_reg_proba_train + svm_proba_train + dnn_proba_train) / 3\n",
    "combined_pred_train = np.argmax(combined_proba_train, axis=1)\n",
    "combined_proba_val = (log_reg_proba_val + svm_proba_val + dnn_proba_val) / 3\n",
    "combined_pred_val = np.argmax(combined_proba_val, axis=1)\n",
    "\n",
    "# calculate the accuracies of the ensembled models\n",
    "accuracy_train = accuracy_score(y_train.argmax(axis=1), combined_pred_train)\n",
    "accuracy_val = accuracy_score(y_val.argmax(axis=1), combined_pred_val)\n",
    "\n",
    "print('Voting Classifier Training Accuracy:', accuracy_train)\n",
    "print('Voting Classifier Validation Accuracy', accuracy_val)\n"
   ]
  },
  {
   "cell_type": "markdown",
   "metadata": {},
   "source": [
    "Our model does just about the same. I'm going to keep it ensembled like this as I can only assume that the model will do better with more data (especially the Neural Network). I also have run this a couple times now and the ensemble model does seem to do better on some runs but about the same as the consituent models on other runs. Regardless, let's put this ensembling as one function to call easier later."
   ]
  },
  {
   "cell_type": "code",
   "execution_count": 27,
   "metadata": {},
   "outputs": [
    {
     "name": "stdout",
     "output_type": "stream",
     "text": [
      "12/12 [==============================] - 0s 2ms/step\n",
      "All Predictions:\n",
      "[17  1  8  8  8 16  8  0  1  9  1 18  1  1 14 18  1  1  1  1  1  8  3  1\n",
      "  1  1  1 13  8 16 16 13  1  1  3  1  1  1  1  1  1  1 14  1  1 16  1 16\n",
      "  8  3 16  1  0 16  1  1 17 16 14  8  1  3  1  3  1  3 13 10  5 16  1  8\n",
      "  1  1  1 13 18  5  3  1  1 16 18  1  8  1  5 17  1  1  7  1 16 13 15  1\n",
      " 15  5 16 16  1  1  1  1 15 16 14  5  1  8 11  1  5  1 17  1  4  5 15  1\n",
      "  8  3 15  1 16  3 16  5  8 16  1  1 16  1  8  1  1 16  1  1  5  8 17  1\n",
      " 16 14  1 10  1  3 16  1  1 14 16 17  1  3 16  1  1  9 11  1 18  1 10  5\n",
      " 16  1  1  1 16  3  0  5 16  1  5 15  1  8 17  1  1  1 16 13  1  8  1  1\n",
      "  1 16 17 10 18  1  8  8 16  1 14  1 15  1  1  1  8  1  1  1  1  1  1  1\n",
      "  1 13 18  1  1  1  1 18  1  1  1  1  1  1  1  1  1  3 17  8  9  1 16 16\n",
      " 14  1  1  3  1  1 16  8  5 16  1  1  1  1  1 16 14 13  1  9 15  1  8  3\n",
      "  9 16  5  8 16 14 16  1  1 16  1 17 14  1 16  8  1  1  1  3  1  1 16 16\n",
      "  1  1  1  5  1 16  1  1  1 15  1  1 13  1  3  1  8  8 18  5  1 16 16  1\n",
      "  1  1  1  5  8 16  8  1  1  1  9  1  0  1 16  8  5  8 16  5  1 13  1  1\n",
      " 14  1 17 16  1  9  1  3  1 16  1  1  1  1  1 15 16  1 16 16  3  8  1 16\n",
      " 15  0  1  1]\n",
      "Final Accuracy: 0.9258241758241759\n"
     ]
    }
   ],
   "source": [
    "def ensemble_scores_and_predictions(models, dnn_model, X_embeddings, X_other, y):\n",
    "    \"\"\"Takes a list of models as well as a neural network and creates and ensemble prediction and score.\n",
    "    Params:\n",
    "    ----------------------------\n",
    "    models (list): a list of already fitted models that takes the whole X dataset\n",
    "        - the models must output a probability distribution for the classes\n",
    "    dnn_model (tf model): this is a neural network model that takes inputs [X_embeddings, X_other]\n",
    "    X_embeddings (np array): an array of only the embeddings\n",
    "    X_other (np array): an array of all other features\n",
    "    y: the y_values\n",
    "\n",
    "    Returns:\n",
    "    ----------------------------\n",
    "    combined_pred (np array): the array of all the predictions for X_embeddings and X_other\n",
    "    accuracy (float): the accuracy of the ensemble\n",
    "    \"\"\"\n",
    "    X_concat = np.concatenate([X_embeddings, X_other], axis=1)\n",
    "    X_dnn = [X_embeddings, X_other]\n",
    "\n",
    "    models_probas = [model.predict_proba(X_concat) for model in models]\n",
    "    models_probas.append(dnn_model.predict(X_dnn))\n",
    "\n",
    "    num_models = len(models_probas)\n",
    "    combined_proba = 0\n",
    "\n",
    "    for proba in models_probas:\n",
    "        combined_proba += proba\n",
    "    \n",
    "    combined_proba /= 3\n",
    "    combined_pred = combined_proba.argmax(axis=1)\n",
    "    accuracy = accuracy_score(y, combined_pred)\n",
    "\n",
    "    return combined_pred, accuracy\n",
    "\n",
    "# recheck predictions and accuracy on validation data to ensure it matches the above cell\n",
    "predictions, final_accuracy = ensemble_scores_and_predictions([log_regression, svm_model], model, X_val_embeddings, X_val_other, y_val.argmax(axis=1))\n",
    "\n",
    "print(f'All Predictions:\\n{predictions}')\n",
    "print(f'Final Accuracy: {final_accuracy}')"
   ]
  },
  {
   "cell_type": "markdown",
   "metadata": {},
   "source": [
    "# Final Evaluation of Model  \n",
    "\n",
    "Now that we've chosen a final model. Let's use this on our test data and see what the metrics look like."
   ]
  },
  {
   "cell_type": "code",
   "execution_count": 28,
   "metadata": {},
   "outputs": [
    {
     "name": "stdout",
     "output_type": "stream",
     "text": [
      "12/12 [==============================] - 0s 2ms/step\n",
      "Test Predictions:\n",
      "[ 1  1  1  1  8 18  8  9  1  1  5 16  8  1 16  1 16 16  8  1  1 17  1 10\n",
      "  1  1 16 13  1  1 17  1  1  1  1 16 16 13  3  1  1  5  3  1 15  1  9 16\n",
      "  1  8  1 13 11  1  1  7  0  1  1  9  1 11  1  3  1  1  1 16  1  1 13 14\n",
      " 16  5 14  5 13 16  1  0 18  0 16  1  1  3  1 17  5  1  1  1  8  1  1 13\n",
      " 14  8  5  1  1  1  1 16 16  1 13  1 16  8  2  5 18  8  1  1  1  1 16  1\n",
      " 16 16 16  1  1  1  1  8 16  0  1 13  1  8  1 13  1 15  3  1  1  1 16  0\n",
      "  1 17  1  1  1  1  1  1  1  3 14  1  1 18  1 16  1  1 14 13  1 16 16  1\n",
      "  1 11 18 16  8  1  1 18  1  1  2  8  1  8  1 14 16 18  5 13  8  1  8 14\n",
      "  1  1  1 13  8  1 13 15 17 16  5  1  7 16  5  5  1  1  5 16 11  1  8  1\n",
      " 13 16 13  1  1  1  3  1 16  1  1 16  8  1 18  8 14  8  8 10 14  8  8 18\n",
      " 16 16  1 13 18 17  5  3  1  1  1 16  8  1 17  1  1 16  1  1 18  1  3 14\n",
      "  1  1  1  2 16  1  1  1  1  1  9 13  1  1 16  1  1  8 15 17  1 16  1  1\n",
      " 14  1  5  1 13 17  1  1  1  1 14  8  1  1  1  1 17  1  1  1  1 16  1  1\n",
      "  1  1  8 14  1  1  1  8 17  5 14  9 18 16  1 18 11 15  1  0  3  1 16  8\n",
      " 18 13  8 15  8  5  1 16  1  8  1 14  2  5  1  1  3 15  1 16  1 16  1  1\n",
      " 14 11 14  1  1]\n",
      "Test Accuracy: 0.9013698630136986\n"
     ]
    }
   ],
   "source": [
    "# get the predictions and the accuracy for the test data\n",
    "test_pred, test_accuracy = ensemble_scores_and_predictions([log_regression, svm_model], model, X_test_embeddings, X_test_other, y_test.argmax(axis=1))\n",
    "\n",
    "print(f'Test Predictions:\\n{test_pred}')\n",
    "print(f'Test Accuracy: {test_accuracy}')"
   ]
  },
  {
   "cell_type": "markdown",
   "metadata": {},
   "source": [
    "Overall the test accuracy is not as great, which is expected. I can accept a ~90% test accuracy for now, especially since we'll be getting more data over time.  \n",
    "\n",
    "Let's look at the confusion matrix for better clarity."
   ]
  },
  {
   "cell_type": "code",
   "execution_count": 30,
   "metadata": {},
   "outputs": [
    {
     "data": {
      "text/plain": [
       "<Figure size 1000x1000 with 0 Axes>"
      ]
     },
     "metadata": {},
     "output_type": "display_data"
    },
    {
     "data": {
      "image/png": "[encoded data removed]",
      "text/plain": [
       "<Figure size 640x480 with 2 Axes>"
      ]
     },
     "metadata": {},
     "output_type": "display_data"
    }
   ],
   "source": [
    "# create confusion matrix\n",
    "cm = confusion_matrix(y_test.argmax(axis=1), test_pred, labels=np.arange(len(label_encoder.classes_)))\n",
    "\n",
    "# plot confusion matrix\n",
    "plt.figure(figsize=(10,10))\n",
    "disp = ConfusionMatrixDisplay(confusion_matrix=cm, display_labels=label_encoder.classes_)\n",
    "disp.plot(cmap=plt.cm.Blues)\n",
    "plt.title('Confusion Matrix')\n",
    "plt.xticks(rotation=90)\n",
    "plt.show()"
   ]
  },
  {
   "cell_type": "code",
   "execution_count": 31,
   "metadata": {},
   "outputs": [
    {
     "name": "stdout",
     "output_type": "stream",
     "text": [
      "                precision    recall  f1-score   support\n",
      "\n",
      "          debt       1.00      1.00      1.00         6\n",
      "        dining       0.93      0.96      0.94       160\n",
      "     education       0.25      1.00      0.40         1\n",
      " entertainment       1.00      0.52      0.69        21\n",
      "          fees       0.00      0.00      0.00         1\n",
      "     groceries       0.76      0.87      0.81        15\n",
      "    healthcare       0.00      0.00      0.00         0\n",
      "       housing       1.00      0.67      0.80         3\n",
      "        ignore       0.94      0.97      0.95        32\n",
      "        income       1.00      0.83      0.91         6\n",
      "     insurance       1.00      1.00      1.00         2\n",
      "   investments       0.83      1.00      0.91         5\n",
      "          misc       0.00      0.00      0.00         1\n",
      " personal_care       0.89      0.94      0.92        18\n",
      "      shopping       0.82      0.88      0.85        16\n",
      " subscriptions       1.00      1.00      1.00         7\n",
      "transportation       0.91      0.93      0.92        44\n",
      "        travel       0.82      0.69      0.75        13\n",
      "     utilities       0.79      0.79      0.79        14\n",
      "\n",
      "      accuracy                           0.90       365\n",
      "     macro avg       0.73      0.74      0.72       365\n",
      "  weighted avg       0.91      0.90      0.90       365\n",
      "\n"
     ]
    }
   ],
   "source": [
    "# print report to view precision, recall, and f1-score\n",
    "print(classification_report(\n",
    "    y_test.argmax(axis=1), \n",
    "    test_pred,\n",
    "    labels=np.arange(len(label_encoder.classes_)),\n",
    "    target_names=label_encoder.classes_,\n",
    "    zero_division=0\n",
    "    ))"
   ]
  },
  {
   "cell_type": "markdown",
   "metadata": {},
   "source": [
    "Overall, it seems that my model does perfectly with the debt, insurance, and subscriptions categories and does really poorly with the education, entertainment and travel categories. The model did not even predict the fees, misc, or healthcare categores.  \n",
    "\n",
    "Fees, misc, healthcare, and education all make sense as these have EXTREMELY few datapoints to go off of.  \n",
    "\n",
    "The travel is being mistaken as the dining category, which also makes sense as I may have mistakenly labelled some dining purchases as travel purchases while I was travelling. Either way, I'm okay with mistaking these two categories from one another.  \n",
    "\n",
    "Now entertainment is interesting because there is a decent amount of data available for training so I'll take a look at that one."
   ]
  },
  {
   "cell_type": "code",
   "execution_count": null,
   "metadata": {},
   "outputs": [],
   "source": [
    "pd.set_option('display.max_colwidth', None)\n",
    "\n",
    "# put the predictions and labels into the original DataFrame to see the data alongside with the predictions\n",
    "test_scaled['label_pred'] = label_encoder.classes_[test_pred]\n",
    "test_scaled['labels'] = label_encoder.classes_[y_test.argmax(axis=1)]\n",
    "\n",
    "# find the labels marked as 'entertainment' and where the predictions and the labels don't match \n",
    "test_scaled[(test_scaled['labels'] != test_scaled['label_pred']) & (test_scaled['labels']=='entertainment')][['combined_text', 'labels', 'label_pred']]"
   ]
  },
  {
   "cell_type": "markdown",
   "metadata": {},
   "source": [
    "It seems that the combined_text isn't taking into account emojis, which is quite prevalent in venmo transactions and so it's just assuming that venmo requests are dining, which makes sense.  \n",
    "\n",
    "the other ones that it got wrong was that it saw the word restaurant and assumed it was for dining (which makes sense); however, for example Paper Plane or Emporium are bars and I categorized it as entertainment as I didn't really eat there. Either way, it is interesting that it could still understand the words and label it as dining. I won't fault the model for mixing those up."
   ]
  },
  {
   "cell_type": "markdown",
   "metadata": {},
   "source": [
    "# Next Steps  \n",
    "\n",
    "Overall, I think this classifier was a success! I will continue to update it; however, the next steps are as follows:  \n",
    "\n",
    "1. Refactor this code so it can run automatically.  \n",
    "2. Create a dashboard app to see all of the data easily and be able to retrain the model on a regular basis.  \n",
    "3. Collect more data and retrain.  \n",
    "4. Repeat and Repeat."
   ]
  }
 ],
 "metadata": {
  "kernelspec": {
   "display_name": "venv",
   "language": "python",
   "name": "python3"
  },
  "language_info": {
   "codemirror_mode": {
    "name": "ipython",
    "version": 3
   },
   "file_extension": ".py",
   "mimetype": "text/x-python",
   "name": "python",
   "nbconvert_exporter": "python",
   "pygments_lexer": "ipython3",
   "version": "3.7.4"
  }
 },
 "nbformat": 4,
 "nbformat_minor": 2
}
